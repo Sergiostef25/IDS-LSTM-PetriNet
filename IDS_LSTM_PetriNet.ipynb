{
  "cells": [
    {
      "cell_type": "markdown",
      "metadata": {
        "id": "view-in-github",
        "colab_type": "text"
      },
      "source": [
        "<a href=\"https://colab.research.google.com/github/Sergiostef25/IDS-LSTM-PetriNet/blob/main/IDS_LSTM_PetriNet.ipynb\" target=\"_parent\"><img src=\"https://colab.research.google.com/assets/colab-badge.svg\" alt=\"Open In Colab\"/></a>"
      ]
    },
    {
      "cell_type": "markdown",
      "source": [
        "# Caricamento Dataset IDS 2018 Intrusion CSV"
      ],
      "metadata": {
        "id": "UabXv5qHkIkx"
      }
    },
    {
      "cell_type": "code",
      "execution_count": null,
      "metadata": {
        "id": "lgv_jaKa-sX3"
      },
      "outputs": [],
      "source": [
        "import pandas as pd\n",
        "import numpy as np\n",
        "from sklearn.preprocessing import StandardScaler\n",
        "from sklearn.model_selection import train_test_split\n",
        "import seaborn as sns\n",
        "import matplotlib.pyplot as plt\n",
        "from tensorflow import keras\n",
        "from tensorflow.keras.models import Sequential\n",
        "from tensorflow.keras.layers import *\n",
        "from tensorflow.keras.callbacks import ModelCheckpoint\n",
        "from tensorflow.keras.losses import MeanSquaredError\n",
        "from tensorflow.keras.metrics import RootMeanSquaredError\n",
        "from tensorflow.keras.optimizers import Adam\n",
        "from keras.callbacks import CSVLogger\n",
        "from sklearn.metrics import accuracy_score as acc\n",
        "from sklearn.metrics import confusion_matrix, classification_report, ConfusionMatrixDisplay\n",
        "from sklearn.decomposition import PCA\n",
        "import time\n",
        "import datetime\n",
        "from tqdm.auto import tqdm\n",
        "import random"
      ]
    },
    {
      "cell_type": "code",
      "source": [
        "#from google.colab import drive\n",
        "#drive.mount('/content/drive')"
      ],
      "metadata": {
        "id": "yr1QnxLhGuvs"
      },
      "execution_count": null,
      "outputs": []
    },
    {
      "cell_type": "code",
      "source": [
        "def df_to_X_y(df, window_size=50):\n",
        "  df_as_np = df.to_numpy()\n",
        "  X = []\n",
        "  y = []\n",
        "  for i in range(len(df_as_np)-window_size):\n",
        "    row = [r for r in df_as_np[i:i+window_size]]\n",
        "    X.append(row)\n",
        "    label = df_as_np[i+window_size][-1]\n",
        "    y.append(label)\n",
        "  return np.array(X), np.array(y)"
      ],
      "metadata": {
        "id": "hjQECEw6Mcvz"
      },
      "execution_count": null,
      "outputs": []
    },
    {
      "cell_type": "markdown",
      "metadata": {
        "id": "zVYsKdgc-sX2"
      },
      "source": [
        "# Preprocessing"
      ]
    },
    {
      "cell_type": "code",
      "source": [
        "#!gdown own_kaggle_api_key\n",
        "!mkdir ~/.kaggle\n",
        "!cp kaggle.json ~/.kaggle/\n",
        "!chmod 600 ~/.kaggle/kaggle.json\n",
        "!kaggle datasets download solarmainframe/ids-intrusion-csv\n",
        "!unzip ids-intrusion-csv.zip\n",
        "!rm ids-intrusion-csv.zip"
      ],
      "metadata": {
        "colab": {
          "base_uri": "https://localhost:8080/"
        },
        "id": "tUuJCFLvEWdL",
        "outputId": "1ad8eb4a-f2fd-41f2-8b78-8eeb13ae0cc8"
      },
      "execution_count": null,
      "outputs": [
        {
          "output_type": "stream",
          "name": "stdout",
          "text": [
            "Downloading...\n",
            "From: https://drive.google.com/uc?id=1Duc3duu_g47yimOcPTRTunPOioCTcXIT\n",
            "To: /content/kaggle.json\n",
            "100% 72.0/72.0 [00:00<00:00, 152kB/s]\n",
            "Downloading ids-intrusion-csv.zip to /content\n",
            "100% 1.60G/1.60G [00:56<00:00, 36.7MB/s]\n",
            "100% 1.60G/1.60G [00:56<00:00, 30.5MB/s]\n",
            "Archive:  ids-intrusion-csv.zip\n",
            "  inflating: 02-14-2018.csv          \n",
            "  inflating: 02-15-2018.csv          \n",
            "  inflating: 02-16-2018.csv          \n",
            "  inflating: 02-20-2018.csv          \n",
            "  inflating: 02-21-2018.csv          \n",
            "  inflating: 02-22-2018.csv          \n",
            "  inflating: 02-23-2018.csv          \n",
            "  inflating: 02-28-2018.csv          \n",
            "  inflating: 03-01-2018.csv          \n",
            "  inflating: 03-02-2018.csv          \n"
          ]
        }
      ]
    },
    {
      "cell_type": "markdown",
      "metadata": {
        "id": "iJ7aiVYO-sX2"
      },
      "source": [
        "## Data Cleaning"
      ]
    },
    {
      "cell_type": "code",
      "execution_count": null,
      "metadata": {
        "id": "BU5us19g-sX3",
        "colab": {
          "base_uri": "https://localhost:8080/"
        },
        "outputId": "a45b525d-c327-42a8-f2b5-e641550651b4"
      },
      "outputs": [
        {
          "output_type": "stream",
          "name": "stderr",
          "text": [
            "/usr/local/lib/python3.8/dist-packages/IPython/core/interactiveshell.py:3326: DtypeWarning: Columns (0,1,3,4,5,6,7,8,9,10,11,12,13,14,15,16,17,18,19,20,21,22,23,24,25,26,27,28,29,30,31,32,33,34,35,36,37,38,39,40,41,42,43,44,45,46,47,48,49,50,51,52,53,54,55,56,57,58,59,60,61,62,63,64,65,66,67,68,69,70,71,72,73,74,75,76,77,78) have mixed types.Specify dtype option on import or set low_memory=False.\n",
            "  exec(code_obj, self.user_global_ns, self.user_ns)\n"
          ]
        }
      ],
      "source": [
        "df = pd.read_csv('02-16-2018.csv')\n",
        "df = df.loc[df.Timestamp.str.startswith(\"16\")] #inserire il giorno del csv caricato\n",
        "df.sort_values(by=['Timestamp'],inplace=True,ignore_index=True)"
      ]
    },
    {
      "cell_type": "code",
      "source": [
        "num_norm = df.loc[df.Label == 'Benign'].shape[0]\n",
        "num_att = df.loc[df.Label != 'Benign'].shape[0]\n",
        "print(\"Pacchetti Normali: \",num_norm)\n",
        "print(\"Pacchetti Attacco: \",num_att)"
      ],
      "metadata": {
        "colab": {
          "base_uri": "https://localhost:8080/"
        },
        "id": "FxlmbGIbAatM",
        "outputId": "b9ba8e7e-ab26-42b8-df1c-42fb3ce9992f"
      },
      "execution_count": null,
      "outputs": [
        {
          "output_type": "stream",
          "name": "stdout",
          "text": [
            "Pacchetti Normali:  446772\n",
            "Pacchetti Attacco:  601802\n"
          ]
        }
      ]
    },
    {
      "cell_type": "code",
      "source": [
        "df_benign = df.loc[df.Label == 'Benign']\n",
        "df_attack = df.loc[df.Label != 'Benign']\n",
        "\n",
        "att_norm = df_attack.shape[0]/df_benign.shape[0]\n",
        "\n",
        "if att_norm > 1:\n",
        "  df_attack = df_attack.iloc[:df_benign.shape[0]]\n",
        "else:\n",
        "    df_benign = df_benign.iloc[:df_attack.shape[0]]\n",
        "\n",
        "print(\"Vecchio Attacco/Normali = \"+str(att_norm))\n",
        "print(\"Nuovo Attacco/Normali = \"+str(df_attack.shape[0]/df_benign.shape[0]))\n",
        "df = df_benign.append(df_attack, ignore_index=True)"
      ],
      "metadata": {
        "colab": {
          "base_uri": "https://localhost:8080/"
        },
        "id": "0j7bQ0dJBLxT",
        "outputId": "17741d86-6550-404d-f5ed-f7ff7eed77a8"
      },
      "execution_count": null,
      "outputs": [
        {
          "output_type": "stream",
          "name": "stdout",
          "text": [
            "Vecchio Attacco/Normali = 1.347000259640264\n",
            "Nuovo Attacco/Normali = 1.0\n"
          ]
        }
      ]
    },
    {
      "cell_type": "code",
      "source": [
        "df.shape"
      ],
      "metadata": {
        "colab": {
          "base_uri": "https://localhost:8080/"
        },
        "id": "Ls5lOIQnBiKR",
        "outputId": "9749d4b8-7258-4163-b315-35fc86f31a1d"
      },
      "execution_count": null,
      "outputs": [
        {
          "output_type": "execute_result",
          "data": {
            "text/plain": [
              "(893544, 80)"
            ]
          },
          "metadata": {},
          "execution_count": 8
        }
      ]
    },
    {
      "cell_type": "code",
      "source": [
        "df.sort_values(by=['Timestamp'],inplace=True,ignore_index=True)"
      ],
      "metadata": {
        "id": "nCb4w4jjBrQK"
      },
      "execution_count": null,
      "outputs": []
    },
    {
      "cell_type": "code",
      "execution_count": null,
      "metadata": {
        "colab": {
          "base_uri": "https://localhost:8080/"
        },
        "id": "d0aUCiew8Mim",
        "outputId": "6402ec42-f029-4350-ffec-a8f0f8e68783"
      },
      "outputs": [
        {
          "output_type": "stream",
          "name": "stdout",
          "text": [
            "<class 'pandas.core.frame.DataFrame'>\n",
            "RangeIndex: 893544 entries, 0 to 893543\n",
            "Data columns (total 80 columns):\n",
            " #   Column             Non-Null Count   Dtype \n",
            "---  ------             --------------   ----- \n",
            " 0   Dst Port           893544 non-null  object\n",
            " 1   Protocol           893544 non-null  object\n",
            " 2   Timestamp          893544 non-null  object\n",
            " 3   Flow Duration      893544 non-null  object\n",
            " 4   Tot Fwd Pkts       893544 non-null  object\n",
            " 5   Tot Bwd Pkts       893544 non-null  object\n",
            " 6   TotLen Fwd Pkts    893544 non-null  object\n",
            " 7   TotLen Bwd Pkts    893544 non-null  object\n",
            " 8   Fwd Pkt Len Max    893544 non-null  object\n",
            " 9   Fwd Pkt Len Min    893544 non-null  object\n",
            " 10  Fwd Pkt Len Mean   893544 non-null  object\n",
            " 11  Fwd Pkt Len Std    893544 non-null  object\n",
            " 12  Bwd Pkt Len Max    893544 non-null  object\n",
            " 13  Bwd Pkt Len Min    893544 non-null  object\n",
            " 14  Bwd Pkt Len Mean   893544 non-null  object\n",
            " 15  Bwd Pkt Len Std    893544 non-null  object\n",
            " 16  Flow Byts/s        893544 non-null  object\n",
            " 17  Flow Pkts/s        893544 non-null  object\n",
            " 18  Flow IAT Mean      893544 non-null  object\n",
            " 19  Flow IAT Std       893544 non-null  object\n",
            " 20  Flow IAT Max       893544 non-null  object\n",
            " 21  Flow IAT Min       893544 non-null  object\n",
            " 22  Fwd IAT Tot        893544 non-null  object\n",
            " 23  Fwd IAT Mean       893544 non-null  object\n",
            " 24  Fwd IAT Std        893544 non-null  object\n",
            " 25  Fwd IAT Max        893544 non-null  object\n",
            " 26  Fwd IAT Min        893544 non-null  object\n",
            " 27  Bwd IAT Tot        893544 non-null  object\n",
            " 28  Bwd IAT Mean       893544 non-null  object\n",
            " 29  Bwd IAT Std        893544 non-null  object\n",
            " 30  Bwd IAT Max        893544 non-null  object\n",
            " 31  Bwd IAT Min        893544 non-null  object\n",
            " 32  Fwd PSH Flags      893544 non-null  object\n",
            " 33  Bwd PSH Flags      893544 non-null  object\n",
            " 34  Fwd URG Flags      893544 non-null  object\n",
            " 35  Bwd URG Flags      893544 non-null  object\n",
            " 36  Fwd Header Len     893544 non-null  object\n",
            " 37  Bwd Header Len     893544 non-null  object\n",
            " 38  Fwd Pkts/s         893544 non-null  object\n",
            " 39  Bwd Pkts/s         893544 non-null  object\n",
            " 40  Pkt Len Min        893544 non-null  object\n",
            " 41  Pkt Len Max        893544 non-null  object\n",
            " 42  Pkt Len Mean       893544 non-null  object\n",
            " 43  Pkt Len Std        893544 non-null  object\n",
            " 44  Pkt Len Var        893544 non-null  object\n",
            " 45  FIN Flag Cnt       893544 non-null  object\n",
            " 46  SYN Flag Cnt       893544 non-null  object\n",
            " 47  RST Flag Cnt       893544 non-null  object\n",
            " 48  PSH Flag Cnt       893544 non-null  object\n",
            " 49  ACK Flag Cnt       893544 non-null  object\n",
            " 50  URG Flag Cnt       893544 non-null  object\n",
            " 51  CWE Flag Count     893544 non-null  object\n",
            " 52  ECE Flag Cnt       893544 non-null  object\n",
            " 53  Down/Up Ratio      893544 non-null  object\n",
            " 54  Pkt Size Avg       893544 non-null  object\n",
            " 55  Fwd Seg Size Avg   893544 non-null  object\n",
            " 56  Bwd Seg Size Avg   893544 non-null  object\n",
            " 57  Fwd Byts/b Avg     893544 non-null  object\n",
            " 58  Fwd Pkts/b Avg     893544 non-null  object\n",
            " 59  Fwd Blk Rate Avg   893544 non-null  object\n",
            " 60  Bwd Byts/b Avg     893544 non-null  object\n",
            " 61  Bwd Pkts/b Avg     893544 non-null  object\n",
            " 62  Bwd Blk Rate Avg   893544 non-null  object\n",
            " 63  Subflow Fwd Pkts   893544 non-null  object\n",
            " 64  Subflow Fwd Byts   893544 non-null  object\n",
            " 65  Subflow Bwd Pkts   893544 non-null  object\n",
            " 66  Subflow Bwd Byts   893544 non-null  object\n",
            " 67  Init Fwd Win Byts  893544 non-null  object\n",
            " 68  Init Bwd Win Byts  893544 non-null  object\n",
            " 69  Fwd Act Data Pkts  893544 non-null  object\n",
            " 70  Fwd Seg Size Min   893544 non-null  object\n",
            " 71  Active Mean        893544 non-null  object\n",
            " 72  Active Std         893544 non-null  object\n",
            " 73  Active Max         893544 non-null  object\n",
            " 74  Active Min         893544 non-null  object\n",
            " 75  Idle Mean          893544 non-null  object\n",
            " 76  Idle Std           893544 non-null  object\n",
            " 77  Idle Max           893544 non-null  object\n",
            " 78  Idle Min           893544 non-null  object\n",
            " 79  Label              893544 non-null  object\n",
            "dtypes: object(80)\n",
            "memory usage: 545.4+ MB\n"
          ]
        }
      ],
      "source": [
        "df.info()"
      ]
    },
    {
      "cell_type": "code",
      "execution_count": null,
      "metadata": {
        "colab": {
          "base_uri": "https://localhost:8080/"
        },
        "id": "e7nNh27O8VeK",
        "outputId": "721666cb-6fc1-4e9f-c532-2d95ab385156"
      },
      "outputs": [
        {
          "output_type": "execute_result",
          "data": {
            "text/plain": [
              "Dst Port         object\n",
              "Protocol         object\n",
              "Timestamp        object\n",
              "Flow Duration    object\n",
              "Tot Fwd Pkts     object\n",
              "                  ...  \n",
              "Idle Mean        object\n",
              "Idle Std         object\n",
              "Idle Max         object\n",
              "Idle Min         object\n",
              "Label            object\n",
              "Length: 80, dtype: object"
            ]
          },
          "metadata": {},
          "execution_count": 11
        }
      ],
      "source": [
        "df.dtypes"
      ]
    },
    {
      "cell_type": "code",
      "execution_count": null,
      "metadata": {
        "colab": {
          "base_uri": "https://localhost:8080/"
        },
        "id": "ES_0SteFftMG",
        "outputId": "634ac731-d18c-462b-8413-bda3761e0d7b"
      },
      "outputs": [
        {
          "output_type": "execute_result",
          "data": {
            "text/plain": [
              "array(['Benign', 'DoS attacks-Hulk'], dtype=object)"
            ]
          },
          "metadata": {},
          "execution_count": 12
        }
      ],
      "source": [
        "df.Label.unique()"
      ]
    },
    {
      "cell_type": "code",
      "execution_count": null,
      "metadata": {
        "colab": {
          "base_uri": "https://localhost:8080/"
        },
        "id": "8SqRMh-S9AIL",
        "outputId": "33e19fd6-7058-4eef-cf5e-d2c111a47c16"
      },
      "outputs": [
        {
          "output_type": "execute_result",
          "data": {
            "text/plain": [
              "array([0, 1])"
            ]
          },
          "metadata": {},
          "execution_count": 13
        }
      ],
      "source": [
        "df.Label = df.Label.map(lambda a: 0 if a == 'Benign' else 1)\n",
        "df.Label = pd.to_numeric(df.Label)\n",
        "df.Label.unique()"
      ]
    },
    {
      "cell_type": "code",
      "execution_count": null,
      "metadata": {
        "id": "pOb110zs-O5r"
      },
      "outputs": [],
      "source": [
        "df.isnull()"
      ]
    },
    {
      "cell_type": "code",
      "execution_count": null,
      "metadata": {
        "id": "hWIJQLUA-RA0"
      },
      "outputs": [],
      "source": [
        "pd.Categorical(df['Flow Byts/s'])"
      ]
    },
    {
      "cell_type": "code",
      "execution_count": null,
      "metadata": {
        "id": "uORIXB-j-UUe"
      },
      "outputs": [],
      "source": [
        "pd.Categorical(df['Flow Pkts/s'])\n"
      ]
    },
    {
      "cell_type": "code",
      "execution_count": null,
      "metadata": {
        "id": "Mte9ogy9-jsb"
      },
      "outputs": [],
      "source": [
        "df.drop(['Bwd PSH Flags','Fwd URG Flags','Bwd URG Flags','CWE Flag Count','Fwd Byts/b Avg','Fwd Pkts/b Avg','Fwd Blk Rate Avg','Bwd Byts/b Avg','Bwd Pkts/b Avg','Bwd Blk Rate Avg'],axis=1,inplace=True)\n"
      ]
    },
    {
      "cell_type": "code",
      "execution_count": null,
      "metadata": {
        "id": "HbPA0HEk-sUL"
      },
      "outputs": [],
      "source": [
        "df.isnull().sum()"
      ]
    },
    {
      "cell_type": "code",
      "execution_count": null,
      "metadata": {
        "id": "E8ghXWUy_S7l"
      },
      "outputs": [],
      "source": [
        "df['Flow Pkts/s']= df['Flow Pkts/s'].fillna(0)  # removing NAN and INF values\n",
        "df['Flow Byts/s']= df['Flow Byts/s'].fillna(0)\n",
        "df['Flow Pkts/s']= df['Flow Pkts/s'].replace(np.Infinity,1)\n",
        "df['Flow Byts/s']= df['Flow Byts/s'].replace(np.Infinity,1)\n",
        "df['Flow Pkts/s']= df['Flow Pkts/s'].replace('Infinity',1)\n",
        "df['Flow Byts/s']= df['Flow Byts/s'].replace('Infinity',1)"
      ]
    },
    {
      "cell_type": "code",
      "execution_count": null,
      "metadata": {
        "id": "HKxiF3s9_tWm"
      },
      "outputs": [],
      "source": [
        "pd.Categorical(df['Flow Byts/s'])"
      ]
    },
    {
      "cell_type": "code",
      "execution_count": null,
      "metadata": {
        "id": "sXkwHs-F_t44"
      },
      "outputs": [],
      "source": [
        " pd.Categorical(df['Flow Pkts/s'])"
      ]
    },
    {
      "cell_type": "code",
      "source": [
        "df.drop('Timestamp', axis=1, inplace=True)"
      ],
      "metadata": {
        "id": "oEqONoAbFz7A"
      },
      "execution_count": null,
      "outputs": []
    },
    {
      "cell_type": "code",
      "source": [
        "X_train, X_test, y_train, y_test = train_test_split(df.iloc[:,:-1], df[['Label']], test_size=0.15, shuffle=False)"
      ],
      "metadata": {
        "id": "ECnO1qnt99jX"
      },
      "execution_count": null,
      "outputs": []
    },
    {
      "cell_type": "code",
      "source": [
        "X_train.head()"
      ],
      "metadata": {
        "id": "6V4tybmdBg7x"
      },
      "execution_count": null,
      "outputs": []
    },
    {
      "cell_type": "code",
      "source": [
        "sc = StandardScaler()\n",
        "for column in X_train:\n",
        "  X_train[column] = sc.fit_transform(X_train[column].values.reshape(-1,1))\n",
        "for column in X_test:\n",
        "  X_test[column] = sc.transform(X_test[column].values.reshape(-1,1))"
      ],
      "metadata": {
        "id": "Qo2ohg_nALmP"
      },
      "execution_count": null,
      "outputs": []
    },
    {
      "cell_type": "markdown",
      "source": [
        "## Correlation Matrix"
      ],
      "metadata": {
        "id": "r3-T2vmoYpoT"
      }
    },
    {
      "cell_type": "code",
      "source": [
        "correlated_features = set()\n",
        "correlation_matrix = X_train.corr()"
      ],
      "metadata": {
        "id": "-uuD91G0Yngd"
      },
      "execution_count": null,
      "outputs": []
    },
    {
      "cell_type": "code",
      "source": [
        "for i in range(len(correlation_matrix.columns)):\n",
        "    for j in range(i):\n",
        "        if abs(correlation_matrix.iloc[i, j]) > 0.8:\n",
        "            colname = correlation_matrix.columns[i]\n",
        "            correlated_features.add(colname)"
      ],
      "metadata": {
        "id": "LU85O4FVY4t8"
      },
      "execution_count": null,
      "outputs": []
    },
    {
      "cell_type": "code",
      "source": [
        "len(correlated_features)"
      ],
      "metadata": {
        "id": "2FY01pbEZNhz"
      },
      "execution_count": null,
      "outputs": []
    },
    {
      "cell_type": "code",
      "source": [
        "print(correlated_features)"
      ],
      "metadata": {
        "id": "HG1dWgVJZRam"
      },
      "execution_count": null,
      "outputs": []
    },
    {
      "cell_type": "code",
      "source": [
        "X_train.drop(labels=correlated_features, axis=1, inplace=True)\n",
        "X_test.drop(labels=correlated_features, axis=1, inplace=True)"
      ],
      "metadata": {
        "id": "CF76OQ3aZZJi"
      },
      "execution_count": null,
      "outputs": []
    },
    {
      "cell_type": "code",
      "execution_count": null,
      "metadata": {
        "id": "cTXUW46Lg5hd"
      },
      "outputs": [],
      "source": [
        "X_train.head()"
      ]
    },
    {
      "cell_type": "code",
      "execution_count": null,
      "metadata": {
        "id": "EDNxSHU3BZXh"
      },
      "outputs": [],
      "source": [
        "print(X_train.shape)\n",
        "print(X_test.shape)"
      ]
    },
    {
      "cell_type": "markdown",
      "source": [
        "## Principal Component Analysis"
      ],
      "metadata": {
        "id": "IVE0EB0aYTsP"
      }
    },
    {
      "cell_type": "code",
      "source": [
        "pca = PCA()\n",
        "principalComponents = pca.fit_transform(X_train)"
      ],
      "metadata": {
        "id": "t4T3AQO94v-6"
      },
      "execution_count": null,
      "outputs": []
    },
    {
      "cell_type": "code",
      "source": [
        "# Calculate the variance explained by priciple components\n",
        "print('Variance of each component:', pca.explained_variance_ratio_)\n",
        "print('\\n Total Variance Explained:', round(sum(list(pca.explained_variance_ratio_))*100, 2))"
      ],
      "metadata": {
        "colab": {
          "base_uri": "https://localhost:8080/"
        },
        "id": "1DG0vD1D6NgH",
        "outputId": "3405aaec-4af2-4bd4-cf27-a8380412f2fc"
      },
      "execution_count": null,
      "outputs": [
        {
          "output_type": "stream",
          "name": "stdout",
          "text": [
            "Variance of each component: [1.48324372e-01 1.23027377e-01 1.17367553e-01 1.08688257e-01\n",
            " 8.69839642e-02 7.63911409e-02 6.06338662e-02 5.17829888e-02\n",
            " 4.46553062e-02 3.78001121e-02 3.74885160e-02 3.43221294e-02\n",
            " 2.49405757e-02 1.76886119e-02 1.55182988e-02 1.43869311e-02\n",
            " 4.53102852e-35 2.35959783e-37]\n",
            "\n",
            " Total Variance Explained: 100.0\n"
          ]
        }
      ]
    },
    {
      "cell_type": "code",
      "source": [
        "# Determine explained variance using explained_variance_ration_ attribute\n",
        "#\n",
        "exp_var_pca = pca.explained_variance_ratio_\n",
        "#\n",
        "# Cumulative sum of eigenvalues; This will be used to create step plot\n",
        "# for visualizing the variance explained by each principal component.\n",
        "#\n",
        "cum_sum_eigenvalues = np.cumsum(exp_var_pca)\n",
        "#\n",
        "# Create the visualization plot\n",
        "#\n",
        "plt.bar(range(0,len(exp_var_pca)), exp_var_pca, alpha=0.5, align='center', label='Individual explained variance')\n",
        "plt.step(range(0,len(cum_sum_eigenvalues)), cum_sum_eigenvalues, where='mid',label='Cumulative explained variance')\n",
        "plt.ylabel('Explained variance ratio')\n",
        "plt.xlabel('Principal component index')\n",
        "plt.legend(loc='best')\n",
        "plt.tight_layout()\n",
        "plt.show()"
      ],
      "metadata": {
        "colab": {
          "base_uri": "https://localhost:8080/",
          "height": 297
        },
        "id": "gY4bxAVn8qHV",
        "outputId": "14b96590-da82-4ea4-9198-fc971ee8af7b"
      },
      "execution_count": null,
      "outputs": [
        {
          "output_type": "display_data",
          "data": {
            "text/plain": [
              "<Figure size 432x288 with 1 Axes>"
            ],
            "image/png": "[encoded data removed]"
          },
          "metadata": {
            "needs_background": "light"
          }
        }
      ]
    },
    {
      "cell_type": "code",
      "source": [
        "pca_def = PCA(n_components=13)\n",
        "principalComponents_train = pca_def.fit_transform(X_train)\n",
        "df_pca_train = pd.DataFrame(data = principalComponents_train)\n",
        "df_pca_train['Label'] = y_train"
      ],
      "metadata": {
        "id": "pCszDXFU9Ftw"
      },
      "execution_count": null,
      "outputs": []
    },
    {
      "cell_type": "code",
      "source": [
        "df_pca_train"
      ],
      "metadata": {
        "colab": {
          "base_uri": "https://localhost:8080/",
          "height": 424
        },
        "id": "xtLEeopqXmLC",
        "outputId": "bd2caedb-01a1-45d8-a3c6-0292f4be2a60"
      },
      "execution_count": null,
      "outputs": [
        {
          "output_type": "execute_result",
          "data": {
            "text/plain": [
              "               0           1          2           3           4           5  \\\n",
              "0       5.074604    0.162982 -37.948500  -83.421649 -116.180270  -22.494404   \n",
              "1       0.173635    4.461345   1.053695    0.692999   -0.736592   -1.279925   \n",
              "2       5.071693    0.163206 -37.948894  -83.421672 -116.180261  -22.494358   \n",
              "3       2.598003  120.839396  69.087613  171.341563  830.636674  123.686500   \n",
              "4       5.073123    0.163096 -37.948694  -83.421662 -116.180265  -22.494383   \n",
              "...          ...         ...        ...         ...         ...         ...   \n",
              "759507 -0.105447   -0.019767   0.963910   -0.242008   -0.114368    0.408671   \n",
              "759508 -0.105009   -0.020077   0.960488   -0.241214   -0.114432    0.409119   \n",
              "759509 -0.105378   -0.019801   0.963597   -0.241953   -0.114505    0.409508   \n",
              "759510 -0.105037   -0.020057   0.960714   -0.241267   -0.114431    0.409112   \n",
              "759511  0.437123    2.344886  -2.862781    0.928860   -0.786637    4.272121   \n",
              "\n",
              "               6          7           8          9          10         11  \\\n",
              "0       6.406088   6.521164   79.378003  -1.263564  104.454578  21.091575   \n",
              "1      -0.020321  -0.516545    0.632227   0.455594   -0.646437  -0.109694   \n",
              "2       6.406177   6.523266   79.378146  -1.263568  104.453856  21.093984   \n",
              "3       7.649916  14.324288  217.569203 -12.495999  292.079718  60.465977   \n",
              "4       6.406132   6.522233   79.378071  -1.263565  104.454214  21.092801   \n",
              "...          ...        ...         ...        ...         ...        ...   \n",
              "759507 -0.341667   0.038493    0.087475   0.337786   -0.001591   0.008383   \n",
              "759508 -0.344189   0.038837    0.090110   0.337454   -0.003026   0.007585   \n",
              "759509 -0.339269   0.038477    0.087925   0.337379   -0.001902   0.008203   \n",
              "759510 -0.343951   0.038813    0.089942   0.337466   -0.002936   0.007635   \n",
              "759511 -0.725579   0.225197   -1.976828   1.588387    1.228702   0.121261   \n",
              "\n",
              "               12  Label  \n",
              "0        0.653150      0  \n",
              "1       -3.806546      0  \n",
              "2        0.652938      0  \n",
              "3      -22.163114      0  \n",
              "4        0.653048      0  \n",
              "...           ...    ...  \n",
              "759507  -0.078040      1  \n",
              "759508  -0.080469      1  \n",
              "759509  -0.078548      1  \n",
              "759510  -0.080317      1  \n",
              "759511   1.548261      1  \n",
              "\n",
              "[759512 rows x 14 columns]"
            ],
            "text/html": [
              "\n",
              "  <div id=\"df-ab52d22b-7f00-4f91-8064-97542abf318e\">\n",
              "    <div class=\"colab-df-container\">\n",
              "      <div>\n",
              "<style scoped>\n",
              "    .dataframe tbody tr th:only-of-type {\n",
              "        vertical-align: middle;\n",
              "    }\n",
              "\n",
              "    .dataframe tbody tr th {\n",
              "        vertical-align: top;\n",
              "    }\n",
              "\n",
              "    .dataframe thead th {\n",
              "        text-align: right;\n",
              "    }\n",
              "</style>\n",
              "<table border=\"1\" class=\"dataframe\">\n",
              "  <thead>\n",
              "    <tr style=\"text-align: right;\">\n",
              "      <th></th>\n",
              "      <th>0</th>\n",
              "      <th>1</th>\n",
              "      <th>2</th>\n",
              "      <th>3</th>\n",
              "      <th>4</th>\n",
              "      <th>5</th>\n",
              "      <th>6</th>\n",
              "      <th>7</th>\n",
              "      <th>8</th>\n",
              "      <th>9</th>\n",
              "      <th>10</th>\n",
              "      <th>11</th>\n",
              "      <th>12</th>\n",
              "      <th>Label</th>\n",
              "    </tr>\n",
              "  </thead>\n",
              "  <tbody>\n",
              "    <tr>\n",
              "      <th>0</th>\n",
              "      <td>5.074604</td>\n",
              "      <td>0.162982</td>\n",
              "      <td>-37.948500</td>\n",
              "      <td>-83.421649</td>\n",
              "      <td>-116.180270</td>\n",
              "      <td>-22.494404</td>\n",
              "      <td>6.406088</td>\n",
              "      <td>6.521164</td>\n",
              "      <td>79.378003</td>\n",
              "      <td>-1.263564</td>\n",
              "      <td>104.454578</td>\n",
              "      <td>21.091575</td>\n",
              "      <td>0.653150</td>\n",
              "      <td>0</td>\n",
              "    </tr>\n",
              "    <tr>\n",
              "      <th>1</th>\n",
              "      <td>0.173635</td>\n",
              "      <td>4.461345</td>\n",
              "      <td>1.053695</td>\n",
              "      <td>0.692999</td>\n",
              "      <td>-0.736592</td>\n",
              "      <td>-1.279925</td>\n",
              "      <td>-0.020321</td>\n",
              "      <td>-0.516545</td>\n",
              "      <td>0.632227</td>\n",
              "      <td>0.455594</td>\n",
              "      <td>-0.646437</td>\n",
              "      <td>-0.109694</td>\n",
              "      <td>-3.806546</td>\n",
              "      <td>0</td>\n",
              "    </tr>\n",
              "    <tr>\n",
              "      <th>2</th>\n",
              "      <td>5.071693</td>\n",
              "      <td>0.163206</td>\n",
              "      <td>-37.948894</td>\n",
              "      <td>-83.421672</td>\n",
              "      <td>-116.180261</td>\n",
              "      <td>-22.494358</td>\n",
              "      <td>6.406177</td>\n",
              "      <td>6.523266</td>\n",
              "      <td>79.378146</td>\n",
              "      <td>-1.263568</td>\n",
              "      <td>104.453856</td>\n",
              "      <td>21.093984</td>\n",
              "      <td>0.652938</td>\n",
              "      <td>0</td>\n",
              "    </tr>\n",
              "    <tr>\n",
              "      <th>3</th>\n",
              "      <td>2.598003</td>\n",
              "      <td>120.839396</td>\n",
              "      <td>69.087613</td>\n",
              "      <td>171.341563</td>\n",
              "      <td>830.636674</td>\n",
              "      <td>123.686500</td>\n",
              "      <td>7.649916</td>\n",
              "      <td>14.324288</td>\n",
              "      <td>217.569203</td>\n",
              "      <td>-12.495999</td>\n",
              "      <td>292.079718</td>\n",
              "      <td>60.465977</td>\n",
              "      <td>-22.163114</td>\n",
              "      <td>0</td>\n",
              "    </tr>\n",
              "    <tr>\n",
              "      <th>4</th>\n",
              "      <td>5.073123</td>\n",
              "      <td>0.163096</td>\n",
              "      <td>-37.948694</td>\n",
              "      <td>-83.421662</td>\n",
              "      <td>-116.180265</td>\n",
              "      <td>-22.494383</td>\n",
              "      <td>6.406132</td>\n",
              "      <td>6.522233</td>\n",
              "      <td>79.378071</td>\n",
              "      <td>-1.263565</td>\n",
              "      <td>104.454214</td>\n",
              "      <td>21.092801</td>\n",
              "      <td>0.653048</td>\n",
              "      <td>0</td>\n",
              "    </tr>\n",
              "    <tr>\n",
              "      <th>...</th>\n",
              "      <td>...</td>\n",
              "      <td>...</td>\n",
              "      <td>...</td>\n",
              "      <td>...</td>\n",
              "      <td>...</td>\n",
              "      <td>...</td>\n",
              "      <td>...</td>\n",
              "      <td>...</td>\n",
              "      <td>...</td>\n",
              "      <td>...</td>\n",
              "      <td>...</td>\n",
              "      <td>...</td>\n",
              "      <td>...</td>\n",
              "      <td>...</td>\n",
              "    </tr>\n",
              "    <tr>\n",
              "      <th>759507</th>\n",
              "      <td>-0.105447</td>\n",
              "      <td>-0.019767</td>\n",
              "      <td>0.963910</td>\n",
              "      <td>-0.242008</td>\n",
              "      <td>-0.114368</td>\n",
              "      <td>0.408671</td>\n",
              "      <td>-0.341667</td>\n",
              "      <td>0.038493</td>\n",
              "      <td>0.087475</td>\n",
              "      <td>0.337786</td>\n",
              "      <td>-0.001591</td>\n",
              "      <td>0.008383</td>\n",
              "      <td>-0.078040</td>\n",
              "      <td>1</td>\n",
              "    </tr>\n",
              "    <tr>\n",
              "      <th>759508</th>\n",
              "      <td>-0.105009</td>\n",
              "      <td>-0.020077</td>\n",
              "      <td>0.960488</td>\n",
              "      <td>-0.241214</td>\n",
              "      <td>-0.114432</td>\n",
              "      <td>0.409119</td>\n",
              "      <td>-0.344189</td>\n",
              "      <td>0.038837</td>\n",
              "      <td>0.090110</td>\n",
              "      <td>0.337454</td>\n",
              "      <td>-0.003026</td>\n",
              "      <td>0.007585</td>\n",
              "      <td>-0.080469</td>\n",
              "      <td>1</td>\n",
              "    </tr>\n",
              "    <tr>\n",
              "      <th>759509</th>\n",
              "      <td>-0.105378</td>\n",
              "      <td>-0.019801</td>\n",
              "      <td>0.963597</td>\n",
              "      <td>-0.241953</td>\n",
              "      <td>-0.114505</td>\n",
              "      <td>0.409508</td>\n",
              "      <td>-0.339269</td>\n",
              "      <td>0.038477</td>\n",
              "      <td>0.087925</td>\n",
              "      <td>0.337379</td>\n",
              "      <td>-0.001902</td>\n",
              "      <td>0.008203</td>\n",
              "      <td>-0.078548</td>\n",
              "      <td>1</td>\n",
              "    </tr>\n",
              "    <tr>\n",
              "      <th>759510</th>\n",
              "      <td>-0.105037</td>\n",
              "      <td>-0.020057</td>\n",
              "      <td>0.960714</td>\n",
              "      <td>-0.241267</td>\n",
              "      <td>-0.114431</td>\n",
              "      <td>0.409112</td>\n",
              "      <td>-0.343951</td>\n",
              "      <td>0.038813</td>\n",
              "      <td>0.089942</td>\n",
              "      <td>0.337466</td>\n",
              "      <td>-0.002936</td>\n",
              "      <td>0.007635</td>\n",
              "      <td>-0.080317</td>\n",
              "      <td>1</td>\n",
              "    </tr>\n",
              "    <tr>\n",
              "      <th>759511</th>\n",
              "      <td>0.437123</td>\n",
              "      <td>2.344886</td>\n",
              "      <td>-2.862781</td>\n",
              "      <td>0.928860</td>\n",
              "      <td>-0.786637</td>\n",
              "      <td>4.272121</td>\n",
              "      <td>-0.725579</td>\n",
              "      <td>0.225197</td>\n",
              "      <td>-1.976828</td>\n",
              "      <td>1.588387</td>\n",
              "      <td>1.228702</td>\n",
              "      <td>0.121261</td>\n",
              "      <td>1.548261</td>\n",
              "      <td>1</td>\n",
              "    </tr>\n",
              "  </tbody>\n",
              "</table>\n",
              "<p>759512 rows × 14 columns</p>\n",
              "</div>\n",
              "      <button class=\"colab-df-convert\" onclick=\"convertToInteractive('df-ab52d22b-7f00-4f91-8064-97542abf318e')\"\n",
              "              title=\"Convert this dataframe to an interactive table.\"\n",
              "              style=\"display:none;\">\n",
              "        \n",
              "  <svg xmlns=\"http://www.w3.org/2000/svg\" height=\"24px\"viewBox=\"0 0 24 24\"\n",
              "       width=\"24px\">\n",
              "    <path d=\"M0 0h24v24H0V0z\" fill=\"none\"/>\n",
              "    <path d=\"M18.56 5.44l.94 2.06.94-2.06 2.06-.94-2.06-.94-.94-2.06-.94 2.06-2.06.94zm-11 1L8.5 8.5l.94-2.06 2.06-.94-2.06-.94L8.5 2.5l-.94 2.06-2.06.94zm10 10l.94 2.06.94-2.06 2.06-.94-2.06-.94-.94-2.06-.94 2.06-2.06.94z\"/><path d=\"M17.41 7.96l-1.37-1.37c-.4-.4-.92-.59-1.43-.59-.52 0-1.04.2-1.43.59L10.3 9.45l-7.72 7.72c-.78.78-.78 2.05 0 2.83L4 21.41c.39.39.9.59 1.41.59.51 0 1.02-.2 1.41-.59l7.78-7.78 2.81-2.81c.8-.78.8-2.07 0-2.86zM5.41 20L4 18.59l7.72-7.72 1.47 1.35L5.41 20z\"/>\n",
              "  </svg>\n",
              "      </button>\n",
              "      \n",
              "  <style>\n",
              "    .colab-df-container {\n",
              "      display:flex;\n",
              "      flex-wrap:wrap;\n",
              "      gap: 12px;\n",
              "    }\n",
              "\n",
              "    .colab-df-convert {\n",
              "      background-color: #E8F0FE;\n",
              "      border: none;\n",
              "      border-radius: 50%;\n",
              "      cursor: pointer;\n",
              "      display: none;\n",
              "      fill: #1967D2;\n",
              "      height: 32px;\n",
              "      padding: 0 0 0 0;\n",
              "      width: 32px;\n",
              "    }\n",
              "\n",
              "    .colab-df-convert:hover {\n",
              "      background-color: #E2EBFA;\n",
              "      box-shadow: 0px 1px 2px rgba(60, 64, 67, 0.3), 0px 1px 3px 1px rgba(60, 64, 67, 0.15);\n",
              "      fill: #174EA6;\n",
              "    }\n",
              "\n",
              "    [theme=dark] .colab-df-convert {\n",
              "      background-color: #3B4455;\n",
              "      fill: #D2E3FC;\n",
              "    }\n",
              "\n",
              "    [theme=dark] .colab-df-convert:hover {\n",
              "      background-color: #434B5C;\n",
              "      box-shadow: 0px 1px 3px 1px rgba(0, 0, 0, 0.15);\n",
              "      filter: drop-shadow(0px 1px 2px rgba(0, 0, 0, 0.3));\n",
              "      fill: #FFFFFF;\n",
              "    }\n",
              "  </style>\n",
              "\n",
              "      <script>\n",
              "        const buttonEl =\n",
              "          document.querySelector('#df-ab52d22b-7f00-4f91-8064-97542abf318e button.colab-df-convert');\n",
              "        buttonEl.style.display =\n",
              "          google.colab.kernel.accessAllowed ? 'block' : 'none';\n",
              "\n",
              "        async function convertToInteractive(key) {\n",
              "          const element = document.querySelector('#df-ab52d22b-7f00-4f91-8064-97542abf318e');\n",
              "          const dataTable =\n",
              "            await google.colab.kernel.invokeFunction('convertToInteractive',\n",
              "                                                     [key], {});\n",
              "          if (!dataTable) return;\n",
              "\n",
              "          const docLinkHtml = 'Like what you see? Visit the ' +\n",
              "            '<a target=\"_blank\" href=https://colab.research.google.com/notebooks/data_table.ipynb>data table notebook</a>'\n",
              "            + ' to learn more about interactive tables.';\n",
              "          element.innerHTML = '';\n",
              "          dataTable['output_type'] = 'display_data';\n",
              "          await google.colab.output.renderOutput(dataTable, element);\n",
              "          const docLink = document.createElement('div');\n",
              "          docLink.innerHTML = docLinkHtml;\n",
              "          element.appendChild(docLink);\n",
              "        }\n",
              "      </script>\n",
              "    </div>\n",
              "  </div>\n",
              "  "
            ]
          },
          "metadata": {},
          "execution_count": 36
        }
      ]
    },
    {
      "cell_type": "code",
      "source": [
        "principalComponents_test = pca_def.transform(X_test)\n",
        "df_pca_test = pd.DataFrame(data = principalComponents_test)\n",
        "df_pca_test['Label'] = y_test.values"
      ],
      "metadata": {
        "id": "jW51_KIoTgGE"
      },
      "execution_count": null,
      "outputs": []
    },
    {
      "cell_type": "code",
      "source": [
        "df_pca = pd.concat([df_pca_train, df_pca_test])\n",
        "#df_pca.to_csv('/content/drive/MyDrive/Colab Notebooks/df_pca.csv',sep=';', index=False)\n",
        "df_pca"
      ],
      "metadata": {
        "id": "1z4PLKQoYKFS",
        "colab": {
          "base_uri": "https://localhost:8080/",
          "height": 424
        },
        "outputId": "67210574-1074-4abb-d9ee-8c02fc58e27d"
      },
      "execution_count": null,
      "outputs": [
        {
          "output_type": "execute_result",
          "data": {
            "text/plain": [
              "               0           1          2           3           4           5  \\\n",
              "0       5.074604    0.162982 -37.948500  -83.421649 -116.180270  -22.494404   \n",
              "1       0.173635    4.461345   1.053695    0.692999   -0.736592   -1.279925   \n",
              "2       5.071693    0.163206 -37.948894  -83.421672 -116.180261  -22.494358   \n",
              "3       2.598003  120.839396  69.087613  171.341563  830.636674  123.686500   \n",
              "4       5.073123    0.163096 -37.948694  -83.421662 -116.180265  -22.494383   \n",
              "...          ...         ...        ...         ...         ...         ...   \n",
              "134027  0.896607   -1.045407  -8.835351    1.864651   -0.766934    3.502719   \n",
              "134028  0.896603   -1.045407  -8.835356    1.864652   -0.766934    3.502721   \n",
              "134029  0.896603   -1.045407  -8.835354    1.864652   -0.766934    3.502720   \n",
              "134030 -0.163759   -0.288497  -0.587919    0.001121   -0.266168    0.323392   \n",
              "134031 -0.340525   -0.130643   0.230094   -0.166715   -0.211395   -0.042262   \n",
              "\n",
              "               6          7           8          9          10         11  \\\n",
              "0       6.406088   6.521164   79.378003  -1.263564  104.454578  21.091575   \n",
              "1      -0.020321  -0.516545    0.632227   0.455594   -0.646437  -0.109694   \n",
              "2       6.406177   6.523266   79.378146  -1.263568  104.453856  21.093984   \n",
              "3       7.649916  14.324288  217.569203 -12.495999  292.079718  60.465977   \n",
              "4       6.406132   6.522233   79.378071  -1.263565  104.454214  21.092801   \n",
              "...          ...        ...         ...        ...         ...        ...   \n",
              "134027  0.750855   0.753292    7.644504  -1.982376   -4.255222  -2.414346   \n",
              "134028  0.750856   0.753295    7.644508  -1.982377   -4.255226  -2.414344   \n",
              "134029  0.750855   0.753295    7.644506  -1.982377   -4.255224  -2.414343   \n",
              "134030 -0.128520   0.015047    0.759563  -0.181597   -0.355091  -0.092988   \n",
              "134031 -0.199620  -0.011250    0.108968   0.004802    0.044150  -0.006927   \n",
              "\n",
              "               12  Label  \n",
              "0        0.653150      0  \n",
              "1       -3.806546      0  \n",
              "2        0.652938      0  \n",
              "3      -22.163114      0  \n",
              "4        0.653048      0  \n",
              "...           ...    ...  \n",
              "134027  -7.264405      0  \n",
              "134028  -7.264409      0  \n",
              "134029  -7.264407      0  \n",
              "134030  -0.639684      0  \n",
              "134031   0.086332      0  \n",
              "\n",
              "[893544 rows x 14 columns]"
            ],
            "text/html": [
              "\n",
              "  <div id=\"df-00316f8f-ea94-47b5-bac5-f881d6b2c6da\">\n",
              "    <div class=\"colab-df-container\">\n",
              "      <div>\n",
              "<style scoped>\n",
              "    .dataframe tbody tr th:only-of-type {\n",
              "        vertical-align: middle;\n",
              "    }\n",
              "\n",
              "    .dataframe tbody tr th {\n",
              "        vertical-align: top;\n",
              "    }\n",
              "\n",
              "    .dataframe thead th {\n",
              "        text-align: right;\n",
              "    }\n",
              "</style>\n",
              "<table border=\"1\" class=\"dataframe\">\n",
              "  <thead>\n",
              "    <tr style=\"text-align: right;\">\n",
              "      <th></th>\n",
              "      <th>0</th>\n",
              "      <th>1</th>\n",
              "      <th>2</th>\n",
              "      <th>3</th>\n",
              "      <th>4</th>\n",
              "      <th>5</th>\n",
              "      <th>6</th>\n",
              "      <th>7</th>\n",
              "      <th>8</th>\n",
              "      <th>9</th>\n",
              "      <th>10</th>\n",
              "      <th>11</th>\n",
              "      <th>12</th>\n",
              "      <th>Label</th>\n",
              "    </tr>\n",
              "  </thead>\n",
              "  <tbody>\n",
              "    <tr>\n",
              "      <th>0</th>\n",
              "      <td>5.074604</td>\n",
              "      <td>0.162982</td>\n",
              "      <td>-37.948500</td>\n",
              "      <td>-83.421649</td>\n",
              "      <td>-116.180270</td>\n",
              "      <td>-22.494404</td>\n",
              "      <td>6.406088</td>\n",
              "      <td>6.521164</td>\n",
              "      <td>79.378003</td>\n",
              "      <td>-1.263564</td>\n",
              "      <td>104.454578</td>\n",
              "      <td>21.091575</td>\n",
              "      <td>0.653150</td>\n",
              "      <td>0</td>\n",
              "    </tr>\n",
              "    <tr>\n",
              "      <th>1</th>\n",
              "      <td>0.173635</td>\n",
              "      <td>4.461345</td>\n",
              "      <td>1.053695</td>\n",
              "      <td>0.692999</td>\n",
              "      <td>-0.736592</td>\n",
              "      <td>-1.279925</td>\n",
              "      <td>-0.020321</td>\n",
              "      <td>-0.516545</td>\n",
              "      <td>0.632227</td>\n",
              "      <td>0.455594</td>\n",
              "      <td>-0.646437</td>\n",
              "      <td>-0.109694</td>\n",
              "      <td>-3.806546</td>\n",
              "      <td>0</td>\n",
              "    </tr>\n",
              "    <tr>\n",
              "      <th>2</th>\n",
              "      <td>5.071693</td>\n",
              "      <td>0.163206</td>\n",
              "      <td>-37.948894</td>\n",
              "      <td>-83.421672</td>\n",
              "      <td>-116.180261</td>\n",
              "      <td>-22.494358</td>\n",
              "      <td>6.406177</td>\n",
              "      <td>6.523266</td>\n",
              "      <td>79.378146</td>\n",
              "      <td>-1.263568</td>\n",
              "      <td>104.453856</td>\n",
              "      <td>21.093984</td>\n",
              "      <td>0.652938</td>\n",
              "      <td>0</td>\n",
              "    </tr>\n",
              "    <tr>\n",
              "      <th>3</th>\n",
              "      <td>2.598003</td>\n",
              "      <td>120.839396</td>\n",
              "      <td>69.087613</td>\n",
              "      <td>171.341563</td>\n",
              "      <td>830.636674</td>\n",
              "      <td>123.686500</td>\n",
              "      <td>7.649916</td>\n",
              "      <td>14.324288</td>\n",
              "      <td>217.569203</td>\n",
              "      <td>-12.495999</td>\n",
              "      <td>292.079718</td>\n",
              "      <td>60.465977</td>\n",
              "      <td>-22.163114</td>\n",
              "      <td>0</td>\n",
              "    </tr>\n",
              "    <tr>\n",
              "      <th>4</th>\n",
              "      <td>5.073123</td>\n",
              "      <td>0.163096</td>\n",
              "      <td>-37.948694</td>\n",
              "      <td>-83.421662</td>\n",
              "      <td>-116.180265</td>\n",
              "      <td>-22.494383</td>\n",
              "      <td>6.406132</td>\n",
              "      <td>6.522233</td>\n",
              "      <td>79.378071</td>\n",
              "      <td>-1.263565</td>\n",
              "      <td>104.454214</td>\n",
              "      <td>21.092801</td>\n",
              "      <td>0.653048</td>\n",
              "      <td>0</td>\n",
              "    </tr>\n",
              "    <tr>\n",
              "      <th>...</th>\n",
              "      <td>...</td>\n",
              "      <td>...</td>\n",
              "      <td>...</td>\n",
              "      <td>...</td>\n",
              "      <td>...</td>\n",
              "      <td>...</td>\n",
              "      <td>...</td>\n",
              "      <td>...</td>\n",
              "      <td>...</td>\n",
              "      <td>...</td>\n",
              "      <td>...</td>\n",
              "      <td>...</td>\n",
              "      <td>...</td>\n",
              "      <td>...</td>\n",
              "    </tr>\n",
              "    <tr>\n",
              "      <th>134027</th>\n",
              "      <td>0.896607</td>\n",
              "      <td>-1.045407</td>\n",
              "      <td>-8.835351</td>\n",
              "      <td>1.864651</td>\n",
              "      <td>-0.766934</td>\n",
              "      <td>3.502719</td>\n",
              "      <td>0.750855</td>\n",
              "      <td>0.753292</td>\n",
              "      <td>7.644504</td>\n",
              "      <td>-1.982376</td>\n",
              "      <td>-4.255222</td>\n",
              "      <td>-2.414346</td>\n",
              "      <td>-7.264405</td>\n",
              "      <td>0</td>\n",
              "    </tr>\n",
              "    <tr>\n",
              "      <th>134028</th>\n",
              "      <td>0.896603</td>\n",
              "      <td>-1.045407</td>\n",
              "      <td>-8.835356</td>\n",
              "      <td>1.864652</td>\n",
              "      <td>-0.766934</td>\n",
              "      <td>3.502721</td>\n",
              "      <td>0.750856</td>\n",
              "      <td>0.753295</td>\n",
              "      <td>7.644508</td>\n",
              "      <td>-1.982377</td>\n",
              "      <td>-4.255226</td>\n",
              "      <td>-2.414344</td>\n",
              "      <td>-7.264409</td>\n",
              "      <td>0</td>\n",
              "    </tr>\n",
              "    <tr>\n",
              "      <th>134029</th>\n",
              "      <td>0.896603</td>\n",
              "      <td>-1.045407</td>\n",
              "      <td>-8.835354</td>\n",
              "      <td>1.864652</td>\n",
              "      <td>-0.766934</td>\n",
              "      <td>3.502720</td>\n",
              "      <td>0.750855</td>\n",
              "      <td>0.753295</td>\n",
              "      <td>7.644506</td>\n",
              "      <td>-1.982377</td>\n",
              "      <td>-4.255224</td>\n",
              "      <td>-2.414343</td>\n",
              "      <td>-7.264407</td>\n",
              "      <td>0</td>\n",
              "    </tr>\n",
              "    <tr>\n",
              "      <th>134030</th>\n",
              "      <td>-0.163759</td>\n",
              "      <td>-0.288497</td>\n",
              "      <td>-0.587919</td>\n",
              "      <td>0.001121</td>\n",
              "      <td>-0.266168</td>\n",
              "      <td>0.323392</td>\n",
              "      <td>-0.128520</td>\n",
              "      <td>0.015047</td>\n",
              "      <td>0.759563</td>\n",
              "      <td>-0.181597</td>\n",
              "      <td>-0.355091</td>\n",
              "      <td>-0.092988</td>\n",
              "      <td>-0.639684</td>\n",
              "      <td>0</td>\n",
              "    </tr>\n",
              "    <tr>\n",
              "      <th>134031</th>\n",
              "      <td>-0.340525</td>\n",
              "      <td>-0.130643</td>\n",
              "      <td>0.230094</td>\n",
              "      <td>-0.166715</td>\n",
              "      <td>-0.211395</td>\n",
              "      <td>-0.042262</td>\n",
              "      <td>-0.199620</td>\n",
              "      <td>-0.011250</td>\n",
              "      <td>0.108968</td>\n",
              "      <td>0.004802</td>\n",
              "      <td>0.044150</td>\n",
              "      <td>-0.006927</td>\n",
              "      <td>0.086332</td>\n",
              "      <td>0</td>\n",
              "    </tr>\n",
              "  </tbody>\n",
              "</table>\n",
              "<p>893544 rows × 14 columns</p>\n",
              "</div>\n",
              "      <button class=\"colab-df-convert\" onclick=\"convertToInteractive('df-00316f8f-ea94-47b5-bac5-f881d6b2c6da')\"\n",
              "              title=\"Convert this dataframe to an interactive table.\"\n",
              "              style=\"display:none;\">\n",
              "        \n",
              "  <svg xmlns=\"http://www.w3.org/2000/svg\" height=\"24px\"viewBox=\"0 0 24 24\"\n",
              "       width=\"24px\">\n",
              "    <path d=\"M0 0h24v24H0V0z\" fill=\"none\"/>\n",
              "    <path d=\"M18.56 5.44l.94 2.06.94-2.06 2.06-.94-2.06-.94-.94-2.06-.94 2.06-2.06.94zm-11 1L8.5 8.5l.94-2.06 2.06-.94-2.06-.94L8.5 2.5l-.94 2.06-2.06.94zm10 10l.94 2.06.94-2.06 2.06-.94-2.06-.94-.94-2.06-.94 2.06-2.06.94z\"/><path d=\"M17.41 7.96l-1.37-1.37c-.4-.4-.92-.59-1.43-.59-.52 0-1.04.2-1.43.59L10.3 9.45l-7.72 7.72c-.78.78-.78 2.05 0 2.83L4 21.41c.39.39.9.59 1.41.59.51 0 1.02-.2 1.41-.59l7.78-7.78 2.81-2.81c.8-.78.8-2.07 0-2.86zM5.41 20L4 18.59l7.72-7.72 1.47 1.35L5.41 20z\"/>\n",
              "  </svg>\n",
              "      </button>\n",
              "      \n",
              "  <style>\n",
              "    .colab-df-container {\n",
              "      display:flex;\n",
              "      flex-wrap:wrap;\n",
              "      gap: 12px;\n",
              "    }\n",
              "\n",
              "    .colab-df-convert {\n",
              "      background-color: #E8F0FE;\n",
              "      border: none;\n",
              "      border-radius: 50%;\n",
              "      cursor: pointer;\n",
              "      display: none;\n",
              "      fill: #1967D2;\n",
              "      height: 32px;\n",
              "      padding: 0 0 0 0;\n",
              "      width: 32px;\n",
              "    }\n",
              "\n",
              "    .colab-df-convert:hover {\n",
              "      background-color: #E2EBFA;\n",
              "      box-shadow: 0px 1px 2px rgba(60, 64, 67, 0.3), 0px 1px 3px 1px rgba(60, 64, 67, 0.15);\n",
              "      fill: #174EA6;\n",
              "    }\n",
              "\n",
              "    [theme=dark] .colab-df-convert {\n",
              "      background-color: #3B4455;\n",
              "      fill: #D2E3FC;\n",
              "    }\n",
              "\n",
              "    [theme=dark] .colab-df-convert:hover {\n",
              "      background-color: #434B5C;\n",
              "      box-shadow: 0px 1px 3px 1px rgba(0, 0, 0, 0.15);\n",
              "      filter: drop-shadow(0px 1px 2px rgba(0, 0, 0, 0.3));\n",
              "      fill: #FFFFFF;\n",
              "    }\n",
              "  </style>\n",
              "\n",
              "      <script>\n",
              "        const buttonEl =\n",
              "          document.querySelector('#df-00316f8f-ea94-47b5-bac5-f881d6b2c6da button.colab-df-convert');\n",
              "        buttonEl.style.display =\n",
              "          google.colab.kernel.accessAllowed ? 'block' : 'none';\n",
              "\n",
              "        async function convertToInteractive(key) {\n",
              "          const element = document.querySelector('#df-00316f8f-ea94-47b5-bac5-f881d6b2c6da');\n",
              "          const dataTable =\n",
              "            await google.colab.kernel.invokeFunction('convertToInteractive',\n",
              "                                                     [key], {});\n",
              "          if (!dataTable) return;\n",
              "\n",
              "          const docLinkHtml = 'Like what you see? Visit the ' +\n",
              "            '<a target=\"_blank\" href=https://colab.research.google.com/notebooks/data_table.ipynb>data table notebook</a>'\n",
              "            + ' to learn more about interactive tables.';\n",
              "          element.innerHTML = '';\n",
              "          dataTable['output_type'] = 'display_data';\n",
              "          await google.colab.output.renderOutput(dataTable, element);\n",
              "          const docLink = document.createElement('div');\n",
              "          docLink.innerHTML = docLinkHtml;\n",
              "          element.appendChild(docLink);\n",
              "        }\n",
              "      </script>\n",
              "    </div>\n",
              "  </div>\n",
              "  "
            ]
          },
          "metadata": {},
          "execution_count": 41
        }
      ]
    },
    {
      "cell_type": "code",
      "source": [
        "# Calculate the variance explained by priciple components\n",
        "print('Variance of each component:', pca_def.explained_variance_ratio_)\n",
        "print('\\n Total Variance Explained:', round(sum(list(pca_def.explained_variance_ratio_))*100, 2))"
      ],
      "metadata": {
        "colab": {
          "base_uri": "https://localhost:8080/"
        },
        "id": "gon-L4WP9UVg",
        "outputId": "72035fc8-cd86-4162-dd5d-86c8acdc501e"
      },
      "execution_count": null,
      "outputs": [
        {
          "output_type": "stream",
          "name": "stdout",
          "text": [
            "Variance of each component: [0.14832437 0.12302738 0.11736755 0.10868826 0.08698396 0.07639114\n",
            " 0.06063387 0.05178299 0.04465531 0.03780011 0.03748852 0.03432213\n",
            " 0.02494058]\n",
            "\n",
            " Total Variance Explained: 95.24\n"
          ]
        }
      ]
    },
    {
      "cell_type": "code",
      "source": [
        "# Determine explained variance using explained_variance_ration_ attribute\n",
        "#\n",
        "exp_var_pca = pca_def.explained_variance_ratio_\n",
        "#\n",
        "# Cumulative sum of eigenvalues; This will be used to create step plot\n",
        "# for visualizing the variance explained by each principal component.\n",
        "#\n",
        "cum_sum_eigenvalues = np.cumsum(exp_var_pca)\n",
        "#\n",
        "# Create the visualization plot\n",
        "#\n",
        "plt.bar(range(0,len(exp_var_pca)), exp_var_pca, alpha=0.5, align='center', label='Individual explained variance')\n",
        "plt.step(range(0,len(cum_sum_eigenvalues)), cum_sum_eigenvalues, where='mid',label='Cumulative explained variance')\n",
        "plt.ylabel('Explained variance ratio')\n",
        "plt.xlabel('Principal component index')\n",
        "plt.legend(loc='best')\n",
        "plt.tight_layout()\n",
        "plt.show()"
      ],
      "metadata": {
        "colab": {
          "base_uri": "https://localhost:8080/",
          "height": 297
        },
        "id": "jYBDQMTC9Xsi",
        "outputId": "8f18136d-871a-46e7-f31c-612c870ec129"
      },
      "execution_count": null,
      "outputs": [
        {
          "output_type": "display_data",
          "data": {
            "text/plain": [
              "<Figure size 432x288 with 1 Axes>"
            ],
            "image/png": "[encoded data removed]"
          },
          "metadata": {
            "needs_background": "light"
          }
        }
      ]
    },
    {
      "cell_type": "markdown",
      "source": [
        "# Training del modello LSTM per l'Intrusion Detection System di pacchetti di retee"
      ],
      "metadata": {
        "id": "4-v11w518DuF"
      }
    },
    {
      "cell_type": "markdown",
      "metadata": {
        "id": "RrInjuOh-sX3"
      },
      "source": [
        "## LSTM"
      ]
    },
    {
      "cell_type": "code",
      "execution_count": null,
      "metadata": {
        "id": "1vtm0Hf3Wd2f",
        "colab": {
          "base_uri": "https://localhost:8080/"
        },
        "outputId": "b7c0847f-a890-4a63-f800-44af7044da9d"
      },
      "outputs": [
        {
          "output_type": "execute_result",
          "data": {
            "text/plain": [
              "((893494, 50, 14), (893494,))"
            ]
          },
          "metadata": {},
          "execution_count": 5
        }
      ],
      "source": [
        "X, y = df_to_X_y(df_pca)\n",
        "X.shape, y.shape"
      ]
    },
    {
      "cell_type": "code",
      "source": [
        "X_train, X_test, y_train, y_test = train_test_split(X, y, test_size=0.15, shuffle=False)\n",
        "X_train, X_val, y_train, y_val = train_test_split(X_train, y_train, test_size=0.15, shuffle=False)\n",
        "X_train.shape, y_train.shape, X_val.shape, y_val.shape, X_test.shape, y_test.shape"
      ],
      "metadata": {
        "colab": {
          "base_uri": "https://localhost:8080/"
        },
        "id": "SfMSqkGkBoI2",
        "outputId": "dee1db20-db01-42aa-bec3-f6c906e52a62"
      },
      "execution_count": null,
      "outputs": [
        {
          "output_type": "execute_result",
          "data": {
            "text/plain": [
              "((645548, 50, 14),\n",
              " (645548,),\n",
              " (113921, 50, 14),\n",
              " (113921,),\n",
              " (134025, 50, 14),\n",
              " (134025,))"
            ]
          },
          "metadata": {},
          "execution_count": 6
        }
      ]
    },
    {
      "cell_type": "code",
      "source": [
        "unique, counts = np.unique(y_train, return_counts=True)\n",
        "print(\"Distribuzione label in y_train\")\n",
        "print(unique)\n",
        "print(counts)\n",
        "if counts.shape[0] > 1: #controlla che ci siano entrambe le label\n",
        "  print(\"0/1 Ratio: \"+str(counts[0]/counts[1]))\n",
        "unique, counts = np.unique(y_val, return_counts=True)\n",
        "print(\"Distribuzione label in y_val\")\n",
        "print(unique)\n",
        "print(counts)\n",
        "if counts.shape[0] > 1:\n",
        "  print(\"0/1 Ratio: \"+str(counts[0]/counts[1]))\n",
        "unique, counts = np.unique(y_test, return_counts=True)\n",
        "print(\"Distribuzione label in y_test\")\n",
        "print(unique)\n",
        "print(counts)\n",
        "if counts.shape[0] > 1:\n",
        "  print(\"0/1 Ratio: \"+str(counts[0]/counts[1]))"
      ],
      "metadata": {
        "colab": {
          "base_uri": "https://localhost:8080/"
        },
        "id": "Du7OsxSFh9pV",
        "outputId": "8e7f0894-6752-47c4-b713-40c208d8791b"
      },
      "execution_count": null,
      "outputs": [
        {
          "output_type": "stream",
          "name": "stdout",
          "text": [
            "Distribuzione label in y_train\n",
            "[0. 1.]\n",
            "[319685 325863]\n",
            "0/1 Ratio: 0.9810411123693086\n",
            "Distribuzione label in y_val\n",
            "[0. 1.]\n",
            "[55229 58692]\n",
            "0/1 Ratio: 0.9409970694472841\n",
            "Distribuzione label in y_test\n",
            "[0. 1.]\n",
            "[71816 62209]\n",
            "0/1 Ratio: 1.1544310308797763\n"
          ]
        }
      ]
    },
    {
      "cell_type": "code",
      "execution_count": null,
      "metadata": {
        "id": "h9ssQq6ODWYS",
        "colab": {
          "base_uri": "https://localhost:8080/"
        },
        "outputId": "fdba8d0c-80d1-44e9-cf68-d3b3cd29584b"
      },
      "outputs": [
        {
          "output_type": "stream",
          "name": "stdout",
          "text": [
            "Model: \"sequential\"\n",
            "_________________________________________________________________\n",
            " Layer (type)                Output Shape              Param #   \n",
            "=================================================================\n",
            " lstm (LSTM)                 (None, 50, 80)            30400     \n",
            "                                                                 \n",
            " dropout (Dropout)           (None, 50, 80)            0         \n",
            "                                                                 \n",
            " lstm_1 (LSTM)               (None, 50, 80)            51520     \n",
            "                                                                 \n",
            " dropout_1 (Dropout)         (None, 50, 80)            0         \n",
            "                                                                 \n",
            " lstm_2 (LSTM)               (None, 50, 80)            51520     \n",
            "                                                                 \n",
            " dropout_2 (Dropout)         (None, 50, 80)            0         \n",
            "                                                                 \n",
            " lstm_3 (LSTM)               (None, 50, 80)            51520     \n",
            "                                                                 \n",
            " dropout_3 (Dropout)         (None, 50, 80)            0         \n",
            "                                                                 \n",
            " lstm_4 (LSTM)               (None, 50, 80)            51520     \n",
            "                                                                 \n",
            " dropout_4 (Dropout)         (None, 50, 80)            0         \n",
            "                                                                 \n",
            " lstm_5 (LSTM)               (None, 80)                51520     \n",
            "                                                                 \n",
            " dropout_5 (Dropout)         (None, 80)                0         \n",
            "                                                                 \n",
            " dense (Dense)               (None, 1)                 81        \n",
            "                                                                 \n",
            " activation (Activation)     (None, 1)                 0         \n",
            "                                                                 \n",
            "=================================================================\n",
            "Total params: 288,081\n",
            "Trainable params: 288,081\n",
            "Non-trainable params: 0\n",
            "_________________________________________________________________\n"
          ]
        }
      ],
      "source": [
        "model = Sequential()\n",
        "model.add(LSTM(80,input_shape=(X_train.shape[1], X_train.shape[2]), return_sequences=True)) \n",
        "model.add(Dropout(0.3))\n",
        "model.add(LSTM(80,return_sequences=True))  \n",
        "model.add(Dropout(0.3))\n",
        "model.add(LSTM(80, return_sequences=True)) \n",
        "model.add(Dropout(0.3))\n",
        "model.add(LSTM(80, return_sequences=True))  \n",
        "model.add(Dropout(0.3))\n",
        "model.add(LSTM(80, return_sequences=True))  \n",
        "model.add(Dropout(0.3))\n",
        "model.add(LSTM(80, return_sequences=False))  \n",
        "model.add(Dropout(0.3))\n",
        "model.add(Dense(1))# the no. of output classes\n",
        "model.add(Activation('sigmoid'))\n",
        "model.summary()\n",
        "model.compile(loss='binary_crossentropy', optimizer=Adam(),metrics=['accuracy'])"
      ]
    },
    {
      "cell_type": "code",
      "execution_count": null,
      "metadata": {
        "id": "zOKyaxhIe1xy"
      },
      "outputs": [],
      "source": [
        "csv_logger = CSVLogger('/content/drive/MyDrive/Colab Notebooks/lstm_IDS_model_new.csv',separator=';', append=False)"
      ]
    },
    {
      "cell_type": "code",
      "execution_count": null,
      "metadata": {
        "id": "H24RCH-9EtZV",
        "colab": {
          "base_uri": "https://localhost:8080/"
        },
        "outputId": "8ab727d4-4fb5-4b1c-ed98-4593f59fb351"
      },
      "outputs": [
        {
          "output_type": "stream",
          "name": "stdout",
          "text": [
            "Epoch 1/5\n",
            "1261/1261 [==============================] - 64s 41ms/step - loss: 0.0256 - accuracy: 0.9948 - val_loss: 0.0171 - val_accuracy: 0.9966\n",
            "Epoch 2/5\n",
            "1261/1261 [==============================] - 51s 40ms/step - loss: 0.0161 - accuracy: 0.9969 - val_loss: 0.0173 - val_accuracy: 0.9967\n",
            "Epoch 3/5\n",
            "1261/1261 [==============================] - 52s 41ms/step - loss: 0.0159 - accuracy: 0.9970 - val_loss: 0.0168 - val_accuracy: 0.9968\n",
            "Epoch 4/5\n",
            "1261/1261 [==============================] - 52s 41ms/step - loss: 0.0158 - accuracy: 0.9969 - val_loss: 0.0169 - val_accuracy: 0.9968\n",
            "Epoch 5/5\n",
            "1261/1261 [==============================] - 52s 41ms/step - loss: 0.0158 - accuracy: 0.9970 - val_loss: 0.0167 - val_accuracy: 0.9968\n"
          ]
        }
      ],
      "source": [
        "history = model.fit(X_train, y_train, batch_size=512, epochs=5, validation_data=(X_val, y_val), callbacks=[csv_logger], verbose=1)\n",
        "model.save('/content/drive/MyDrive/Colab Notebooks/lstm_IDS_model_new.h5')"
      ]
    },
    {
      "cell_type": "code",
      "execution_count": null,
      "metadata": {
        "id": "RIwNM9zRELoL",
        "colab": {
          "base_uri": "https://localhost:8080/"
        },
        "outputId": "1480555d-a9d3-456f-858c-686c528e0bc0"
      },
      "outputs": [
        {
          "output_type": "stream",
          "name": "stdout",
          "text": [
            "4189/4189 [==============================] - 37s 9ms/step - loss: 0.0149 - accuracy: 0.9971\n",
            "\n",
            "Loss: 0.01, Accuracy: 99.71%\n",
            "4189/4189 [==============================] - 35s 8ms/step\n"
          ]
        }
      ],
      "source": [
        "loss, accuracy = model.evaluate(X_test, y_test)\n",
        "print(\"\\nLoss: %.2f, Accuracy: %.2f%%\" % (loss, accuracy*100))\n",
        "predict_x=model.predict(X_test)\n",
        "classes_x=np.where(predict_x > 0.5, 1,0)"
      ]
    },
    {
      "cell_type": "code",
      "source": [
        "#plot the training and validation accuracy and loss at each epoch\n",
        "loss = history.history['loss']\n",
        "val_loss = history.history['val_loss']\n",
        "epochs = range(1, len(loss) + 1)\n",
        "plt.plot(epochs, loss, 'y', label='Training loss')\n",
        "plt.plot(epochs, val_loss, 'r', label='Validation loss')\n",
        "plt.title('Training and validation loss')\n",
        "plt.xlabel('Epochs')\n",
        "plt.ylabel('Loss')\n",
        "plt.legend()\n",
        "plt.show()"
      ],
      "metadata": {
        "id": "m7pe4Dg5F_Um",
        "colab": {
          "base_uri": "https://localhost:8080/",
          "height": 295
        },
        "outputId": "5a53550f-596b-4f76-e589-6e7c8a4ef323"
      },
      "execution_count": null,
      "outputs": [
        {
          "output_type": "display_data",
          "data": {
            "text/plain": [
              "<Figure size 432x288 with 1 Axes>"
            ],
            "image/png": "[encoded data removed]"
          },
          "metadata": {
            "needs_background": "light"
          }
        }
      ]
    },
    {
      "cell_type": "code",
      "source": [
        "acc = history.history['accuracy']\n",
        "val_acc = history.history['val_accuracy']\n",
        "plt.plot(epochs, acc, 'y', label='Training acc')\n",
        "plt.plot(epochs, val_acc, 'r', label='Validation acc')\n",
        "plt.title('Training and validation accuracy')\n",
        "plt.xlabel('Epochs')\n",
        "plt.ylabel('Accuracy')\n",
        "plt.legend()\n",
        "plt.show()"
      ],
      "metadata": {
        "id": "B-PuD_o1GhO5",
        "colab": {
          "base_uri": "https://localhost:8080/",
          "height": 295
        },
        "outputId": "e9f3569d-4e8d-46a9-c593-c650b866e362"
      },
      "execution_count": null,
      "outputs": [
        {
          "output_type": "display_data",
          "data": {
            "text/plain": [
              "<Figure size 432x288 with 1 Axes>"
            ],
            "image/png": "[encoded data removed]"
          },
          "metadata": {
            "needs_background": "light"
          }
        }
      ]
    },
    {
      "cell_type": "code",
      "source": [
        "expected = y_test\n",
        "predicted = classes_x\n",
        "cm = confusion_matrix(expected, predicted)\n",
        "tn, fp, fn, tp = cm.ravel()\n",
        "print(\"TN: \",tn)\n",
        "print(\"FP: \",fp)\n",
        "print(\"FN: \",fn)\n",
        "print(\"TP: \",tp)\n",
        "print(classification_report(expected,predicted,zero_division=1))"
      ],
      "metadata": {
        "id": "Tw63fDEkbqQ7",
        "colab": {
          "base_uri": "https://localhost:8080/"
        },
        "outputId": "195bebd9-900e-479b-af86-946c8ab0f8c1"
      },
      "execution_count": null,
      "outputs": [
        {
          "output_type": "stream",
          "name": "stdout",
          "text": [
            "TN:  71620\n",
            "FP:  196\n",
            "FN:  196\n",
            "TP:  62013\n",
            "              precision    recall  f1-score   support\n",
            "\n",
            "         0.0       1.00      1.00      1.00     71816\n",
            "         1.0       1.00      1.00      1.00     62209\n",
            "\n",
            "    accuracy                           1.00    134025\n",
            "   macro avg       1.00      1.00      1.00    134025\n",
            "weighted avg       1.00      1.00      1.00    134025\n",
            "\n"
          ]
        }
      ]
    },
    {
      "cell_type": "code",
      "source": [
        "disp = ConfusionMatrixDisplay(confusion_matrix=cm, display_labels=['Benign','Attack'])\n",
        "disp.plot()\n",
        "plt.show()"
      ],
      "metadata": {
        "id": "Dfl00lACBvII",
        "colab": {
          "base_uri": "https://localhost:8080/",
          "height": 279
        },
        "outputId": "c02a2fc0-32b3-447c-dc42-77330de6f15b"
      },
      "execution_count": null,
      "outputs": [
        {
          "output_type": "display_data",
          "data": {
            "text/plain": [
              "<Figure size 432x288 with 2 Axes>"
            ],
            "image/png": "[encoded data removed]"
          },
          "metadata": {
            "needs_background": "light"
          }
        }
      ]
    },
    {
      "cell_type": "markdown",
      "source": [
        "# Rete di Petri"
      ],
      "metadata": {
        "id": "xt5TDIdq2dYn"
      }
    },
    {
      "cell_type": "markdown",
      "source": [
        "## Funzioni e classi"
      ],
      "metadata": {
        "id": "HtTQ9WASK0Fa"
      }
    },
    {
      "cell_type": "code",
      "source": [
        "#!gdown gdrive_link_model\n",
        "#model = keras.models.load_model('lstm_IDS_model_new.h5')"
      ],
      "metadata": {
        "colab": {
          "base_uri": "https://localhost:8080/"
        },
        "id": "sJUNBWU6Eh1P",
        "outputId": "c8d37ee6-fb08-418b-c04f-0e5b4702c883"
      },
      "execution_count": null,
      "outputs": [
        {
          "output_type": "stream",
          "name": "stdout",
          "text": [
            "Downloading...\n",
            "From: https://drive.google.com/uc?id=1pSjEpu_L128tJJ0bh2wkvkYwbPGdEZpB\n",
            "To: /content/lstm_IDS_model_new.h5\n",
            "\r  0% 0.00/3.56M [00:00<?, ?B/s]\r100% 3.56M/3.56M [00:00<00:00, 148MB/s]\n"
          ]
        }
      ]
    },
    {
      "cell_type": "code",
      "source": [
        "df_test = df_pca.iloc[round(len(df_pca)*0.85):,:]"
      ],
      "metadata": {
        "colab": {
          "base_uri": "https://localhost:8080/"
        },
        "id": "DqtfSUnXsYdI",
        "outputId": "90c60ea1-72f4-4be3-d9f6-39afe84bedc8"
      },
      "execution_count": null,
      "outputs": [
        {
          "output_type": "stream",
          "name": "stdout",
          "text": [
            "Downloading...\n",
            "From: https://drive.google.com/uc?id=1JtjX_ZpTBIjZ2qSuejtMM73KY0n_mW5a&confirm=t\n",
            "To: /content/df_pca.csv\n",
            "100% 238M/238M [00:01<00:00, 130MB/s]\n"
          ]
        }
      ]
    },
    {
      "cell_type": "code",
      "source": [
        "def predict_attack(var):\n",
        "  X_sample, y_sample = df_to_X_y(var[0].iloc[var[1]:var[1]+51])\n",
        "  predict_x = model.predict(X_sample)\n",
        "  predicted = np.where(predict_x > 0.5, 1, 0)[0][0] #1 attack, 0 normal\n",
        "  return predicted\n",
        "\n",
        "def predict_benign(var):\n",
        "  X_sample, y_sample = df_to_X_y(var[0].iloc[var[1]:var[1]+51])\n",
        "  predict_x = model.predict(X_sample)\n",
        "  predicted = np.where(predict_x > 0.5, 0, 1)[0][0] #1 normal, 0 attack\n",
        "  return predicted"
      ],
      "metadata": {
        "id": "hzhpks-xX7eG"
      },
      "execution_count": null,
      "outputs": []
    },
    {
      "cell_type": "code",
      "source": [
        "def start_net():\n",
        "  df_bloc = pd.DataFrame(columns=net.global_var[0].columns)\n",
        "  df_not_bloc =pd.DataFrame(columns=net.global_var[0].columns)\n",
        "  net.global_var.append(df_bloc) #pacchetti bloccati\n",
        "  net.global_var.append(df_not_bloc) #pacchetti non bloccati\n",
        "  for i in range(10):\n",
        "    net.fire(t1)\n",
        "    #print('Pacchetto 1 arrivato')\n",
        "    for i in tqdm(range(1, 51)):\n",
        "      time.sleep(0.1)\n",
        "      #print('Pacchetto',i+1,'arrivato')\n",
        "      net.fire(t1)\n",
        "    #net.marking\n",
        "    net.fire(t2)\n",
        "    if net.marking['p2'] == 0 and net.marking['p3'] == 1:\n",
        "      print('Benign packet flow')\n",
        "      net.fire(t4)\n",
        "      net.global_var[3] = pd.concat([net.global_var[3],net.global_var[0].iloc[net.global_var[1]:net.global_var[1]+51]], ignore_index=True)\n",
        "    else:\n",
        "      print('Attack packet flow')\n",
        "      net.fire(t3)\n",
        "      net.global_var[2] = pd.concat([net.global_var[2],net.global_var[0].iloc[net.global_var[1]:net.global_var[1]+51]], ignore_index=True)\n",
        "    \n",
        "    net.global_var[1] += 51\n",
        "\n",
        "      \n",
        "  print('')\n",
        "  print('Blocked packets: ',net.marking['a'])\n",
        "  print('Unblocked packets: ',net.marking['n'])\n",
        "  print('')\n",
        "  mal = len(net.global_var[2].loc[net.global_var[2]['Label'] == 1])\n",
        "  ben = len(net.global_var[2].loc[net.global_var[2]['Label'] == 0])\n",
        "  \n",
        "  if mal+ben != 0:\n",
        "    perc = round(mal*100/(ben+mal),2)\n",
        "    print('Percetage of blocked attack packets:',perc,'%')\n",
        "    print('Percetage of blocked benign packets:',round(100-perc,2),'%')\n",
        "  else:\n",
        "    print('Percetage of blocked attack packets: 0 %')\n",
        "  \n",
        "  print('')\n",
        "  mal = len(net.global_var[3].loc[net.global_var[3]['Label'] == 1])\n",
        "  ben = len(net.global_var[3].loc[net.global_var[3]['Label'] == 0])\n",
        "\n",
        "  if mal+ben != 0:\n",
        "    perc = round(mal*100/(ben+mal),2)\n",
        "    print('Percetage of unblocked attack packets:',perc,'%')\n",
        "    print('Percetage of unblocked benign packets:',round(100-perc,2),'%')\n",
        "  else:\n",
        "    print('Percetage of unblocked attack packets: 0 %')\n",
        "  \n",
        "  "
      ],
      "metadata": {
        "id": "cVLeUBtqs-Yt"
      },
      "execution_count": null,
      "outputs": []
    },
    {
      "cell_type": "code",
      "source": [
        "class Place:\n",
        "  def __init__(self, name, token=0):\n",
        "    self.name = name\n",
        "    self.token = token\n",
        "\n",
        "class Transition:\n",
        "  def __init__(self, name):\n",
        "    self.name = name\n",
        "    self.input_arc = {}\n",
        "    self.output_arc = {}\n",
        "\n",
        "class Net:\n",
        "  def __init__(self, name, global_var = None):\n",
        "    self.name = name\n",
        "    self.marking = {}\n",
        "    self.transitions = {}\n",
        "    self.global_var = global_var\n",
        "\n",
        "  def add_place(self, pl):\n",
        "    self.marking.update({pl.name : pl.token})\n",
        "\n",
        "  def add_transition(self, trans):\n",
        "    self.transitions.update({trans.name : {'input' : trans.input_arc,'output' : trans.output_arc}})\n",
        "\n",
        "  def add_input(self, trans, pl, weight = 1):\n",
        "    try:\n",
        "      self.transitions[trans.name]\n",
        "      self.marking[pl.name]\n",
        "    except:\n",
        "      print('Transizione e/o posti non inseriti nella rete, impossibile inserire l\\'arco')\n",
        "    else:\n",
        "      trans.input_arc.update({pl.name:weight})\n",
        "      self.transitions.update({trans.name : {'input' : trans.input_arc,'output' : trans.output_arc}})\n",
        "\n",
        "  def add_output(self, trans, pl, weight = 1):\n",
        "    try:\n",
        "      self.transitions[trans.name]\n",
        "      self.marking[pl.name]\n",
        "    except:\n",
        "      print('Transizione e/o posti non inseriti nella rete, impossibile inserire l\\'arco')\n",
        "    else:\n",
        "      trans.output_arc.update({pl.name:weight})\n",
        "      self.transitions.update({trans.name : {'input' : trans.input_arc,'output' : trans.output_arc}})\n",
        "\n",
        "  def fire(self, trans):\n",
        "    enable = True\n",
        "    try:\n",
        "      self.transitions[trans.name]\n",
        "    except:\n",
        "      print('Transizione e/o posti non inseriti nella rete, impossibile inserire l\\'arco')\n",
        "    else:\n",
        "      check = 0\n",
        "      for p, t in trans.input_arc.items():\n",
        "        if self.marking[p] >= t:\n",
        "          check += 1\n",
        "      if check == len(trans.input_arc) :\n",
        "        for p, t in trans.input_arc.items():\n",
        "          self.marking[p] -= t\n",
        "        for p, t in trans.output_arc.items():\n",
        "          if isinstance(t, str):\n",
        "            self.marking[p] = eval(t)\n",
        "          else:\n",
        "            self.marking[p] += t\n",
        "      else:\n",
        "        print(trans.name + ' non può essere abilitata')\n",
        "        enable = False\n",
        "      return enable\n",
        "\n",
        "  def print_pre_matrix(self):\n",
        "    for t, i in self.transitions.items():\n",
        "      print(t,i['input'])\n",
        "\n",
        "  def print_post_matrix(self):\n",
        "    for t, i in self.transitions.items():\n",
        "      print(t,i['output'])\n",
        "     "
      ],
      "metadata": {
        "id": "Kv7M6yLW7BgB"
      },
      "execution_count": null,
      "outputs": []
    },
    {
      "cell_type": "markdown",
      "source": [
        "## Petri Net and execution"
      ],
      "metadata": {
        "id": "d6d6bi2iK7uo"
      }
    },
    {
      "cell_type": "code",
      "source": [
        "start = random.randint(0, len(df_test)-510)\n",
        "net = Net('net', [df_test, start])\n",
        "#posti\n",
        "p1 = Place('p1')\n",
        "b = Place('b',51)\n",
        "p2 = Place('p2')\n",
        "p3 = Place('p3')\n",
        "a = Place('a')\n",
        "n = Place('n')\n",
        "net.add_place(p1)\n",
        "net.add_place(p2)\n",
        "net.add_place(p3)\n",
        "net.add_place(b)\n",
        "net.add_place(a)\n",
        "net.add_place(n)\n",
        "#transizioni\n",
        "t1 = Transition('t1')\n",
        "t2 = Transition('t2')\n",
        "t3 = Transition('t3')\n",
        "t4 = Transition('t4')\n",
        "net.add_transition(t1)\n",
        "net.add_transition(t2)\n",
        "net.add_transition(t3)\n",
        "net.add_transition(t4)\n",
        "#archi\n",
        "#t1\n",
        "net.add_input(t1,b)\n",
        "net.add_output(t1,p1)\n",
        "#t2\n",
        "net.add_input(t2,p1,51)\n",
        "net.add_output(t2,p2,'predict_attack(net.global_var)')\n",
        "net.add_output(t2,p3,'predict_benign(net.global_var)')\n",
        "#t3\n",
        "net.add_input(t3,p2)\n",
        "net.add_output(t3,a,51)\n",
        "net.add_output(t3,b,51)\n",
        "#t4\n",
        "net.add_input(t4,p3)\n",
        "net.add_output(t4,n,51)\n",
        "net.add_output(t4,b,51)"
      ],
      "metadata": {
        "id": "q3D6mlyED5OG"
      },
      "execution_count": null,
      "outputs": []
    },
    {
      "cell_type": "code",
      "source": [
        "start_net()"
      ],
      "metadata": {
        "id": "5qj9dXRaJa3d",
        "colab": {
          "base_uri": "https://localhost:8080/",
          "height": 996,
          "referenced_widgets": [
            "a13e3e9c2e0b43e9bd8f79b71d5d2b09",
            "ddead273646d4a288aa3c8026ac15506",
            "d7cb61f5047e4f7b8b84d24dec0715e2",
            "df6d4179fbf44cbe9c6193b3364ee5e1",
            "a4d4365017b74a4990909beab5e1d755",
            "8ca5c10c4d1f4e5b866d146cfbe77dc1",
            "bebed64959ff47dbb841375dd438f3ee",
            "47057aaa2e3d48a1918cfed0765a07cc",
            "7736824e66384a09a53011ac2d0cbb51",
            "c4f834ae4b31403b83da4e3f33dd4826",
            "dd6a050c6d0b41eba8cae2828bb3d6d0",
            "8f1316bd97164c829fe2ee04b545a7d3",
            "be5cbe70a5764753aecde8eb0883a1c9",
            "b91010529a934681ad980bbee223cf75",
            "80b170089a844a08a6201f8838cfe5c6",
            "3082f543ae3641eb9bd2d07413944e3b",
            "aea07f18917d4b7a8270314c9a9709dd",
            "819381919df44f9fb3b0ad4acacfad68",
            "ee825622ccb8458285d86d8ea919180f",
            "f5bdaff0aa4c4867adce945f9e9b1107",
            "f7f1ac5d7a8e45b8adcbfc0a4c908371",
            "b36b547806844d008338c588c70130f1",
            "b9a8f5ab185b4def918cd8444d479d50",
            "b470324387cb4ef7865d1a66b97c427c",
            "2963121044ab49a0b23c6ffe9d74783a",
            "9587ca7abaf54a5fab436cf114c04cbb",
            "deed126bb69844598428f195ec58bc68",
            "5a6210f54a764921809cfe29f4d93a7d",
            "9d540dc53e26413abc292d8e1f931010",
            "f59c20c68cb34f198b5fa0e4cae4b685",
            "e451a18ce5064d7d9d26ba6d86395d7a",
            "a16498e6fb9445b4add2714876c601ae",
            "9af2d150ea354b248ad686d0d7518210",
            "adb3642aa061432184192f007a3c7c97",
            "6d2b4008a7c2467f87f07fdfa26cbfcd",
            "c19488a0305f4aaca3d580db6aa45c1f",
            "d18cfead7b604d9ca403f181d1c883e7",
            "0487a3fb6a9a4172aa24b4250b1a669c",
            "d33a409219b34382991cb36b537ea608",
            "2cc6c367788541a3bb4687866b2223eb",
            "256f77ce5eb142ab8a66a8a3f572b9af",
            "96e6de21bebf4f879969acb4ab5c0c94",
            "c8bbf67d9c0045a380bf30df2af7cfd1",
            "21cc788dd3164bbcbd0a3cc89c1f469f",
            "89eddc25d7124c5abf838a7cf456a07b",
            "d41c6b8f12ec492d9240b22290a3c5f0",
            "273a6f0df03f41f69276497c94751d1b",
            "85978024be7c4eddb19cd159cfb80da1",
            "65aa04b65a2040e591adbe3f9a3dbde4",
            "88e7a78c42e948ca955708179ac6fba9",
            "667a407c8567457783ea7113c52c550f",
            "18fb9dfb081d4da8b4ac6d640d9e458a",
            "49d3e89ad6ce4c07a87e57b0b2c9f54c",
            "dfb7055f148b4b3d9c9541c9962c91be",
            "cd2d01ebcdbb490ead7ad6cf787acacc",
            "815bb9ce5abf4b8b80ae2f78b3410a1f",
            "94463ee97f224a2f84f24b59d1040bbc",
            "9231685075ae45ea8097eedfdda08cdd",
            "418d35726cff49dc836f3de79a14ece8",
            "bb196b826ac140ed930b8f047ebe09d7",
            "2c7e853084da4a2c98495eb00d9b1b74",
            "73abeb74ba2a4098a74ae72d549a7bae",
            "259147d77564499aa4fef5862d9e78b6",
            "e09cf613905240a8a736a55d67717590",
            "8dd038876c0a48e195394e9034fd648e",
            "92850178701d4f7ea3f8ca868b9a04f9",
            "e756afd08b6140b495b0af62a3b7326a",
            "6fa1464ec02e478fbad5285fe180feb2",
            "7bc55f69384d4d1fa0f88185c81cb4e0",
            "0702c40b815a439898bafb1e5e9a1e8c",
            "6592c7fe4fc740d88b2c512098297e53",
            "69a292931bf34a2ca3fd36e5f12b6445",
            "a1697bc2fa00447784630393ca8cffff",
            "68f063ebe6d3475e96beb1c22fc54297",
            "dd5d130bff404b03a30d0b2933b68bc7",
            "33edef0df40d4c429cea89f5fb13bc96",
            "b5cbe9638b984a5d88e1d8f951db39c5",
            "b3ad1f00253949609db1e5e09a25a2eb",
            "efc4f8d93edf473bb4a2b738de59d4e6",
            "c163d7576b75491a8dabba7f81ac97f6",
            "aac9c06c37104478a3710aaeafd53a29",
            "9c8409adb66b475aaf59a5d210b742be",
            "23b8f91c08964022b26dffb6a46f84f0",
            "c934d3521b414555b94edffcb1433d56",
            "e9f3ceb52b314b74b4f1c98f4fbbbb94",
            "5e79dcd6265f4abb9edaade168e52242",
            "bbcd10285658427e9db66ae89b3b7465",
            "cd7f45b9ca084bc389ee800ba78becee",
            "26e37995453e45988e628a4359b6bc4d",
            "7413baafa17d46d79238872588c3de40",
            "6f31cca294dc416fadd2eaf12b0f5ce4",
            "3db185782c7445919bc0964889ccc21c",
            "3e862af5b67b410aa7b2c67c291498f2",
            "a374b6469d394e40a054b6fe9e983e2d",
            "0ef8750842504e3784643c832cb4dc06",
            "e604c0b0c2504191b1b3d3a2ff07b47e",
            "a3ccea1e5f93468ba9053787c5e3ff83",
            "fbf55b1733c142b6b9d3fbf1c0aaaf88",
            "6767abb8515049b19a7c7863a7315a0e",
            "637cbeb133a54bad84320f4633d4ee4c",
            "95f91795b9df441b932a8ca020013886",
            "fa6562e3ed6a4f478c016c3e9d73b4d0",
            "93d3c8dfb5614d43ace1db27b7afec63",
            "8fbda099894545e8a00e1824b92a8a8a",
            "2dbbe3e50b454ea789c112f649a2121f",
            "de01fde673504cfa9e9e77e7a91fb2a9",
            "4c70465026ea4f6daf174c88e84102f4",
            "6534011939a647cf99ce078da5d801de",
            "b056f2464e9a4754b92d759fccaa0991",
            "42b69619bacd4740990034cf3cfcc1a9"
          ]
        },
        "outputId": "39de2216-829d-40e8-a65a-ee8de093b633"
      },
      "execution_count": null,
      "outputs": [
        {
          "output_type": "display_data",
          "data": {
            "text/plain": [
              "  0%|          | 0/50 [00:00<?, ?it/s]"
            ],
            "application/vnd.jupyter.widget-view+json": {
              "version_major": 2,
              "version_minor": 0,
              "model_id": "a13e3e9c2e0b43e9bd8f79b71d5d2b09"
            }
          },
          "metadata": {}
        },
        {
          "output_type": "stream",
          "name": "stdout",
          "text": [
            "1/1 [==============================] - 6s 6s/step\n",
            "1/1 [==============================] - 0s 25ms/step\n",
            "Benign packet flow\n"
          ]
        },
        {
          "output_type": "display_data",
          "data": {
            "text/plain": [
              "  0%|          | 0/50 [00:00<?, ?it/s]"
            ],
            "application/vnd.jupyter.widget-view+json": {
              "version_major": 2,
              "version_minor": 0,
              "model_id": "8f1316bd97164c829fe2ee04b545a7d3"
            }
          },
          "metadata": {}
        },
        {
          "output_type": "stream",
          "name": "stdout",
          "text": [
            "1/1 [==============================] - 0s 25ms/step\n",
            "1/1 [==============================] - 0s 24ms/step\n",
            "Benign packet flow\n"
          ]
        },
        {
          "output_type": "display_data",
          "data": {
            "text/plain": [
              "  0%|          | 0/50 [00:00<?, ?it/s]"
            ],
            "application/vnd.jupyter.widget-view+json": {
              "version_major": 2,
              "version_minor": 0,
              "model_id": "b9a8f5ab185b4def918cd8444d479d50"
            }
          },
          "metadata": {}
        },
        {
          "output_type": "stream",
          "name": "stdout",
          "text": [
            "1/1 [==============================] - 0s 25ms/step\n",
            "1/1 [==============================] - 0s 27ms/step\n",
            "Benign packet flow\n"
          ]
        },
        {
          "output_type": "display_data",
          "data": {
            "text/plain": [
              "  0%|          | 0/50 [00:00<?, ?it/s]"
            ],
            "application/vnd.jupyter.widget-view+json": {
              "version_major": 2,
              "version_minor": 0,
              "model_id": "adb3642aa061432184192f007a3c7c97"
            }
          },
          "metadata": {}
        },
        {
          "output_type": "stream",
          "name": "stdout",
          "text": [
            "1/1 [==============================] - 0s 26ms/step\n",
            "1/1 [==============================] - 0s 24ms/step\n",
            "Benign packet flow\n"
          ]
        },
        {
          "output_type": "display_data",
          "data": {
            "text/plain": [
              "  0%|          | 0/50 [00:00<?, ?it/s]"
            ],
            "application/vnd.jupyter.widget-view+json": {
              "version_major": 2,
              "version_minor": 0,
              "model_id": "89eddc25d7124c5abf838a7cf456a07b"
            }
          },
          "metadata": {}
        },
        {
          "output_type": "stream",
          "name": "stdout",
          "text": [
            "1/1 [==============================] - 0s 25ms/step\n",
            "1/1 [==============================] - 0s 23ms/step\n",
            "Benign packet flow\n"
          ]
        },
        {
          "output_type": "display_data",
          "data": {
            "text/plain": [
              "  0%|          | 0/50 [00:00<?, ?it/s]"
            ],
            "application/vnd.jupyter.widget-view+json": {
              "version_major": 2,
              "version_minor": 0,
              "model_id": "815bb9ce5abf4b8b80ae2f78b3410a1f"
            }
          },
          "metadata": {}
        },
        {
          "output_type": "stream",
          "name": "stdout",
          "text": [
            "1/1 [==============================] - 0s 26ms/step\n",
            "1/1 [==============================] - 0s 23ms/step\n",
            "Benign packet flow\n"
          ]
        },
        {
          "output_type": "display_data",
          "data": {
            "text/plain": [
              "  0%|          | 0/50 [00:00<?, ?it/s]"
            ],
            "application/vnd.jupyter.widget-view+json": {
              "version_major": 2,
              "version_minor": 0,
              "model_id": "e756afd08b6140b495b0af62a3b7326a"
            }
          },
          "metadata": {}
        },
        {
          "output_type": "stream",
          "name": "stdout",
          "text": [
            "1/1 [==============================] - 0s 25ms/step\n",
            "1/1 [==============================] - 0s 24ms/step\n",
            "Benign packet flow\n"
          ]
        },
        {
          "output_type": "display_data",
          "data": {
            "text/plain": [
              "  0%|          | 0/50 [00:00<?, ?it/s]"
            ],
            "application/vnd.jupyter.widget-view+json": {
              "version_major": 2,
              "version_minor": 0,
              "model_id": "b3ad1f00253949609db1e5e09a25a2eb"
            }
          },
          "metadata": {}
        },
        {
          "output_type": "stream",
          "name": "stdout",
          "text": [
            "1/1 [==============================] - 0s 27ms/step\n",
            "1/1 [==============================] - 0s 24ms/step\n",
            "Benign packet flow\n"
          ]
        },
        {
          "output_type": "display_data",
          "data": {
            "text/plain": [
              "  0%|          | 0/50 [00:00<?, ?it/s]"
            ],
            "application/vnd.jupyter.widget-view+json": {
              "version_major": 2,
              "version_minor": 0,
              "model_id": "26e37995453e45988e628a4359b6bc4d"
            }
          },
          "metadata": {}
        },
        {
          "output_type": "stream",
          "name": "stdout",
          "text": [
            "1/1 [==============================] - 0s 25ms/step\n",
            "1/1 [==============================] - 0s 24ms/step\n",
            "Benign packet flow\n"
          ]
        },
        {
          "output_type": "display_data",
          "data": {
            "text/plain": [
              "  0%|          | 0/50 [00:00<?, ?it/s]"
            ],
            "application/vnd.jupyter.widget-view+json": {
              "version_major": 2,
              "version_minor": 0,
              "model_id": "637cbeb133a54bad84320f4633d4ee4c"
            }
          },
          "metadata": {}
        },
        {
          "output_type": "stream",
          "name": "stdout",
          "text": [
            "1/1 [==============================] - 0s 25ms/step\n",
            "1/1 [==============================] - 0s 24ms/step\n",
            "Benign packet flow\n",
            "\n",
            "Blocked packets:  0\n",
            "Unblocked packets:  510\n",
            "\n",
            "Percetage of blocked attack packets: 0 %\n",
            "\n",
            "Percetage of unblocked attack packets: 0.2 %\n",
            "Percetage of unblocked benign packets: 99.8 %\n"
          ]
        }
      ]
    }
  ],
  "metadata": {
    "colab": {
      "collapsed_sections": [
        "UabXv5qHkIkx",
        "iJ7aiVYO-sX2",
        "r3-T2vmoYpoT"
      ],
      "provenance": [],
      "machine_shape": "hm",
      "include_colab_link": true
    },
    "gpuClass": "standard",
    "kernelspec": {
      "display_name": "Python 3",
      "name": "python3"
    },
    "language_info": {
      "name": "python"
    },
    "accelerator": "GPU",
    "widgets": {
      "application/vnd.jupyter.widget-state+json": {
        "a13e3e9c2e0b43e9bd8f79b71d5d2b09": {
          "model_module": "@jupyter-widgets/controls",
          "model_name": "HBoxModel",
          "model_module_version": "1.5.0",
          "state": {
            "_dom_classes": [],
            "_model_module": "@jupyter-widgets/controls",
            "_model_module_version": "1.5.0",
            "_model_name": "HBoxModel",
            "_view_count": null,
            "_view_module": "@jupyter-widgets/controls",
            "_view_module_version": "1.5.0",
            "_view_name": "HBoxView",
            "box_style": "",
            "children": [
              "IPY_MODEL_ddead273646d4a288aa3c8026ac15506",
              "IPY_MODEL_d7cb61f5047e4f7b8b84d24dec0715e2",
              "IPY_MODEL_df6d4179fbf44cbe9c6193b3364ee5e1"
            ],
            "layout": "IPY_MODEL_a4d4365017b74a4990909beab5e1d755"
          }
        },
        "ddead273646d4a288aa3c8026ac15506": {
          "model_module": "@jupyter-widgets/controls",
          "model_name": "HTMLModel",
          "model_module_version": "1.5.0",
          "state": {
            "_dom_classes": [],
            "_model_module": "@jupyter-widgets/controls",
            "_model_module_version": "1.5.0",
            "_model_name": "HTMLModel",
            "_view_count": null,
            "_view_module": "@jupyter-widgets/controls",
            "_view_module_version": "1.5.0",
            "_view_name": "HTMLView",
            "description": "",
            "description_tooltip": null,
            "layout": "IPY_MODEL_8ca5c10c4d1f4e5b866d146cfbe77dc1",
            "placeholder": "​",
            "style": "IPY_MODEL_bebed64959ff47dbb841375dd438f3ee",
            "value": "100%"
          }
        },
        "d7cb61f5047e4f7b8b84d24dec0715e2": {
          "model_module": "@jupyter-widgets/controls",
          "model_name": "FloatProgressModel",
          "model_module_version": "1.5.0",
          "state": {
            "_dom_classes": [],
            "_model_module": "@jupyter-widgets/controls",
            "_model_module_version": "1.5.0",
            "_model_name": "FloatProgressModel",
            "_view_count": null,
            "_view_module": "@jupyter-widgets/controls",
            "_view_module_version": "1.5.0",
            "_view_name": "ProgressView",
            "bar_style": "success",
            "description": "",
            "description_tooltip": null,
            "layout": "IPY_MODEL_47057aaa2e3d48a1918cfed0765a07cc",
            "max": 50,
            "min": 0,
            "orientation": "horizontal",
            "style": "IPY_MODEL_7736824e66384a09a53011ac2d0cbb51",
            "value": 50
          }
        },
        "df6d4179fbf44cbe9c6193b3364ee5e1": {
          "model_module": "@jupyter-widgets/controls",
          "model_name": "HTMLModel",
          "model_module_version": "1.5.0",
          "state": {
            "_dom_classes": [],
            "_model_module": "@jupyter-widgets/controls",
            "_model_module_version": "1.5.0",
            "_model_name": "HTMLModel",
            "_view_count": null,
            "_view_module": "@jupyter-widgets/controls",
            "_view_module_version": "1.5.0",
            "_view_name": "HTMLView",
            "description": "",
            "description_tooltip": null,
            "layout": "IPY_MODEL_c4f834ae4b31403b83da4e3f33dd4826",
            "placeholder": "​",
            "style": "IPY_MODEL_dd6a050c6d0b41eba8cae2828bb3d6d0",
            "value": " 50/50 [00:05&lt;00:00,  9.87it/s]"
          }
        },
        "a4d4365017b74a4990909beab5e1d755": {
          "model_module": "@jupyter-widgets/base",
          "model_name": "LayoutModel",
          "model_module_version": "1.2.0",
          "state": {
            "_model_module": "@jupyter-widgets/base",
            "_model_module_version": "1.2.0",
            "_model_name": "LayoutModel",
            "_view_count": null,
            "_view_module": "@jupyter-widgets/base",
            "_view_module_version": "1.2.0",
            "_view_name": "LayoutView",
            "align_content": null,
            "align_items": null,
            "align_self": null,
            "border": null,
            "bottom": null,
            "display": null,
            "flex": null,
            "flex_flow": null,
            "grid_area": null,
            "grid_auto_columns": null,
            "grid_auto_flow": null,
            "grid_auto_rows": null,
            "grid_column": null,
            "grid_gap": null,
            "grid_row": null,
            "grid_template_areas": null,
            "grid_template_columns": null,
            "grid_template_rows": null,
            "height": null,
            "justify_content": null,
            "justify_items": null,
            "left": null,
            "margin": null,
            "max_height": null,
            "max_width": null,
            "min_height": null,
            "min_width": null,
            "object_fit": null,
            "object_position": null,
            "order": null,
            "overflow": null,
            "overflow_x": null,
            "overflow_y": null,
            "padding": null,
            "right": null,
            "top": null,
            "visibility": null,
            "width": null
          }
        },
        "8ca5c10c4d1f4e5b866d146cfbe77dc1": {
          "model_module": "@jupyter-widgets/base",
          "model_name": "LayoutModel",
          "model_module_version": "1.2.0",
          "state": {
            "_model_module": "@jupyter-widgets/base",
            "_model_module_version": "1.2.0",
            "_model_name": "LayoutModel",
            "_view_count": null,
            "_view_module": "@jupyter-widgets/base",
            "_view_module_version": "1.2.0",
            "_view_name": "LayoutView",
            "align_content": null,
            "align_items": null,
            "align_self": null,
            "border": null,
            "bottom": null,
            "display": null,
            "flex": null,
            "flex_flow": null,
            "grid_area": null,
            "grid_auto_columns": null,
            "grid_auto_flow": null,
            "grid_auto_rows": null,
            "grid_column": null,
            "grid_gap": null,
            "grid_row": null,
            "grid_template_areas": null,
            "grid_template_columns": null,
            "grid_template_rows": null,
            "height": null,
            "justify_content": null,
            "justify_items": null,
            "left": null,
            "margin": null,
            "max_height": null,
            "max_width": null,
            "min_height": null,
            "min_width": null,
            "object_fit": null,
            "object_position": null,
            "order": null,
            "overflow": null,
            "overflow_x": null,
            "overflow_y": null,
            "padding": null,
            "right": null,
            "top": null,
            "visibility": null,
            "width": null
          }
        },
        "bebed64959ff47dbb841375dd438f3ee": {
          "model_module": "@jupyter-widgets/controls",
          "model_name": "DescriptionStyleModel",
          "model_module_version": "1.5.0",
          "state": {
            "_model_module": "@jupyter-widgets/controls",
            "_model_module_version": "1.5.0",
            "_model_name": "DescriptionStyleModel",
            "_view_count": null,
            "_view_module": "@jupyter-widgets/base",
            "_view_module_version": "1.2.0",
            "_view_name": "StyleView",
            "description_width": ""
          }
        },
        "47057aaa2e3d48a1918cfed0765a07cc": {
          "model_module": "@jupyter-widgets/base",
          "model_name": "LayoutModel",
          "model_module_version": "1.2.0",
          "state": {
            "_model_module": "@jupyter-widgets/base",
            "_model_module_version": "1.2.0",
            "_model_name": "LayoutModel",
            "_view_count": null,
            "_view_module": "@jupyter-widgets/base",
            "_view_module_version": "1.2.0",
            "_view_name": "LayoutView",
            "align_content": null,
            "align_items": null,
            "align_self": null,
            "border": null,
            "bottom": null,
            "display": null,
            "flex": null,
            "flex_flow": null,
            "grid_area": null,
            "grid_auto_columns": null,
            "grid_auto_flow": null,
            "grid_auto_rows": null,
            "grid_column": null,
            "grid_gap": null,
            "grid_row": null,
            "grid_template_areas": null,
            "grid_template_columns": null,
            "grid_template_rows": null,
            "height": null,
            "justify_content": null,
            "justify_items": null,
            "left": null,
            "margin": null,
            "max_height": null,
            "max_width": null,
            "min_height": null,
            "min_width": null,
            "object_fit": null,
            "object_position": null,
            "order": null,
            "overflow": null,
            "overflow_x": null,
            "overflow_y": null,
            "padding": null,
            "right": null,
            "top": null,
            "visibility": null,
            "width": null
          }
        },
        "7736824e66384a09a53011ac2d0cbb51": {
          "model_module": "@jupyter-widgets/controls",
          "model_name": "ProgressStyleModel",
          "model_module_version": "1.5.0",
          "state": {
            "_model_module": "@jupyter-widgets/controls",
            "_model_module_version": "1.5.0",
            "_model_name": "ProgressStyleModel",
            "_view_count": null,
            "_view_module": "@jupyter-widgets/base",
            "_view_module_version": "1.2.0",
            "_view_name": "StyleView",
            "bar_color": null,
            "description_width": ""
          }
        },
        "c4f834ae4b31403b83da4e3f33dd4826": {
          "model_module": "@jupyter-widgets/base",
          "model_name": "LayoutModel",
          "model_module_version": "1.2.0",
          "state": {
            "_model_module": "@jupyter-widgets/base",
            "_model_module_version": "1.2.0",
            "_model_name": "LayoutModel",
            "_view_count": null,
            "_view_module": "@jupyter-widgets/base",
            "_view_module_version": "1.2.0",
            "_view_name": "LayoutView",
            "align_content": null,
            "align_items": null,
            "align_self": null,
            "border": null,
            "bottom": null,
            "display": null,
            "flex": null,
            "flex_flow": null,
            "grid_area": null,
            "grid_auto_columns": null,
            "grid_auto_flow": null,
            "grid_auto_rows": null,
            "grid_column": null,
            "grid_gap": null,
            "grid_row": null,
            "grid_template_areas": null,
            "grid_template_columns": null,
            "grid_template_rows": null,
            "height": null,
            "justify_content": null,
            "justify_items": null,
            "left": null,
            "margin": null,
            "max_height": null,
            "max_width": null,
            "min_height": null,
            "min_width": null,
            "object_fit": null,
            "object_position": null,
            "order": null,
            "overflow": null,
            "overflow_x": null,
            "overflow_y": null,
            "padding": null,
            "right": null,
            "top": null,
            "visibility": null,
            "width": null
          }
        },
        "dd6a050c6d0b41eba8cae2828bb3d6d0": {
          "model_module": "@jupyter-widgets/controls",
          "model_name": "DescriptionStyleModel",
          "model_module_version": "1.5.0",
          "state": {
            "_model_module": "@jupyter-widgets/controls",
            "_model_module_version": "1.5.0",
            "_model_name": "DescriptionStyleModel",
            "_view_count": null,
            "_view_module": "@jupyter-widgets/base",
            "_view_module_version": "1.2.0",
            "_view_name": "StyleView",
            "description_width": ""
          }
        },
        "8f1316bd97164c829fe2ee04b545a7d3": {
          "model_module": "@jupyter-widgets/controls",
          "model_name": "HBoxModel",
          "model_module_version": "1.5.0",
          "state": {
            "_dom_classes": [],
            "_model_module": "@jupyter-widgets/controls",
            "_model_module_version": "1.5.0",
            "_model_name": "HBoxModel",
            "_view_count": null,
            "_view_module": "@jupyter-widgets/controls",
            "_view_module_version": "1.5.0",
            "_view_name": "HBoxView",
            "box_style": "",
            "children": [
              "IPY_MODEL_be5cbe70a5764753aecde8eb0883a1c9",
              "IPY_MODEL_b91010529a934681ad980bbee223cf75",
              "IPY_MODEL_80b170089a844a08a6201f8838cfe5c6"
            ],
            "layout": "IPY_MODEL_3082f543ae3641eb9bd2d07413944e3b"
          }
        },
        "be5cbe70a5764753aecde8eb0883a1c9": {
          "model_module": "@jupyter-widgets/controls",
          "model_name": "HTMLModel",
          "model_module_version": "1.5.0",
          "state": {
            "_dom_classes": [],
            "_model_module": "@jupyter-widgets/controls",
            "_model_module_version": "1.5.0",
            "_model_name": "HTMLModel",
            "_view_count": null,
            "_view_module": "@jupyter-widgets/controls",
            "_view_module_version": "1.5.0",
            "_view_name": "HTMLView",
            "description": "",
            "description_tooltip": null,
            "layout": "IPY_MODEL_aea07f18917d4b7a8270314c9a9709dd",
            "placeholder": "​",
            "style": "IPY_MODEL_819381919df44f9fb3b0ad4acacfad68",
            "value": "100%"
          }
        },
        "b91010529a934681ad980bbee223cf75": {
          "model_module": "@jupyter-widgets/controls",
          "model_name": "FloatProgressModel",
          "model_module_version": "1.5.0",
          "state": {
            "_dom_classes": [],
            "_model_module": "@jupyter-widgets/controls",
            "_model_module_version": "1.5.0",
            "_model_name": "FloatProgressModel",
            "_view_count": null,
            "_view_module": "@jupyter-widgets/controls",
            "_view_module_version": "1.5.0",
            "_view_name": "ProgressView",
            "bar_style": "success",
            "description": "",
            "description_tooltip": null,
            "layout": "IPY_MODEL_ee825622ccb8458285d86d8ea919180f",
            "max": 50,
            "min": 0,
            "orientation": "horizontal",
            "style": "IPY_MODEL_f5bdaff0aa4c4867adce945f9e9b1107",
            "value": 50
          }
        },
        "80b170089a844a08a6201f8838cfe5c6": {
          "model_module": "@jupyter-widgets/controls",
          "model_name": "HTMLModel",
          "model_module_version": "1.5.0",
          "state": {
            "_dom_classes": [],
            "_model_module": "@jupyter-widgets/controls",
            "_model_module_version": "1.5.0",
            "_model_name": "HTMLModel",
            "_view_count": null,
            "_view_module": "@jupyter-widgets/controls",
            "_view_module_version": "1.5.0",
            "_view_name": "HTMLView",
            "description": "",
            "description_tooltip": null,
            "layout": "IPY_MODEL_f7f1ac5d7a8e45b8adcbfc0a4c908371",
            "placeholder": "​",
            "style": "IPY_MODEL_b36b547806844d008338c588c70130f1",
            "value": " 50/50 [00:05&lt;00:00,  9.88it/s]"
          }
        },
        "3082f543ae3641eb9bd2d07413944e3b": {
          "model_module": "@jupyter-widgets/base",
          "model_name": "LayoutModel",
          "model_module_version": "1.2.0",
          "state": {
            "_model_module": "@jupyter-widgets/base",
            "_model_module_version": "1.2.0",
            "_model_name": "LayoutModel",
            "_view_count": null,
            "_view_module": "@jupyter-widgets/base",
            "_view_module_version": "1.2.0",
            "_view_name": "LayoutView",
            "align_content": null,
            "align_items": null,
            "align_self": null,
            "border": null,
            "bottom": null,
            "display": null,
            "flex": null,
            "flex_flow": null,
            "grid_area": null,
            "grid_auto_columns": null,
            "grid_auto_flow": null,
            "grid_auto_rows": null,
            "grid_column": null,
            "grid_gap": null,
            "grid_row": null,
            "grid_template_areas": null,
            "grid_template_columns": null,
            "grid_template_rows": null,
            "height": null,
            "justify_content": null,
            "justify_items": null,
            "left": null,
            "margin": null,
            "max_height": null,
            "max_width": null,
            "min_height": null,
            "min_width": null,
            "object_fit": null,
            "object_position": null,
            "order": null,
            "overflow": null,
            "overflow_x": null,
            "overflow_y": null,
            "padding": null,
            "right": null,
            "top": null,
            "visibility": null,
            "width": null
          }
        },
        "aea07f18917d4b7a8270314c9a9709dd": {
          "model_module": "@jupyter-widgets/base",
          "model_name": "LayoutModel",
          "model_module_version": "1.2.0",
          "state": {
            "_model_module": "@jupyter-widgets/base",
            "_model_module_version": "1.2.0",
            "_model_name": "LayoutModel",
            "_view_count": null,
            "_view_module": "@jupyter-widgets/base",
            "_view_module_version": "1.2.0",
            "_view_name": "LayoutView",
            "align_content": null,
            "align_items": null,
            "align_self": null,
            "border": null,
            "bottom": null,
            "display": null,
            "flex": null,
            "flex_flow": null,
            "grid_area": null,
            "grid_auto_columns": null,
            "grid_auto_flow": null,
            "grid_auto_rows": null,
            "grid_column": null,
            "grid_gap": null,
            "grid_row": null,
            "grid_template_areas": null,
            "grid_template_columns": null,
            "grid_template_rows": null,
            "height": null,
            "justify_content": null,
            "justify_items": null,
            "left": null,
            "margin": null,
            "max_height": null,
            "max_width": null,
            "min_height": null,
            "min_width": null,
            "object_fit": null,
            "object_position": null,
            "order": null,
            "overflow": null,
            "overflow_x": null,
            "overflow_y": null,
            "padding": null,
            "right": null,
            "top": null,
            "visibility": null,
            "width": null
          }
        },
        "819381919df44f9fb3b0ad4acacfad68": {
          "model_module": "@jupyter-widgets/controls",
          "model_name": "DescriptionStyleModel",
          "model_module_version": "1.5.0",
          "state": {
            "_model_module": "@jupyter-widgets/controls",
            "_model_module_version": "1.5.0",
            "_model_name": "DescriptionStyleModel",
            "_view_count": null,
            "_view_module": "@jupyter-widgets/base",
            "_view_module_version": "1.2.0",
            "_view_name": "StyleView",
            "description_width": ""
          }
        },
        "ee825622ccb8458285d86d8ea919180f": {
          "model_module": "@jupyter-widgets/base",
          "model_name": "LayoutModel",
          "model_module_version": "1.2.0",
          "state": {
            "_model_module": "@jupyter-widgets/base",
            "_model_module_version": "1.2.0",
            "_model_name": "LayoutModel",
            "_view_count": null,
            "_view_module": "@jupyter-widgets/base",
            "_view_module_version": "1.2.0",
            "_view_name": "LayoutView",
            "align_content": null,
            "align_items": null,
            "align_self": null,
            "border": null,
            "bottom": null,
            "display": null,
            "flex": null,
            "flex_flow": null,
            "grid_area": null,
            "grid_auto_columns": null,
            "grid_auto_flow": null,
            "grid_auto_rows": null,
            "grid_column": null,
            "grid_gap": null,
            "grid_row": null,
            "grid_template_areas": null,
            "grid_template_columns": null,
            "grid_template_rows": null,
            "height": null,
            "justify_content": null,
            "justify_items": null,
            "left": null,
            "margin": null,
            "max_height": null,
            "max_width": null,
            "min_height": null,
            "min_width": null,
            "object_fit": null,
            "object_position": null,
            "order": null,
            "overflow": null,
            "overflow_x": null,
            "overflow_y": null,
            "padding": null,
            "right": null,
            "top": null,
            "visibility": null,
            "width": null
          }
        },
        "f5bdaff0aa4c4867adce945f9e9b1107": {
          "model_module": "@jupyter-widgets/controls",
          "model_name": "ProgressStyleModel",
          "model_module_version": "1.5.0",
          "state": {
            "_model_module": "@jupyter-widgets/controls",
            "_model_module_version": "1.5.0",
            "_model_name": "ProgressStyleModel",
            "_view_count": null,
            "_view_module": "@jupyter-widgets/base",
            "_view_module_version": "1.2.0",
            "_view_name": "StyleView",
            "bar_color": null,
            "description_width": ""
          }
        },
        "f7f1ac5d7a8e45b8adcbfc0a4c908371": {
          "model_module": "@jupyter-widgets/base",
          "model_name": "LayoutModel",
          "model_module_version": "1.2.0",
          "state": {
            "_model_module": "@jupyter-widgets/base",
            "_model_module_version": "1.2.0",
            "_model_name": "LayoutModel",
            "_view_count": null,
            "_view_module": "@jupyter-widgets/base",
            "_view_module_version": "1.2.0",
            "_view_name": "LayoutView",
            "align_content": null,
            "align_items": null,
            "align_self": null,
            "border": null,
            "bottom": null,
            "display": null,
            "flex": null,
            "flex_flow": null,
            "grid_area": null,
            "grid_auto_columns": null,
            "grid_auto_flow": null,
            "grid_auto_rows": null,
            "grid_column": null,
            "grid_gap": null,
            "grid_row": null,
            "grid_template_areas": null,
            "grid_template_columns": null,
            "grid_template_rows": null,
            "height": null,
            "justify_content": null,
            "justify_items": null,
            "left": null,
            "margin": null,
            "max_height": null,
            "max_width": null,
            "min_height": null,
            "min_width": null,
            "object_fit": null,
            "object_position": null,
            "order": null,
            "overflow": null,
            "overflow_x": null,
            "overflow_y": null,
            "padding": null,
            "right": null,
            "top": null,
            "visibility": null,
            "width": null
          }
        },
        "b36b547806844d008338c588c70130f1": {
          "model_module": "@jupyter-widgets/controls",
          "model_name": "DescriptionStyleModel",
          "model_module_version": "1.5.0",
          "state": {
            "_model_module": "@jupyter-widgets/controls",
            "_model_module_version": "1.5.0",
            "_model_name": "DescriptionStyleModel",
            "_view_count": null,
            "_view_module": "@jupyter-widgets/base",
            "_view_module_version": "1.2.0",
            "_view_name": "StyleView",
            "description_width": ""
          }
        },
        "b9a8f5ab185b4def918cd8444d479d50": {
          "model_module": "@jupyter-widgets/controls",
          "model_name": "HBoxModel",
          "model_module_version": "1.5.0",
          "state": {
            "_dom_classes": [],
            "_model_module": "@jupyter-widgets/controls",
            "_model_module_version": "1.5.0",
            "_model_name": "HBoxModel",
            "_view_count": null,
            "_view_module": "@jupyter-widgets/controls",
            "_view_module_version": "1.5.0",
            "_view_name": "HBoxView",
            "box_style": "",
            "children": [
              "IPY_MODEL_b470324387cb4ef7865d1a66b97c427c",
              "IPY_MODEL_2963121044ab49a0b23c6ffe9d74783a",
              "IPY_MODEL_9587ca7abaf54a5fab436cf114c04cbb"
            ],
            "layout": "IPY_MODEL_deed126bb69844598428f195ec58bc68"
          }
        },
        "b470324387cb4ef7865d1a66b97c427c": {
          "model_module": "@jupyter-widgets/controls",
          "model_name": "HTMLModel",
          "model_module_version": "1.5.0",
          "state": {
            "_dom_classes": [],
            "_model_module": "@jupyter-widgets/controls",
            "_model_module_version": "1.5.0",
            "_model_name": "HTMLModel",
            "_view_count": null,
            "_view_module": "@jupyter-widgets/controls",
            "_view_module_version": "1.5.0",
            "_view_name": "HTMLView",
            "description": "",
            "description_tooltip": null,
            "layout": "IPY_MODEL_5a6210f54a764921809cfe29f4d93a7d",
            "placeholder": "​",
            "style": "IPY_MODEL_9d540dc53e26413abc292d8e1f931010",
            "value": "100%"
          }
        },
        "2963121044ab49a0b23c6ffe9d74783a": {
          "model_module": "@jupyter-widgets/controls",
          "model_name": "FloatProgressModel",
          "model_module_version": "1.5.0",
          "state": {
            "_dom_classes": [],
            "_model_module": "@jupyter-widgets/controls",
            "_model_module_version": "1.5.0",
            "_model_name": "FloatProgressModel",
            "_view_count": null,
            "_view_module": "@jupyter-widgets/controls",
            "_view_module_version": "1.5.0",
            "_view_name": "ProgressView",
            "bar_style": "success",
            "description": "",
            "description_tooltip": null,
            "layout": "IPY_MODEL_f59c20c68cb34f198b5fa0e4cae4b685",
            "max": 50,
            "min": 0,
            "orientation": "horizontal",
            "style": "IPY_MODEL_e451a18ce5064d7d9d26ba6d86395d7a",
            "value": 50
          }
        },
        "9587ca7abaf54a5fab436cf114c04cbb": {
          "model_module": "@jupyter-widgets/controls",
          "model_name": "HTMLModel",
          "model_module_version": "1.5.0",
          "state": {
            "_dom_classes": [],
            "_model_module": "@jupyter-widgets/controls",
            "_model_module_version": "1.5.0",
            "_model_name": "HTMLModel",
            "_view_count": null,
            "_view_module": "@jupyter-widgets/controls",
            "_view_module_version": "1.5.0",
            "_view_name": "HTMLView",
            "description": "",
            "description_tooltip": null,
            "layout": "IPY_MODEL_a16498e6fb9445b4add2714876c601ae",
            "placeholder": "​",
            "style": "IPY_MODEL_9af2d150ea354b248ad686d0d7518210",
            "value": " 50/50 [00:05&lt;00:00,  9.87it/s]"
          }
        },
        "deed126bb69844598428f195ec58bc68": {
          "model_module": "@jupyter-widgets/base",
          "model_name": "LayoutModel",
          "model_module_version": "1.2.0",
          "state": {
            "_model_module": "@jupyter-widgets/base",
            "_model_module_version": "1.2.0",
            "_model_name": "LayoutModel",
            "_view_count": null,
            "_view_module": "@jupyter-widgets/base",
            "_view_module_version": "1.2.0",
            "_view_name": "LayoutView",
            "align_content": null,
            "align_items": null,
            "align_self": null,
            "border": null,
            "bottom": null,
            "display": null,
            "flex": null,
            "flex_flow": null,
            "grid_area": null,
            "grid_auto_columns": null,
            "grid_auto_flow": null,
            "grid_auto_rows": null,
            "grid_column": null,
            "grid_gap": null,
            "grid_row": null,
            "grid_template_areas": null,
            "grid_template_columns": null,
            "grid_template_rows": null,
            "height": null,
            "justify_content": null,
            "justify_items": null,
            "left": null,
            "margin": null,
            "max_height": null,
            "max_width": null,
            "min_height": null,
            "min_width": null,
            "object_fit": null,
            "object_position": null,
            "order": null,
            "overflow": null,
            "overflow_x": null,
            "overflow_y": null,
            "padding": null,
            "right": null,
            "top": null,
            "visibility": null,
            "width": null
          }
        },
        "5a6210f54a764921809cfe29f4d93a7d": {
          "model_module": "@jupyter-widgets/base",
          "model_name": "LayoutModel",
          "model_module_version": "1.2.0",
          "state": {
            "_model_module": "@jupyter-widgets/base",
            "_model_module_version": "1.2.0",
            "_model_name": "LayoutModel",
            "_view_count": null,
            "_view_module": "@jupyter-widgets/base",
            "_view_module_version": "1.2.0",
            "_view_name": "LayoutView",
            "align_content": null,
            "align_items": null,
            "align_self": null,
            "border": null,
            "bottom": null,
            "display": null,
            "flex": null,
            "flex_flow": null,
            "grid_area": null,
            "grid_auto_columns": null,
            "grid_auto_flow": null,
            "grid_auto_rows": null,
            "grid_column": null,
            "grid_gap": null,
            "grid_row": null,
            "grid_template_areas": null,
            "grid_template_columns": null,
            "grid_template_rows": null,
            "height": null,
            "justify_content": null,
            "justify_items": null,
            "left": null,
            "margin": null,
            "max_height": null,
            "max_width": null,
            "min_height": null,
            "min_width": null,
            "object_fit": null,
            "object_position": null,
            "order": null,
            "overflow": null,
            "overflow_x": null,
            "overflow_y": null,
            "padding": null,
            "right": null,
            "top": null,
            "visibility": null,
            "width": null
          }
        },
        "9d540dc53e26413abc292d8e1f931010": {
          "model_module": "@jupyter-widgets/controls",
          "model_name": "DescriptionStyleModel",
          "model_module_version": "1.5.0",
          "state": {
            "_model_module": "@jupyter-widgets/controls",
            "_model_module_version": "1.5.0",
            "_model_name": "DescriptionStyleModel",
            "_view_count": null,
            "_view_module": "@jupyter-widgets/base",
            "_view_module_version": "1.2.0",
            "_view_name": "StyleView",
            "description_width": ""
          }
        },
        "f59c20c68cb34f198b5fa0e4cae4b685": {
          "model_module": "@jupyter-widgets/base",
          "model_name": "LayoutModel",
          "model_module_version": "1.2.0",
          "state": {
            "_model_module": "@jupyter-widgets/base",
            "_model_module_version": "1.2.0",
            "_model_name": "LayoutModel",
            "_view_count": null,
            "_view_module": "@jupyter-widgets/base",
            "_view_module_version": "1.2.0",
            "_view_name": "LayoutView",
            "align_content": null,
            "align_items": null,
            "align_self": null,
            "border": null,
            "bottom": null,
            "display": null,
            "flex": null,
            "flex_flow": null,
            "grid_area": null,
            "grid_auto_columns": null,
            "grid_auto_flow": null,
            "grid_auto_rows": null,
            "grid_column": null,
            "grid_gap": null,
            "grid_row": null,
            "grid_template_areas": null,
            "grid_template_columns": null,
            "grid_template_rows": null,
            "height": null,
            "justify_content": null,
            "justify_items": null,
            "left": null,
            "margin": null,
            "max_height": null,
            "max_width": null,
            "min_height": null,
            "min_width": null,
            "object_fit": null,
            "object_position": null,
            "order": null,
            "overflow": null,
            "overflow_x": null,
            "overflow_y": null,
            "padding": null,
            "right": null,
            "top": null,
            "visibility": null,
            "width": null
          }
        },
        "e451a18ce5064d7d9d26ba6d86395d7a": {
          "model_module": "@jupyter-widgets/controls",
          "model_name": "ProgressStyleModel",
          "model_module_version": "1.5.0",
          "state": {
            "_model_module": "@jupyter-widgets/controls",
            "_model_module_version": "1.5.0",
            "_model_name": "ProgressStyleModel",
            "_view_count": null,
            "_view_module": "@jupyter-widgets/base",
            "_view_module_version": "1.2.0",
            "_view_name": "StyleView",
            "bar_color": null,
            "description_width": ""
          }
        },
        "a16498e6fb9445b4add2714876c601ae": {
          "model_module": "@jupyter-widgets/base",
          "model_name": "LayoutModel",
          "model_module_version": "1.2.0",
          "state": {
            "_model_module": "@jupyter-widgets/base",
            "_model_module_version": "1.2.0",
            "_model_name": "LayoutModel",
            "_view_count": null,
            "_view_module": "@jupyter-widgets/base",
            "_view_module_version": "1.2.0",
            "_view_name": "LayoutView",
            "align_content": null,
            "align_items": null,
            "align_self": null,
            "border": null,
            "bottom": null,
            "display": null,
            "flex": null,
            "flex_flow": null,
            "grid_area": null,
            "grid_auto_columns": null,
            "grid_auto_flow": null,
            "grid_auto_rows": null,
            "grid_column": null,
            "grid_gap": null,
            "grid_row": null,
            "grid_template_areas": null,
            "grid_template_columns": null,
            "grid_template_rows": null,
            "height": null,
            "justify_content": null,
            "justify_items": null,
            "left": null,
            "margin": null,
            "max_height": null,
            "max_width": null,
            "min_height": null,
            "min_width": null,
            "object_fit": null,
            "object_position": null,
            "order": null,
            "overflow": null,
            "overflow_x": null,
            "overflow_y": null,
            "padding": null,
            "right": null,
            "top": null,
            "visibility": null,
            "width": null
          }
        },
        "9af2d150ea354b248ad686d0d7518210": {
          "model_module": "@jupyter-widgets/controls",
          "model_name": "DescriptionStyleModel",
          "model_module_version": "1.5.0",
          "state": {
            "_model_module": "@jupyter-widgets/controls",
            "_model_module_version": "1.5.0",
            "_model_name": "DescriptionStyleModel",
            "_view_count": null,
            "_view_module": "@jupyter-widgets/base",
            "_view_module_version": "1.2.0",
            "_view_name": "StyleView",
            "description_width": ""
          }
        },
        "adb3642aa061432184192f007a3c7c97": {
          "model_module": "@jupyter-widgets/controls",
          "model_name": "HBoxModel",
          "model_module_version": "1.5.0",
          "state": {
            "_dom_classes": [],
            "_model_module": "@jupyter-widgets/controls",
            "_model_module_version": "1.5.0",
            "_model_name": "HBoxModel",
            "_view_count": null,
            "_view_module": "@jupyter-widgets/controls",
            "_view_module_version": "1.5.0",
            "_view_name": "HBoxView",
            "box_style": "",
            "children": [
              "IPY_MODEL_6d2b4008a7c2467f87f07fdfa26cbfcd",
              "IPY_MODEL_c19488a0305f4aaca3d580db6aa45c1f",
              "IPY_MODEL_d18cfead7b604d9ca403f181d1c883e7"
            ],
            "layout": "IPY_MODEL_0487a3fb6a9a4172aa24b4250b1a669c"
          }
        },
        "6d2b4008a7c2467f87f07fdfa26cbfcd": {
          "model_module": "@jupyter-widgets/controls",
          "model_name": "HTMLModel",
          "model_module_version": "1.5.0",
          "state": {
            "_dom_classes": [],
            "_model_module": "@jupyter-widgets/controls",
            "_model_module_version": "1.5.0",
            "_model_name": "HTMLModel",
            "_view_count": null,
            "_view_module": "@jupyter-widgets/controls",
            "_view_module_version": "1.5.0",
            "_view_name": "HTMLView",
            "description": "",
            "description_tooltip": null,
            "layout": "IPY_MODEL_d33a409219b34382991cb36b537ea608",
            "placeholder": "​",
            "style": "IPY_MODEL_2cc6c367788541a3bb4687866b2223eb",
            "value": "100%"
          }
        },
        "c19488a0305f4aaca3d580db6aa45c1f": {
          "model_module": "@jupyter-widgets/controls",
          "model_name": "FloatProgressModel",
          "model_module_version": "1.5.0",
          "state": {
            "_dom_classes": [],
            "_model_module": "@jupyter-widgets/controls",
            "_model_module_version": "1.5.0",
            "_model_name": "FloatProgressModel",
            "_view_count": null,
            "_view_module": "@jupyter-widgets/controls",
            "_view_module_version": "1.5.0",
            "_view_name": "ProgressView",
            "bar_style": "success",
            "description": "",
            "description_tooltip": null,
            "layout": "IPY_MODEL_256f77ce5eb142ab8a66a8a3f572b9af",
            "max": 50,
            "min": 0,
            "orientation": "horizontal",
            "style": "IPY_MODEL_96e6de21bebf4f879969acb4ab5c0c94",
            "value": 50
          }
        },
        "d18cfead7b604d9ca403f181d1c883e7": {
          "model_module": "@jupyter-widgets/controls",
          "model_name": "HTMLModel",
          "model_module_version": "1.5.0",
          "state": {
            "_dom_classes": [],
            "_model_module": "@jupyter-widgets/controls",
            "_model_module_version": "1.5.0",
            "_model_name": "HTMLModel",
            "_view_count": null,
            "_view_module": "@jupyter-widgets/controls",
            "_view_module_version": "1.5.0",
            "_view_name": "HTMLView",
            "description": "",
            "description_tooltip": null,
            "layout": "IPY_MODEL_c8bbf67d9c0045a380bf30df2af7cfd1",
            "placeholder": "​",
            "style": "IPY_MODEL_21cc788dd3164bbcbd0a3cc89c1f469f",
            "value": " 50/50 [00:05&lt;00:00,  9.87it/s]"
          }
        },
        "0487a3fb6a9a4172aa24b4250b1a669c": {
          "model_module": "@jupyter-widgets/base",
          "model_name": "LayoutModel",
          "model_module_version": "1.2.0",
          "state": {
            "_model_module": "@jupyter-widgets/base",
            "_model_module_version": "1.2.0",
            "_model_name": "LayoutModel",
            "_view_count": null,
            "_view_module": "@jupyter-widgets/base",
            "_view_module_version": "1.2.0",
            "_view_name": "LayoutView",
            "align_content": null,
            "align_items": null,
            "align_self": null,
            "border": null,
            "bottom": null,
            "display": null,
            "flex": null,
            "flex_flow": null,
            "grid_area": null,
            "grid_auto_columns": null,
            "grid_auto_flow": null,
            "grid_auto_rows": null,
            "grid_column": null,
            "grid_gap": null,
            "grid_row": null,
            "grid_template_areas": null,
            "grid_template_columns": null,
            "grid_template_rows": null,
            "height": null,
            "justify_content": null,
            "justify_items": null,
            "left": null,
            "margin": null,
            "max_height": null,
            "max_width": null,
            "min_height": null,
            "min_width": null,
            "object_fit": null,
            "object_position": null,
            "order": null,
            "overflow": null,
            "overflow_x": null,
            "overflow_y": null,
            "padding": null,
            "right": null,
            "top": null,
            "visibility": null,
            "width": null
          }
        },
        "d33a409219b34382991cb36b537ea608": {
          "model_module": "@jupyter-widgets/base",
          "model_name": "LayoutModel",
          "model_module_version": "1.2.0",
          "state": {
            "_model_module": "@jupyter-widgets/base",
            "_model_module_version": "1.2.0",
            "_model_name": "LayoutModel",
            "_view_count": null,
            "_view_module": "@jupyter-widgets/base",
            "_view_module_version": "1.2.0",
            "_view_name": "LayoutView",
            "align_content": null,
            "align_items": null,
            "align_self": null,
            "border": null,
            "bottom": null,
            "display": null,
            "flex": null,
            "flex_flow": null,
            "grid_area": null,
            "grid_auto_columns": null,
            "grid_auto_flow": null,
            "grid_auto_rows": null,
            "grid_column": null,
            "grid_gap": null,
            "grid_row": null,
            "grid_template_areas": null,
            "grid_template_columns": null,
            "grid_template_rows": null,
            "height": null,
            "justify_content": null,
            "justify_items": null,
            "left": null,
            "margin": null,
            "max_height": null,
            "max_width": null,
            "min_height": null,
            "min_width": null,
            "object_fit": null,
            "object_position": null,
            "order": null,
            "overflow": null,
            "overflow_x": null,
            "overflow_y": null,
            "padding": null,
            "right": null,
            "top": null,
            "visibility": null,
            "width": null
          }
        },
        "2cc6c367788541a3bb4687866b2223eb": {
          "model_module": "@jupyter-widgets/controls",
          "model_name": "DescriptionStyleModel",
          "model_module_version": "1.5.0",
          "state": {
            "_model_module": "@jupyter-widgets/controls",
            "_model_module_version": "1.5.0",
            "_model_name": "DescriptionStyleModel",
            "_view_count": null,
            "_view_module": "@jupyter-widgets/base",
            "_view_module_version": "1.2.0",
            "_view_name": "StyleView",
            "description_width": ""
          }
        },
        "256f77ce5eb142ab8a66a8a3f572b9af": {
          "model_module": "@jupyter-widgets/base",
          "model_name": "LayoutModel",
          "model_module_version": "1.2.0",
          "state": {
            "_model_module": "@jupyter-widgets/base",
            "_model_module_version": "1.2.0",
            "_model_name": "LayoutModel",
            "_view_count": null,
            "_view_module": "@jupyter-widgets/base",
            "_view_module_version": "1.2.0",
            "_view_name": "LayoutView",
            "align_content": null,
            "align_items": null,
            "align_self": null,
            "border": null,
            "bottom": null,
            "display": null,
            "flex": null,
            "flex_flow": null,
            "grid_area": null,
            "grid_auto_columns": null,
            "grid_auto_flow": null,
            "grid_auto_rows": null,
            "grid_column": null,
            "grid_gap": null,
            "grid_row": null,
            "grid_template_areas": null,
            "grid_template_columns": null,
            "grid_template_rows": null,
            "height": null,
            "justify_content": null,
            "justify_items": null,
            "left": null,
            "margin": null,
            "max_height": null,
            "max_width": null,
            "min_height": null,
            "min_width": null,
            "object_fit": null,
            "object_position": null,
            "order": null,
            "overflow": null,
            "overflow_x": null,
            "overflow_y": null,
            "padding": null,
            "right": null,
            "top": null,
            "visibility": null,
            "width": null
          }
        },
        "96e6de21bebf4f879969acb4ab5c0c94": {
          "model_module": "@jupyter-widgets/controls",
          "model_name": "ProgressStyleModel",
          "model_module_version": "1.5.0",
          "state": {
            "_model_module": "@jupyter-widgets/controls",
            "_model_module_version": "1.5.0",
            "_model_name": "ProgressStyleModel",
            "_view_count": null,
            "_view_module": "@jupyter-widgets/base",
            "_view_module_version": "1.2.0",
            "_view_name": "StyleView",
            "bar_color": null,
            "description_width": ""
          }
        },
        "c8bbf67d9c0045a380bf30df2af7cfd1": {
          "model_module": "@jupyter-widgets/base",
          "model_name": "LayoutModel",
          "model_module_version": "1.2.0",
          "state": {
            "_model_module": "@jupyter-widgets/base",
            "_model_module_version": "1.2.0",
            "_model_name": "LayoutModel",
            "_view_count": null,
            "_view_module": "@jupyter-widgets/base",
            "_view_module_version": "1.2.0",
            "_view_name": "LayoutView",
            "align_content": null,
            "align_items": null,
            "align_self": null,
            "border": null,
            "bottom": null,
            "display": null,
            "flex": null,
            "flex_flow": null,
            "grid_area": null,
            "grid_auto_columns": null,
            "grid_auto_flow": null,
            "grid_auto_rows": null,
            "grid_column": null,
            "grid_gap": null,
            "grid_row": null,
            "grid_template_areas": null,
            "grid_template_columns": null,
            "grid_template_rows": null,
            "height": null,
            "justify_content": null,
            "justify_items": null,
            "left": null,
            "margin": null,
            "max_height": null,
            "max_width": null,
            "min_height": null,
            "min_width": null,
            "object_fit": null,
            "object_position": null,
            "order": null,
            "overflow": null,
            "overflow_x": null,
            "overflow_y": null,
            "padding": null,
            "right": null,
            "top": null,
            "visibility": null,
            "width": null
          }
        },
        "21cc788dd3164bbcbd0a3cc89c1f469f": {
          "model_module": "@jupyter-widgets/controls",
          "model_name": "DescriptionStyleModel",
          "model_module_version": "1.5.0",
          "state": {
            "_model_module": "@jupyter-widgets/controls",
            "_model_module_version": "1.5.0",
            "_model_name": "DescriptionStyleModel",
            "_view_count": null,
            "_view_module": "@jupyter-widgets/base",
            "_view_module_version": "1.2.0",
            "_view_name": "StyleView",
            "description_width": ""
          }
        },
        "89eddc25d7124c5abf838a7cf456a07b": {
          "model_module": "@jupyter-widgets/controls",
          "model_name": "HBoxModel",
          "model_module_version": "1.5.0",
          "state": {
            "_dom_classes": [],
            "_model_module": "@jupyter-widgets/controls",
            "_model_module_version": "1.5.0",
            "_model_name": "HBoxModel",
            "_view_count": null,
            "_view_module": "@jupyter-widgets/controls",
            "_view_module_version": "1.5.0",
            "_view_name": "HBoxView",
            "box_style": "",
            "children": [
              "IPY_MODEL_d41c6b8f12ec492d9240b22290a3c5f0",
              "IPY_MODEL_273a6f0df03f41f69276497c94751d1b",
              "IPY_MODEL_85978024be7c4eddb19cd159cfb80da1"
            ],
            "layout": "IPY_MODEL_65aa04b65a2040e591adbe3f9a3dbde4"
          }
        },
        "d41c6b8f12ec492d9240b22290a3c5f0": {
          "model_module": "@jupyter-widgets/controls",
          "model_name": "HTMLModel",
          "model_module_version": "1.5.0",
          "state": {
            "_dom_classes": [],
            "_model_module": "@jupyter-widgets/controls",
            "_model_module_version": "1.5.0",
            "_model_name": "HTMLModel",
            "_view_count": null,
            "_view_module": "@jupyter-widgets/controls",
            "_view_module_version": "1.5.0",
            "_view_name": "HTMLView",
            "description": "",
            "description_tooltip": null,
            "layout": "IPY_MODEL_88e7a78c42e948ca955708179ac6fba9",
            "placeholder": "​",
            "style": "IPY_MODEL_667a407c8567457783ea7113c52c550f",
            "value": "100%"
          }
        },
        "273a6f0df03f41f69276497c94751d1b": {
          "model_module": "@jupyter-widgets/controls",
          "model_name": "FloatProgressModel",
          "model_module_version": "1.5.0",
          "state": {
            "_dom_classes": [],
            "_model_module": "@jupyter-widgets/controls",
            "_model_module_version": "1.5.0",
            "_model_name": "FloatProgressModel",
            "_view_count": null,
            "_view_module": "@jupyter-widgets/controls",
            "_view_module_version": "1.5.0",
            "_view_name": "ProgressView",
            "bar_style": "success",
            "description": "",
            "description_tooltip": null,
            "layout": "IPY_MODEL_18fb9dfb081d4da8b4ac6d640d9e458a",
            "max": 50,
            "min": 0,
            "orientation": "horizontal",
            "style": "IPY_MODEL_49d3e89ad6ce4c07a87e57b0b2c9f54c",
            "value": 50
          }
        },
        "85978024be7c4eddb19cd159cfb80da1": {
          "model_module": "@jupyter-widgets/controls",
          "model_name": "HTMLModel",
          "model_module_version": "1.5.0",
          "state": {
            "_dom_classes": [],
            "_model_module": "@jupyter-widgets/controls",
            "_model_module_version": "1.5.0",
            "_model_name": "HTMLModel",
            "_view_count": null,
            "_view_module": "@jupyter-widgets/controls",
            "_view_module_version": "1.5.0",
            "_view_name": "HTMLView",
            "description": "",
            "description_tooltip": null,
            "layout": "IPY_MODEL_dfb7055f148b4b3d9c9541c9962c91be",
            "placeholder": "​",
            "style": "IPY_MODEL_cd2d01ebcdbb490ead7ad6cf787acacc",
            "value": " 50/50 [00:05&lt;00:00,  9.88it/s]"
          }
        },
        "65aa04b65a2040e591adbe3f9a3dbde4": {
          "model_module": "@jupyter-widgets/base",
          "model_name": "LayoutModel",
          "model_module_version": "1.2.0",
          "state": {
            "_model_module": "@jupyter-widgets/base",
            "_model_module_version": "1.2.0",
            "_model_name": "LayoutModel",
            "_view_count": null,
            "_view_module": "@jupyter-widgets/base",
            "_view_module_version": "1.2.0",
            "_view_name": "LayoutView",
            "align_content": null,
            "align_items": null,
            "align_self": null,
            "border": null,
            "bottom": null,
            "display": null,
            "flex": null,
            "flex_flow": null,
            "grid_area": null,
            "grid_auto_columns": null,
            "grid_auto_flow": null,
            "grid_auto_rows": null,
            "grid_column": null,
            "grid_gap": null,
            "grid_row": null,
            "grid_template_areas": null,
            "grid_template_columns": null,
            "grid_template_rows": null,
            "height": null,
            "justify_content": null,
            "justify_items": null,
            "left": null,
            "margin": null,
            "max_height": null,
            "max_width": null,
            "min_height": null,
            "min_width": null,
            "object_fit": null,
            "object_position": null,
            "order": null,
            "overflow": null,
            "overflow_x": null,
            "overflow_y": null,
            "padding": null,
            "right": null,
            "top": null,
            "visibility": null,
            "width": null
          }
        },
        "88e7a78c42e948ca955708179ac6fba9": {
          "model_module": "@jupyter-widgets/base",
          "model_name": "LayoutModel",
          "model_module_version": "1.2.0",
          "state": {
            "_model_module": "@jupyter-widgets/base",
            "_model_module_version": "1.2.0",
            "_model_name": "LayoutModel",
            "_view_count": null,
            "_view_module": "@jupyter-widgets/base",
            "_view_module_version": "1.2.0",
            "_view_name": "LayoutView",
            "align_content": null,
            "align_items": null,
            "align_self": null,
            "border": null,
            "bottom": null,
            "display": null,
            "flex": null,
            "flex_flow": null,
            "grid_area": null,
            "grid_auto_columns": null,
            "grid_auto_flow": null,
            "grid_auto_rows": null,
            "grid_column": null,
            "grid_gap": null,
            "grid_row": null,
            "grid_template_areas": null,
            "grid_template_columns": null,
            "grid_template_rows": null,
            "height": null,
            "justify_content": null,
            "justify_items": null,
            "left": null,
            "margin": null,
            "max_height": null,
            "max_width": null,
            "min_height": null,
            "min_width": null,
            "object_fit": null,
            "object_position": null,
            "order": null,
            "overflow": null,
            "overflow_x": null,
            "overflow_y": null,
            "padding": null,
            "right": null,
            "top": null,
            "visibility": null,
            "width": null
          }
        },
        "667a407c8567457783ea7113c52c550f": {
          "model_module": "@jupyter-widgets/controls",
          "model_name": "DescriptionStyleModel",
          "model_module_version": "1.5.0",
          "state": {
            "_model_module": "@jupyter-widgets/controls",
            "_model_module_version": "1.5.0",
            "_model_name": "DescriptionStyleModel",
            "_view_count": null,
            "_view_module": "@jupyter-widgets/base",
            "_view_module_version": "1.2.0",
            "_view_name": "StyleView",
            "description_width": ""
          }
        },
        "18fb9dfb081d4da8b4ac6d640d9e458a": {
          "model_module": "@jupyter-widgets/base",
          "model_name": "LayoutModel",
          "model_module_version": "1.2.0",
          "state": {
            "_model_module": "@jupyter-widgets/base",
            "_model_module_version": "1.2.0",
            "_model_name": "LayoutModel",
            "_view_count": null,
            "_view_module": "@jupyter-widgets/base",
            "_view_module_version": "1.2.0",
            "_view_name": "LayoutView",
            "align_content": null,
            "align_items": null,
            "align_self": null,
            "border": null,
            "bottom": null,
            "display": null,
            "flex": null,
            "flex_flow": null,
            "grid_area": null,
            "grid_auto_columns": null,
            "grid_auto_flow": null,
            "grid_auto_rows": null,
            "grid_column": null,
            "grid_gap": null,
            "grid_row": null,
            "grid_template_areas": null,
            "grid_template_columns": null,
            "grid_template_rows": null,
            "height": null,
            "justify_content": null,
            "justify_items": null,
            "left": null,
            "margin": null,
            "max_height": null,
            "max_width": null,
            "min_height": null,
            "min_width": null,
            "object_fit": null,
            "object_position": null,
            "order": null,
            "overflow": null,
            "overflow_x": null,
            "overflow_y": null,
            "padding": null,
            "right": null,
            "top": null,
            "visibility": null,
            "width": null
          }
        },
        "49d3e89ad6ce4c07a87e57b0b2c9f54c": {
          "model_module": "@jupyter-widgets/controls",
          "model_name": "ProgressStyleModel",
          "model_module_version": "1.5.0",
          "state": {
            "_model_module": "@jupyter-widgets/controls",
            "_model_module_version": "1.5.0",
            "_model_name": "ProgressStyleModel",
            "_view_count": null,
            "_view_module": "@jupyter-widgets/base",
            "_view_module_version": "1.2.0",
            "_view_name": "StyleView",
            "bar_color": null,
            "description_width": ""
          }
        },
        "dfb7055f148b4b3d9c9541c9962c91be": {
          "model_module": "@jupyter-widgets/base",
          "model_name": "LayoutModel",
          "model_module_version": "1.2.0",
          "state": {
            "_model_module": "@jupyter-widgets/base",
            "_model_module_version": "1.2.0",
            "_model_name": "LayoutModel",
            "_view_count": null,
            "_view_module": "@jupyter-widgets/base",
            "_view_module_version": "1.2.0",
            "_view_name": "LayoutView",
            "align_content": null,
            "align_items": null,
            "align_self": null,
            "border": null,
            "bottom": null,
            "display": null,
            "flex": null,
            "flex_flow": null,
            "grid_area": null,
            "grid_auto_columns": null,
            "grid_auto_flow": null,
            "grid_auto_rows": null,
            "grid_column": null,
            "grid_gap": null,
            "grid_row": null,
            "grid_template_areas": null,
            "grid_template_columns": null,
            "grid_template_rows": null,
            "height": null,
            "justify_content": null,
            "justify_items": null,
            "left": null,
            "margin": null,
            "max_height": null,
            "max_width": null,
            "min_height": null,
            "min_width": null,
            "object_fit": null,
            "object_position": null,
            "order": null,
            "overflow": null,
            "overflow_x": null,
            "overflow_y": null,
            "padding": null,
            "right": null,
            "top": null,
            "visibility": null,
            "width": null
          }
        },
        "cd2d01ebcdbb490ead7ad6cf787acacc": {
          "model_module": "@jupyter-widgets/controls",
          "model_name": "DescriptionStyleModel",
          "model_module_version": "1.5.0",
          "state": {
            "_model_module": "@jupyter-widgets/controls",
            "_model_module_version": "1.5.0",
            "_model_name": "DescriptionStyleModel",
            "_view_count": null,
            "_view_module": "@jupyter-widgets/base",
            "_view_module_version": "1.2.0",
            "_view_name": "StyleView",
            "description_width": ""
          }
        },
        "815bb9ce5abf4b8b80ae2f78b3410a1f": {
          "model_module": "@jupyter-widgets/controls",
          "model_name": "HBoxModel",
          "model_module_version": "1.5.0",
          "state": {
            "_dom_classes": [],
            "_model_module": "@jupyter-widgets/controls",
            "_model_module_version": "1.5.0",
            "_model_name": "HBoxModel",
            "_view_count": null,
            "_view_module": "@jupyter-widgets/controls",
            "_view_module_version": "1.5.0",
            "_view_name": "HBoxView",
            "box_style": "",
            "children": [
              "IPY_MODEL_94463ee97f224a2f84f24b59d1040bbc",
              "IPY_MODEL_9231685075ae45ea8097eedfdda08cdd",
              "IPY_MODEL_418d35726cff49dc836f3de79a14ece8"
            ],
            "layout": "IPY_MODEL_bb196b826ac140ed930b8f047ebe09d7"
          }
        },
        "94463ee97f224a2f84f24b59d1040bbc": {
          "model_module": "@jupyter-widgets/controls",
          "model_name": "HTMLModel",
          "model_module_version": "1.5.0",
          "state": {
            "_dom_classes": [],
            "_model_module": "@jupyter-widgets/controls",
            "_model_module_version": "1.5.0",
            "_model_name": "HTMLModel",
            "_view_count": null,
            "_view_module": "@jupyter-widgets/controls",
            "_view_module_version": "1.5.0",
            "_view_name": "HTMLView",
            "description": "",
            "description_tooltip": null,
            "layout": "IPY_MODEL_2c7e853084da4a2c98495eb00d9b1b74",
            "placeholder": "​",
            "style": "IPY_MODEL_73abeb74ba2a4098a74ae72d549a7bae",
            "value": "100%"
          }
        },
        "9231685075ae45ea8097eedfdda08cdd": {
          "model_module": "@jupyter-widgets/controls",
          "model_name": "FloatProgressModel",
          "model_module_version": "1.5.0",
          "state": {
            "_dom_classes": [],
            "_model_module": "@jupyter-widgets/controls",
            "_model_module_version": "1.5.0",
            "_model_name": "FloatProgressModel",
            "_view_count": null,
            "_view_module": "@jupyter-widgets/controls",
            "_view_module_version": "1.5.0",
            "_view_name": "ProgressView",
            "bar_style": "success",
            "description": "",
            "description_tooltip": null,
            "layout": "IPY_MODEL_259147d77564499aa4fef5862d9e78b6",
            "max": 50,
            "min": 0,
            "orientation": "horizontal",
            "style": "IPY_MODEL_e09cf613905240a8a736a55d67717590",
            "value": 50
          }
        },
        "418d35726cff49dc836f3de79a14ece8": {
          "model_module": "@jupyter-widgets/controls",
          "model_name": "HTMLModel",
          "model_module_version": "1.5.0",
          "state": {
            "_dom_classes": [],
            "_model_module": "@jupyter-widgets/controls",
            "_model_module_version": "1.5.0",
            "_model_name": "HTMLModel",
            "_view_count": null,
            "_view_module": "@jupyter-widgets/controls",
            "_view_module_version": "1.5.0",
            "_view_name": "HTMLView",
            "description": "",
            "description_tooltip": null,
            "layout": "IPY_MODEL_8dd038876c0a48e195394e9034fd648e",
            "placeholder": "​",
            "style": "IPY_MODEL_92850178701d4f7ea3f8ca868b9a04f9",
            "value": " 50/50 [00:05&lt;00:00,  9.88it/s]"
          }
        },
        "bb196b826ac140ed930b8f047ebe09d7": {
          "model_module": "@jupyter-widgets/base",
          "model_name": "LayoutModel",
          "model_module_version": "1.2.0",
          "state": {
            "_model_module": "@jupyter-widgets/base",
            "_model_module_version": "1.2.0",
            "_model_name": "LayoutModel",
            "_view_count": null,
            "_view_module": "@jupyter-widgets/base",
            "_view_module_version": "1.2.0",
            "_view_name": "LayoutView",
            "align_content": null,
            "align_items": null,
            "align_self": null,
            "border": null,
            "bottom": null,
            "display": null,
            "flex": null,
            "flex_flow": null,
            "grid_area": null,
            "grid_auto_columns": null,
            "grid_auto_flow": null,
            "grid_auto_rows": null,
            "grid_column": null,
            "grid_gap": null,
            "grid_row": null,
            "grid_template_areas": null,
            "grid_template_columns": null,
            "grid_template_rows": null,
            "height": null,
            "justify_content": null,
            "justify_items": null,
            "left": null,
            "margin": null,
            "max_height": null,
            "max_width": null,
            "min_height": null,
            "min_width": null,
            "object_fit": null,
            "object_position": null,
            "order": null,
            "overflow": null,
            "overflow_x": null,
            "overflow_y": null,
            "padding": null,
            "right": null,
            "top": null,
            "visibility": null,
            "width": null
          }
        },
        "2c7e853084da4a2c98495eb00d9b1b74": {
          "model_module": "@jupyter-widgets/base",
          "model_name": "LayoutModel",
          "model_module_version": "1.2.0",
          "state": {
            "_model_module": "@jupyter-widgets/base",
            "_model_module_version": "1.2.0",
            "_model_name": "LayoutModel",
            "_view_count": null,
            "_view_module": "@jupyter-widgets/base",
            "_view_module_version": "1.2.0",
            "_view_name": "LayoutView",
            "align_content": null,
            "align_items": null,
            "align_self": null,
            "border": null,
            "bottom": null,
            "display": null,
            "flex": null,
            "flex_flow": null,
            "grid_area": null,
            "grid_auto_columns": null,
            "grid_auto_flow": null,
            "grid_auto_rows": null,
            "grid_column": null,
            "grid_gap": null,
            "grid_row": null,
            "grid_template_areas": null,
            "grid_template_columns": null,
            "grid_template_rows": null,
            "height": null,
            "justify_content": null,
            "justify_items": null,
            "left": null,
            "margin": null,
            "max_height": null,
            "max_width": null,
            "min_height": null,
            "min_width": null,
            "object_fit": null,
            "object_position": null,
            "order": null,
            "overflow": null,
            "overflow_x": null,
            "overflow_y": null,
            "padding": null,
            "right": null,
            "top": null,
            "visibility": null,
            "width": null
          }
        },
        "73abeb74ba2a4098a74ae72d549a7bae": {
          "model_module": "@jupyter-widgets/controls",
          "model_name": "DescriptionStyleModel",
          "model_module_version": "1.5.0",
          "state": {
            "_model_module": "@jupyter-widgets/controls",
            "_model_module_version": "1.5.0",
            "_model_name": "DescriptionStyleModel",
            "_view_count": null,
            "_view_module": "@jupyter-widgets/base",
            "_view_module_version": "1.2.0",
            "_view_name": "StyleView",
            "description_width": ""
          }
        },
        "259147d77564499aa4fef5862d9e78b6": {
          "model_module": "@jupyter-widgets/base",
          "model_name": "LayoutModel",
          "model_module_version": "1.2.0",
          "state": {
            "_model_module": "@jupyter-widgets/base",
            "_model_module_version": "1.2.0",
            "_model_name": "LayoutModel",
            "_view_count": null,
            "_view_module": "@jupyter-widgets/base",
            "_view_module_version": "1.2.0",
            "_view_name": "LayoutView",
            "align_content": null,
            "align_items": null,
            "align_self": null,
            "border": null,
            "bottom": null,
            "display": null,
            "flex": null,
            "flex_flow": null,
            "grid_area": null,
            "grid_auto_columns": null,
            "grid_auto_flow": null,
            "grid_auto_rows": null,
            "grid_column": null,
            "grid_gap": null,
            "grid_row": null,
            "grid_template_areas": null,
            "grid_template_columns": null,
            "grid_template_rows": null,
            "height": null,
            "justify_content": null,
            "justify_items": null,
            "left": null,
            "margin": null,
            "max_height": null,
            "max_width": null,
            "min_height": null,
            "min_width": null,
            "object_fit": null,
            "object_position": null,
            "order": null,
            "overflow": null,
            "overflow_x": null,
            "overflow_y": null,
            "padding": null,
            "right": null,
            "top": null,
            "visibility": null,
            "width": null
          }
        },
        "e09cf613905240a8a736a55d67717590": {
          "model_module": "@jupyter-widgets/controls",
          "model_name": "ProgressStyleModel",
          "model_module_version": "1.5.0",
          "state": {
            "_model_module": "@jupyter-widgets/controls",
            "_model_module_version": "1.5.0",
            "_model_name": "ProgressStyleModel",
            "_view_count": null,
            "_view_module": "@jupyter-widgets/base",
            "_view_module_version": "1.2.0",
            "_view_name": "StyleView",
            "bar_color": null,
            "description_width": ""
          }
        },
        "8dd038876c0a48e195394e9034fd648e": {
          "model_module": "@jupyter-widgets/base",
          "model_name": "LayoutModel",
          "model_module_version": "1.2.0",
          "state": {
            "_model_module": "@jupyter-widgets/base",
            "_model_module_version": "1.2.0",
            "_model_name": "LayoutModel",
            "_view_count": null,
            "_view_module": "@jupyter-widgets/base",
            "_view_module_version": "1.2.0",
            "_view_name": "LayoutView",
            "align_content": null,
            "align_items": null,
            "align_self": null,
            "border": null,
            "bottom": null,
            "display": null,
            "flex": null,
            "flex_flow": null,
            "grid_area": null,
            "grid_auto_columns": null,
            "grid_auto_flow": null,
            "grid_auto_rows": null,
            "grid_column": null,
            "grid_gap": null,
            "grid_row": null,
            "grid_template_areas": null,
            "grid_template_columns": null,
            "grid_template_rows": null,
            "height": null,
            "justify_content": null,
            "justify_items": null,
            "left": null,
            "margin": null,
            "max_height": null,
            "max_width": null,
            "min_height": null,
            "min_width": null,
            "object_fit": null,
            "object_position": null,
            "order": null,
            "overflow": null,
            "overflow_x": null,
            "overflow_y": null,
            "padding": null,
            "right": null,
            "top": null,
            "visibility": null,
            "width": null
          }
        },
        "92850178701d4f7ea3f8ca868b9a04f9": {
          "model_module": "@jupyter-widgets/controls",
          "model_name": "DescriptionStyleModel",
          "model_module_version": "1.5.0",
          "state": {
            "_model_module": "@jupyter-widgets/controls",
            "_model_module_version": "1.5.0",
            "_model_name": "DescriptionStyleModel",
            "_view_count": null,
            "_view_module": "@jupyter-widgets/base",
            "_view_module_version": "1.2.0",
            "_view_name": "StyleView",
            "description_width": ""
          }
        },
        "e756afd08b6140b495b0af62a3b7326a": {
          "model_module": "@jupyter-widgets/controls",
          "model_name": "HBoxModel",
          "model_module_version": "1.5.0",
          "state": {
            "_dom_classes": [],
            "_model_module": "@jupyter-widgets/controls",
            "_model_module_version": "1.5.0",
            "_model_name": "HBoxModel",
            "_view_count": null,
            "_view_module": "@jupyter-widgets/controls",
            "_view_module_version": "1.5.0",
            "_view_name": "HBoxView",
            "box_style": "",
            "children": [
              "IPY_MODEL_6fa1464ec02e478fbad5285fe180feb2",
              "IPY_MODEL_7bc55f69384d4d1fa0f88185c81cb4e0",
              "IPY_MODEL_0702c40b815a439898bafb1e5e9a1e8c"
            ],
            "layout": "IPY_MODEL_6592c7fe4fc740d88b2c512098297e53"
          }
        },
        "6fa1464ec02e478fbad5285fe180feb2": {
          "model_module": "@jupyter-widgets/controls",
          "model_name": "HTMLModel",
          "model_module_version": "1.5.0",
          "state": {
            "_dom_classes": [],
            "_model_module": "@jupyter-widgets/controls",
            "_model_module_version": "1.5.0",
            "_model_name": "HTMLModel",
            "_view_count": null,
            "_view_module": "@jupyter-widgets/controls",
            "_view_module_version": "1.5.0",
            "_view_name": "HTMLView",
            "description": "",
            "description_tooltip": null,
            "layout": "IPY_MODEL_69a292931bf34a2ca3fd36e5f12b6445",
            "placeholder": "​",
            "style": "IPY_MODEL_a1697bc2fa00447784630393ca8cffff",
            "value": "100%"
          }
        },
        "7bc55f69384d4d1fa0f88185c81cb4e0": {
          "model_module": "@jupyter-widgets/controls",
          "model_name": "FloatProgressModel",
          "model_module_version": "1.5.0",
          "state": {
            "_dom_classes": [],
            "_model_module": "@jupyter-widgets/controls",
            "_model_module_version": "1.5.0",
            "_model_name": "FloatProgressModel",
            "_view_count": null,
            "_view_module": "@jupyter-widgets/controls",
            "_view_module_version": "1.5.0",
            "_view_name": "ProgressView",
            "bar_style": "success",
            "description": "",
            "description_tooltip": null,
            "layout": "IPY_MODEL_68f063ebe6d3475e96beb1c22fc54297",
            "max": 50,
            "min": 0,
            "orientation": "horizontal",
            "style": "IPY_MODEL_dd5d130bff404b03a30d0b2933b68bc7",
            "value": 50
          }
        },
        "0702c40b815a439898bafb1e5e9a1e8c": {
          "model_module": "@jupyter-widgets/controls",
          "model_name": "HTMLModel",
          "model_module_version": "1.5.0",
          "state": {
            "_dom_classes": [],
            "_model_module": "@jupyter-widgets/controls",
            "_model_module_version": "1.5.0",
            "_model_name": "HTMLModel",
            "_view_count": null,
            "_view_module": "@jupyter-widgets/controls",
            "_view_module_version": "1.5.0",
            "_view_name": "HTMLView",
            "description": "",
            "description_tooltip": null,
            "layout": "IPY_MODEL_33edef0df40d4c429cea89f5fb13bc96",
            "placeholder": "​",
            "style": "IPY_MODEL_b5cbe9638b984a5d88e1d8f951db39c5",
            "value": " 50/50 [00:05&lt;00:00,  9.88it/s]"
          }
        },
        "6592c7fe4fc740d88b2c512098297e53": {
          "model_module": "@jupyter-widgets/base",
          "model_name": "LayoutModel",
          "model_module_version": "1.2.0",
          "state": {
            "_model_module": "@jupyter-widgets/base",
            "_model_module_version": "1.2.0",
            "_model_name": "LayoutModel",
            "_view_count": null,
            "_view_module": "@jupyter-widgets/base",
            "_view_module_version": "1.2.0",
            "_view_name": "LayoutView",
            "align_content": null,
            "align_items": null,
            "align_self": null,
            "border": null,
            "bottom": null,
            "display": null,
            "flex": null,
            "flex_flow": null,
            "grid_area": null,
            "grid_auto_columns": null,
            "grid_auto_flow": null,
            "grid_auto_rows": null,
            "grid_column": null,
            "grid_gap": null,
            "grid_row": null,
            "grid_template_areas": null,
            "grid_template_columns": null,
            "grid_template_rows": null,
            "height": null,
            "justify_content": null,
            "justify_items": null,
            "left": null,
            "margin": null,
            "max_height": null,
            "max_width": null,
            "min_height": null,
            "min_width": null,
            "object_fit": null,
            "object_position": null,
            "order": null,
            "overflow": null,
            "overflow_x": null,
            "overflow_y": null,
            "padding": null,
            "right": null,
            "top": null,
            "visibility": null,
            "width": null
          }
        },
        "69a292931bf34a2ca3fd36e5f12b6445": {
          "model_module": "@jupyter-widgets/base",
          "model_name": "LayoutModel",
          "model_module_version": "1.2.0",
          "state": {
            "_model_module": "@jupyter-widgets/base",
            "_model_module_version": "1.2.0",
            "_model_name": "LayoutModel",
            "_view_count": null,
            "_view_module": "@jupyter-widgets/base",
            "_view_module_version": "1.2.0",
            "_view_name": "LayoutView",
            "align_content": null,
            "align_items": null,
            "align_self": null,
            "border": null,
            "bottom": null,
            "display": null,
            "flex": null,
            "flex_flow": null,
            "grid_area": null,
            "grid_auto_columns": null,
            "grid_auto_flow": null,
            "grid_auto_rows": null,
            "grid_column": null,
            "grid_gap": null,
            "grid_row": null,
            "grid_template_areas": null,
            "grid_template_columns": null,
            "grid_template_rows": null,
            "height": null,
            "justify_content": null,
            "justify_items": null,
            "left": null,
            "margin": null,
            "max_height": null,
            "max_width": null,
            "min_height": null,
            "min_width": null,
            "object_fit": null,
            "object_position": null,
            "order": null,
            "overflow": null,
            "overflow_x": null,
            "overflow_y": null,
            "padding": null,
            "right": null,
            "top": null,
            "visibility": null,
            "width": null
          }
        },
        "a1697bc2fa00447784630393ca8cffff": {
          "model_module": "@jupyter-widgets/controls",
          "model_name": "DescriptionStyleModel",
          "model_module_version": "1.5.0",
          "state": {
            "_model_module": "@jupyter-widgets/controls",
            "_model_module_version": "1.5.0",
            "_model_name": "DescriptionStyleModel",
            "_view_count": null,
            "_view_module": "@jupyter-widgets/base",
            "_view_module_version": "1.2.0",
            "_view_name": "StyleView",
            "description_width": ""
          }
        },
        "68f063ebe6d3475e96beb1c22fc54297": {
          "model_module": "@jupyter-widgets/base",
          "model_name": "LayoutModel",
          "model_module_version": "1.2.0",
          "state": {
            "_model_module": "@jupyter-widgets/base",
            "_model_module_version": "1.2.0",
            "_model_name": "LayoutModel",
            "_view_count": null,
            "_view_module": "@jupyter-widgets/base",
            "_view_module_version": "1.2.0",
            "_view_name": "LayoutView",
            "align_content": null,
            "align_items": null,
            "align_self": null,
            "border": null,
            "bottom": null,
            "display": null,
            "flex": null,
            "flex_flow": null,
            "grid_area": null,
            "grid_auto_columns": null,
            "grid_auto_flow": null,
            "grid_auto_rows": null,
            "grid_column": null,
            "grid_gap": null,
            "grid_row": null,
            "grid_template_areas": null,
            "grid_template_columns": null,
            "grid_template_rows": null,
            "height": null,
            "justify_content": null,
            "justify_items": null,
            "left": null,
            "margin": null,
            "max_height": null,
            "max_width": null,
            "min_height": null,
            "min_width": null,
            "object_fit": null,
            "object_position": null,
            "order": null,
            "overflow": null,
            "overflow_x": null,
            "overflow_y": null,
            "padding": null,
            "right": null,
            "top": null,
            "visibility": null,
            "width": null
          }
        },
        "dd5d130bff404b03a30d0b2933b68bc7": {
          "model_module": "@jupyter-widgets/controls",
          "model_name": "ProgressStyleModel",
          "model_module_version": "1.5.0",
          "state": {
            "_model_module": "@jupyter-widgets/controls",
            "_model_module_version": "1.5.0",
            "_model_name": "ProgressStyleModel",
            "_view_count": null,
            "_view_module": "@jupyter-widgets/base",
            "_view_module_version": "1.2.0",
            "_view_name": "StyleView",
            "bar_color": null,
            "description_width": ""
          }
        },
        "33edef0df40d4c429cea89f5fb13bc96": {
          "model_module": "@jupyter-widgets/base",
          "model_name": "LayoutModel",
          "model_module_version": "1.2.0",
          "state": {
            "_model_module": "@jupyter-widgets/base",
            "_model_module_version": "1.2.0",
            "_model_name": "LayoutModel",
            "_view_count": null,
            "_view_module": "@jupyter-widgets/base",
            "_view_module_version": "1.2.0",
            "_view_name": "LayoutView",
            "align_content": null,
            "align_items": null,
            "align_self": null,
            "border": null,
            "bottom": null,
            "display": null,
            "flex": null,
            "flex_flow": null,
            "grid_area": null,
            "grid_auto_columns": null,
            "grid_auto_flow": null,
            "grid_auto_rows": null,
            "grid_column": null,
            "grid_gap": null,
            "grid_row": null,
            "grid_template_areas": null,
            "grid_template_columns": null,
            "grid_template_rows": null,
            "height": null,
            "justify_content": null,
            "justify_items": null,
            "left": null,
            "margin": null,
            "max_height": null,
            "max_width": null,
            "min_height": null,
            "min_width": null,
            "object_fit": null,
            "object_position": null,
            "order": null,
            "overflow": null,
            "overflow_x": null,
            "overflow_y": null,
            "padding": null,
            "right": null,
            "top": null,
            "visibility": null,
            "width": null
          }
        },
        "b5cbe9638b984a5d88e1d8f951db39c5": {
          "model_module": "@jupyter-widgets/controls",
          "model_name": "DescriptionStyleModel",
          "model_module_version": "1.5.0",
          "state": {
            "_model_module": "@jupyter-widgets/controls",
            "_model_module_version": "1.5.0",
            "_model_name": "DescriptionStyleModel",
            "_view_count": null,
            "_view_module": "@jupyter-widgets/base",
            "_view_module_version": "1.2.0",
            "_view_name": "StyleView",
            "description_width": ""
          }
        },
        "b3ad1f00253949609db1e5e09a25a2eb": {
          "model_module": "@jupyter-widgets/controls",
          "model_name": "HBoxModel",
          "model_module_version": "1.5.0",
          "state": {
            "_dom_classes": [],
            "_model_module": "@jupyter-widgets/controls",
            "_model_module_version": "1.5.0",
            "_model_name": "HBoxModel",
            "_view_count": null,
            "_view_module": "@jupyter-widgets/controls",
            "_view_module_version": "1.5.0",
            "_view_name": "HBoxView",
            "box_style": "",
            "children": [
              "IPY_MODEL_efc4f8d93edf473bb4a2b738de59d4e6",
              "IPY_MODEL_c163d7576b75491a8dabba7f81ac97f6",
              "IPY_MODEL_aac9c06c37104478a3710aaeafd53a29"
            ],
            "layout": "IPY_MODEL_9c8409adb66b475aaf59a5d210b742be"
          }
        },
        "efc4f8d93edf473bb4a2b738de59d4e6": {
          "model_module": "@jupyter-widgets/controls",
          "model_name": "HTMLModel",
          "model_module_version": "1.5.0",
          "state": {
            "_dom_classes": [],
            "_model_module": "@jupyter-widgets/controls",
            "_model_module_version": "1.5.0",
            "_model_name": "HTMLModel",
            "_view_count": null,
            "_view_module": "@jupyter-widgets/controls",
            "_view_module_version": "1.5.0",
            "_view_name": "HTMLView",
            "description": "",
            "description_tooltip": null,
            "layout": "IPY_MODEL_23b8f91c08964022b26dffb6a46f84f0",
            "placeholder": "​",
            "style": "IPY_MODEL_c934d3521b414555b94edffcb1433d56",
            "value": "100%"
          }
        },
        "c163d7576b75491a8dabba7f81ac97f6": {
          "model_module": "@jupyter-widgets/controls",
          "model_name": "FloatProgressModel",
          "model_module_version": "1.5.0",
          "state": {
            "_dom_classes": [],
            "_model_module": "@jupyter-widgets/controls",
            "_model_module_version": "1.5.0",
            "_model_name": "FloatProgressModel",
            "_view_count": null,
            "_view_module": "@jupyter-widgets/controls",
            "_view_module_version": "1.5.0",
            "_view_name": "ProgressView",
            "bar_style": "success",
            "description": "",
            "description_tooltip": null,
            "layout": "IPY_MODEL_e9f3ceb52b314b74b4f1c98f4fbbbb94",
            "max": 50,
            "min": 0,
            "orientation": "horizontal",
            "style": "IPY_MODEL_5e79dcd6265f4abb9edaade168e52242",
            "value": 50
          }
        },
        "aac9c06c37104478a3710aaeafd53a29": {
          "model_module": "@jupyter-widgets/controls",
          "model_name": "HTMLModel",
          "model_module_version": "1.5.0",
          "state": {
            "_dom_classes": [],
            "_model_module": "@jupyter-widgets/controls",
            "_model_module_version": "1.5.0",
            "_model_name": "HTMLModel",
            "_view_count": null,
            "_view_module": "@jupyter-widgets/controls",
            "_view_module_version": "1.5.0",
            "_view_name": "HTMLView",
            "description": "",
            "description_tooltip": null,
            "layout": "IPY_MODEL_bbcd10285658427e9db66ae89b3b7465",
            "placeholder": "​",
            "style": "IPY_MODEL_cd7f45b9ca084bc389ee800ba78becee",
            "value": " 50/50 [00:05&lt;00:00,  9.88it/s]"
          }
        },
        "9c8409adb66b475aaf59a5d210b742be": {
          "model_module": "@jupyter-widgets/base",
          "model_name": "LayoutModel",
          "model_module_version": "1.2.0",
          "state": {
            "_model_module": "@jupyter-widgets/base",
            "_model_module_version": "1.2.0",
            "_model_name": "LayoutModel",
            "_view_count": null,
            "_view_module": "@jupyter-widgets/base",
            "_view_module_version": "1.2.0",
            "_view_name": "LayoutView",
            "align_content": null,
            "align_items": null,
            "align_self": null,
            "border": null,
            "bottom": null,
            "display": null,
            "flex": null,
            "flex_flow": null,
            "grid_area": null,
            "grid_auto_columns": null,
            "grid_auto_flow": null,
            "grid_auto_rows": null,
            "grid_column": null,
            "grid_gap": null,
            "grid_row": null,
            "grid_template_areas": null,
            "grid_template_columns": null,
            "grid_template_rows": null,
            "height": null,
            "justify_content": null,
            "justify_items": null,
            "left": null,
            "margin": null,
            "max_height": null,
            "max_width": null,
            "min_height": null,
            "min_width": null,
            "object_fit": null,
            "object_position": null,
            "order": null,
            "overflow": null,
            "overflow_x": null,
            "overflow_y": null,
            "padding": null,
            "right": null,
            "top": null,
            "visibility": null,
            "width": null
          }
        },
        "23b8f91c08964022b26dffb6a46f84f0": {
          "model_module": "@jupyter-widgets/base",
          "model_name": "LayoutModel",
          "model_module_version": "1.2.0",
          "state": {
            "_model_module": "@jupyter-widgets/base",
            "_model_module_version": "1.2.0",
            "_model_name": "LayoutModel",
            "_view_count": null,
            "_view_module": "@jupyter-widgets/base",
            "_view_module_version": "1.2.0",
            "_view_name": "LayoutView",
            "align_content": null,
            "align_items": null,
            "align_self": null,
            "border": null,
            "bottom": null,
            "display": null,
            "flex": null,
            "flex_flow": null,
            "grid_area": null,
            "grid_auto_columns": null,
            "grid_auto_flow": null,
            "grid_auto_rows": null,
            "grid_column": null,
            "grid_gap": null,
            "grid_row": null,
            "grid_template_areas": null,
            "grid_template_columns": null,
            "grid_template_rows": null,
            "height": null,
            "justify_content": null,
            "justify_items": null,
            "left": null,
            "margin": null,
            "max_height": null,
            "max_width": null,
            "min_height": null,
            "min_width": null,
            "object_fit": null,
            "object_position": null,
            "order": null,
            "overflow": null,
            "overflow_x": null,
            "overflow_y": null,
            "padding": null,
            "right": null,
            "top": null,
            "visibility": null,
            "width": null
          }
        },
        "c934d3521b414555b94edffcb1433d56": {
          "model_module": "@jupyter-widgets/controls",
          "model_name": "DescriptionStyleModel",
          "model_module_version": "1.5.0",
          "state": {
            "_model_module": "@jupyter-widgets/controls",
            "_model_module_version": "1.5.0",
            "_model_name": "DescriptionStyleModel",
            "_view_count": null,
            "_view_module": "@jupyter-widgets/base",
            "_view_module_version": "1.2.0",
            "_view_name": "StyleView",
            "description_width": ""
          }
        },
        "e9f3ceb52b314b74b4f1c98f4fbbbb94": {
          "model_module": "@jupyter-widgets/base",
          "model_name": "LayoutModel",
          "model_module_version": "1.2.0",
          "state": {
            "_model_module": "@jupyter-widgets/base",
            "_model_module_version": "1.2.0",
            "_model_name": "LayoutModel",
            "_view_count": null,
            "_view_module": "@jupyter-widgets/base",
            "_view_module_version": "1.2.0",
            "_view_name": "LayoutView",
            "align_content": null,
            "align_items": null,
            "align_self": null,
            "border": null,
            "bottom": null,
            "display": null,
            "flex": null,
            "flex_flow": null,
            "grid_area": null,
            "grid_auto_columns": null,
            "grid_auto_flow": null,
            "grid_auto_rows": null,
            "grid_column": null,
            "grid_gap": null,
            "grid_row": null,
            "grid_template_areas": null,
            "grid_template_columns": null,
            "grid_template_rows": null,
            "height": null,
            "justify_content": null,
            "justify_items": null,
            "left": null,
            "margin": null,
            "max_height": null,
            "max_width": null,
            "min_height": null,
            "min_width": null,
            "object_fit": null,
            "object_position": null,
            "order": null,
            "overflow": null,
            "overflow_x": null,
            "overflow_y": null,
            "padding": null,
            "right": null,
            "top": null,
            "visibility": null,
            "width": null
          }
        },
        "5e79dcd6265f4abb9edaade168e52242": {
          "model_module": "@jupyter-widgets/controls",
          "model_name": "ProgressStyleModel",
          "model_module_version": "1.5.0",
          "state": {
            "_model_module": "@jupyter-widgets/controls",
            "_model_module_version": "1.5.0",
            "_model_name": "ProgressStyleModel",
            "_view_count": null,
            "_view_module": "@jupyter-widgets/base",
            "_view_module_version": "1.2.0",
            "_view_name": "StyleView",
            "bar_color": null,
            "description_width": ""
          }
        },
        "bbcd10285658427e9db66ae89b3b7465": {
          "model_module": "@jupyter-widgets/base",
          "model_name": "LayoutModel",
          "model_module_version": "1.2.0",
          "state": {
            "_model_module": "@jupyter-widgets/base",
            "_model_module_version": "1.2.0",
            "_model_name": "LayoutModel",
            "_view_count": null,
            "_view_module": "@jupyter-widgets/base",
            "_view_module_version": "1.2.0",
            "_view_name": "LayoutView",
            "align_content": null,
            "align_items": null,
            "align_self": null,
            "border": null,
            "bottom": null,
            "display": null,
            "flex": null,
            "flex_flow": null,
            "grid_area": null,
            "grid_auto_columns": null,
            "grid_auto_flow": null,
            "grid_auto_rows": null,
            "grid_column": null,
            "grid_gap": null,
            "grid_row": null,
            "grid_template_areas": null,
            "grid_template_columns": null,
            "grid_template_rows": null,
            "height": null,
            "justify_content": null,
            "justify_items": null,
            "left": null,
            "margin": null,
            "max_height": null,
            "max_width": null,
            "min_height": null,
            "min_width": null,
            "object_fit": null,
            "object_position": null,
            "order": null,
            "overflow": null,
            "overflow_x": null,
            "overflow_y": null,
            "padding": null,
            "right": null,
            "top": null,
            "visibility": null,
            "width": null
          }
        },
        "cd7f45b9ca084bc389ee800ba78becee": {
          "model_module": "@jupyter-widgets/controls",
          "model_name": "DescriptionStyleModel",
          "model_module_version": "1.5.0",
          "state": {
            "_model_module": "@jupyter-widgets/controls",
            "_model_module_version": "1.5.0",
            "_model_name": "DescriptionStyleModel",
            "_view_count": null,
            "_view_module": "@jupyter-widgets/base",
            "_view_module_version": "1.2.0",
            "_view_name": "StyleView",
            "description_width": ""
          }
        },
        "26e37995453e45988e628a4359b6bc4d": {
          "model_module": "@jupyter-widgets/controls",
          "model_name": "HBoxModel",
          "model_module_version": "1.5.0",
          "state": {
            "_dom_classes": [],
            "_model_module": "@jupyter-widgets/controls",
            "_model_module_version": "1.5.0",
            "_model_name": "HBoxModel",
            "_view_count": null,
            "_view_module": "@jupyter-widgets/controls",
            "_view_module_version": "1.5.0",
            "_view_name": "HBoxView",
            "box_style": "",
            "children": [
              "IPY_MODEL_7413baafa17d46d79238872588c3de40",
              "IPY_MODEL_6f31cca294dc416fadd2eaf12b0f5ce4",
              "IPY_MODEL_3db185782c7445919bc0964889ccc21c"
            ],
            "layout": "IPY_MODEL_3e862af5b67b410aa7b2c67c291498f2"
          }
        },
        "7413baafa17d46d79238872588c3de40": {
          "model_module": "@jupyter-widgets/controls",
          "model_name": "HTMLModel",
          "model_module_version": "1.5.0",
          "state": {
            "_dom_classes": [],
            "_model_module": "@jupyter-widgets/controls",
            "_model_module_version": "1.5.0",
            "_model_name": "HTMLModel",
            "_view_count": null,
            "_view_module": "@jupyter-widgets/controls",
            "_view_module_version": "1.5.0",
            "_view_name": "HTMLView",
            "description": "",
            "description_tooltip": null,
            "layout": "IPY_MODEL_a374b6469d394e40a054b6fe9e983e2d",
            "placeholder": "​",
            "style": "IPY_MODEL_0ef8750842504e3784643c832cb4dc06",
            "value": "100%"
          }
        },
        "6f31cca294dc416fadd2eaf12b0f5ce4": {
          "model_module": "@jupyter-widgets/controls",
          "model_name": "FloatProgressModel",
          "model_module_version": "1.5.0",
          "state": {
            "_dom_classes": [],
            "_model_module": "@jupyter-widgets/controls",
            "_model_module_version": "1.5.0",
            "_model_name": "FloatProgressModel",
            "_view_count": null,
            "_view_module": "@jupyter-widgets/controls",
            "_view_module_version": "1.5.0",
            "_view_name": "ProgressView",
            "bar_style": "success",
            "description": "",
            "description_tooltip": null,
            "layout": "IPY_MODEL_e604c0b0c2504191b1b3d3a2ff07b47e",
            "max": 50,
            "min": 0,
            "orientation": "horizontal",
            "style": "IPY_MODEL_a3ccea1e5f93468ba9053787c5e3ff83",
            "value": 50
          }
        },
        "3db185782c7445919bc0964889ccc21c": {
          "model_module": "@jupyter-widgets/controls",
          "model_name": "HTMLModel",
          "model_module_version": "1.5.0",
          "state": {
            "_dom_classes": [],
            "_model_module": "@jupyter-widgets/controls",
            "_model_module_version": "1.5.0",
            "_model_name": "HTMLModel",
            "_view_count": null,
            "_view_module": "@jupyter-widgets/controls",
            "_view_module_version": "1.5.0",
            "_view_name": "HTMLView",
            "description": "",
            "description_tooltip": null,
            "layout": "IPY_MODEL_fbf55b1733c142b6b9d3fbf1c0aaaf88",
            "placeholder": "​",
            "style": "IPY_MODEL_6767abb8515049b19a7c7863a7315a0e",
            "value": " 50/50 [00:05&lt;00:00,  9.88it/s]"
          }
        },
        "3e862af5b67b410aa7b2c67c291498f2": {
          "model_module": "@jupyter-widgets/base",
          "model_name": "LayoutModel",
          "model_module_version": "1.2.0",
          "state": {
            "_model_module": "@jupyter-widgets/base",
            "_model_module_version": "1.2.0",
            "_model_name": "LayoutModel",
            "_view_count": null,
            "_view_module": "@jupyter-widgets/base",
            "_view_module_version": "1.2.0",
            "_view_name": "LayoutView",
            "align_content": null,
            "align_items": null,
            "align_self": null,
            "border": null,
            "bottom": null,
            "display": null,
            "flex": null,
            "flex_flow": null,
            "grid_area": null,
            "grid_auto_columns": null,
            "grid_auto_flow": null,
            "grid_auto_rows": null,
            "grid_column": null,
            "grid_gap": null,
            "grid_row": null,
            "grid_template_areas": null,
            "grid_template_columns": null,
            "grid_template_rows": null,
            "height": null,
            "justify_content": null,
            "justify_items": null,
            "left": null,
            "margin": null,
            "max_height": null,
            "max_width": null,
            "min_height": null,
            "min_width": null,
            "object_fit": null,
            "object_position": null,
            "order": null,
            "overflow": null,
            "overflow_x": null,
            "overflow_y": null,
            "padding": null,
            "right": null,
            "top": null,
            "visibility": null,
            "width": null
          }
        },
        "a374b6469d394e40a054b6fe9e983e2d": {
          "model_module": "@jupyter-widgets/base",
          "model_name": "LayoutModel",
          "model_module_version": "1.2.0",
          "state": {
            "_model_module": "@jupyter-widgets/base",
            "_model_module_version": "1.2.0",
            "_model_name": "LayoutModel",
            "_view_count": null,
            "_view_module": "@jupyter-widgets/base",
            "_view_module_version": "1.2.0",
            "_view_name": "LayoutView",
            "align_content": null,
            "align_items": null,
            "align_self": null,
            "border": null,
            "bottom": null,
            "display": null,
            "flex": null,
            "flex_flow": null,
            "grid_area": null,
            "grid_auto_columns": null,
            "grid_auto_flow": null,
            "grid_auto_rows": null,
            "grid_column": null,
            "grid_gap": null,
            "grid_row": null,
            "grid_template_areas": null,
            "grid_template_columns": null,
            "grid_template_rows": null,
            "height": null,
            "justify_content": null,
            "justify_items": null,
            "left": null,
            "margin": null,
            "max_height": null,
            "max_width": null,
            "min_height": null,
            "min_width": null,
            "object_fit": null,
            "object_position": null,
            "order": null,
            "overflow": null,
            "overflow_x": null,
            "overflow_y": null,
            "padding": null,
            "right": null,
            "top": null,
            "visibility": null,
            "width": null
          }
        },
        "0ef8750842504e3784643c832cb4dc06": {
          "model_module": "@jupyter-widgets/controls",
          "model_name": "DescriptionStyleModel",
          "model_module_version": "1.5.0",
          "state": {
            "_model_module": "@jupyter-widgets/controls",
            "_model_module_version": "1.5.0",
            "_model_name": "DescriptionStyleModel",
            "_view_count": null,
            "_view_module": "@jupyter-widgets/base",
            "_view_module_version": "1.2.0",
            "_view_name": "StyleView",
            "description_width": ""
          }
        },
        "e604c0b0c2504191b1b3d3a2ff07b47e": {
          "model_module": "@jupyter-widgets/base",
          "model_name": "LayoutModel",
          "model_module_version": "1.2.0",
          "state": {
            "_model_module": "@jupyter-widgets/base",
            "_model_module_version": "1.2.0",
            "_model_name": "LayoutModel",
            "_view_count": null,
            "_view_module": "@jupyter-widgets/base",
            "_view_module_version": "1.2.0",
            "_view_name": "LayoutView",
            "align_content": null,
            "align_items": null,
            "align_self": null,
            "border": null,
            "bottom": null,
            "display": null,
            "flex": null,
            "flex_flow": null,
            "grid_area": null,
            "grid_auto_columns": null,
            "grid_auto_flow": null,
            "grid_auto_rows": null,
            "grid_column": null,
            "grid_gap": null,
            "grid_row": null,
            "grid_template_areas": null,
            "grid_template_columns": null,
            "grid_template_rows": null,
            "height": null,
            "justify_content": null,
            "justify_items": null,
            "left": null,
            "margin": null,
            "max_height": null,
            "max_width": null,
            "min_height": null,
            "min_width": null,
            "object_fit": null,
            "object_position": null,
            "order": null,
            "overflow": null,
            "overflow_x": null,
            "overflow_y": null,
            "padding": null,
            "right": null,
            "top": null,
            "visibility": null,
            "width": null
          }
        },
        "a3ccea1e5f93468ba9053787c5e3ff83": {
          "model_module": "@jupyter-widgets/controls",
          "model_name": "ProgressStyleModel",
          "model_module_version": "1.5.0",
          "state": {
            "_model_module": "@jupyter-widgets/controls",
            "_model_module_version": "1.5.0",
            "_model_name": "ProgressStyleModel",
            "_view_count": null,
            "_view_module": "@jupyter-widgets/base",
            "_view_module_version": "1.2.0",
            "_view_name": "StyleView",
            "bar_color": null,
            "description_width": ""
          }
        },
        "fbf55b1733c142b6b9d3fbf1c0aaaf88": {
          "model_module": "@jupyter-widgets/base",
          "model_name": "LayoutModel",
          "model_module_version": "1.2.0",
          "state": {
            "_model_module": "@jupyter-widgets/base",
            "_model_module_version": "1.2.0",
            "_model_name": "LayoutModel",
            "_view_count": null,
            "_view_module": "@jupyter-widgets/base",
            "_view_module_version": "1.2.0",
            "_view_name": "LayoutView",
            "align_content": null,
            "align_items": null,
            "align_self": null,
            "border": null,
            "bottom": null,
            "display": null,
            "flex": null,
            "flex_flow": null,
            "grid_area": null,
            "grid_auto_columns": null,
            "grid_auto_flow": null,
            "grid_auto_rows": null,
            "grid_column": null,
            "grid_gap": null,
            "grid_row": null,
            "grid_template_areas": null,
            "grid_template_columns": null,
            "grid_template_rows": null,
            "height": null,
            "justify_content": null,
            "justify_items": null,
            "left": null,
            "margin": null,
            "max_height": null,
            "max_width": null,
            "min_height": null,
            "min_width": null,
            "object_fit": null,
            "object_position": null,
            "order": null,
            "overflow": null,
            "overflow_x": null,
            "overflow_y": null,
            "padding": null,
            "right": null,
            "top": null,
            "visibility": null,
            "width": null
          }
        },
        "6767abb8515049b19a7c7863a7315a0e": {
          "model_module": "@jupyter-widgets/controls",
          "model_name": "DescriptionStyleModel",
          "model_module_version": "1.5.0",
          "state": {
            "_model_module": "@jupyter-widgets/controls",
            "_model_module_version": "1.5.0",
            "_model_name": "DescriptionStyleModel",
            "_view_count": null,
            "_view_module": "@jupyter-widgets/base",
            "_view_module_version": "1.2.0",
            "_view_name": "StyleView",
            "description_width": ""
          }
        },
        "637cbeb133a54bad84320f4633d4ee4c": {
          "model_module": "@jupyter-widgets/controls",
          "model_name": "HBoxModel",
          "model_module_version": "1.5.0",
          "state": {
            "_dom_classes": [],
            "_model_module": "@jupyter-widgets/controls",
            "_model_module_version": "1.5.0",
            "_model_name": "HBoxModel",
            "_view_count": null,
            "_view_module": "@jupyter-widgets/controls",
            "_view_module_version": "1.5.0",
            "_view_name": "HBoxView",
            "box_style": "",
            "children": [
              "IPY_MODEL_95f91795b9df441b932a8ca020013886",
              "IPY_MODEL_fa6562e3ed6a4f478c016c3e9d73b4d0",
              "IPY_MODEL_93d3c8dfb5614d43ace1db27b7afec63"
            ],
            "layout": "IPY_MODEL_8fbda099894545e8a00e1824b92a8a8a"
          }
        },
        "95f91795b9df441b932a8ca020013886": {
          "model_module": "@jupyter-widgets/controls",
          "model_name": "HTMLModel",
          "model_module_version": "1.5.0",
          "state": {
            "_dom_classes": [],
            "_model_module": "@jupyter-widgets/controls",
            "_model_module_version": "1.5.0",
            "_model_name": "HTMLModel",
            "_view_count": null,
            "_view_module": "@jupyter-widgets/controls",
            "_view_module_version": "1.5.0",
            "_view_name": "HTMLView",
            "description": "",
            "description_tooltip": null,
            "layout": "IPY_MODEL_2dbbe3e50b454ea789c112f649a2121f",
            "placeholder": "​",
            "style": "IPY_MODEL_de01fde673504cfa9e9e77e7a91fb2a9",
            "value": "100%"
          }
        },
        "fa6562e3ed6a4f478c016c3e9d73b4d0": {
          "model_module": "@jupyter-widgets/controls",
          "model_name": "FloatProgressModel",
          "model_module_version": "1.5.0",
          "state": {
            "_dom_classes": [],
            "_model_module": "@jupyter-widgets/controls",
            "_model_module_version": "1.5.0",
            "_model_name": "FloatProgressModel",
            "_view_count": null,
            "_view_module": "@jupyter-widgets/controls",
            "_view_module_version": "1.5.0",
            "_view_name": "ProgressView",
            "bar_style": "success",
            "description": "",
            "description_tooltip": null,
            "layout": "IPY_MODEL_4c70465026ea4f6daf174c88e84102f4",
            "max": 50,
            "min": 0,
            "orientation": "horizontal",
            "style": "IPY_MODEL_6534011939a647cf99ce078da5d801de",
            "value": 50
          }
        },
        "93d3c8dfb5614d43ace1db27b7afec63": {
          "model_module": "@jupyter-widgets/controls",
          "model_name": "HTMLModel",
          "model_module_version": "1.5.0",
          "state": {
            "_dom_classes": [],
            "_model_module": "@jupyter-widgets/controls",
            "_model_module_version": "1.5.0",
            "_model_name": "HTMLModel",
            "_view_count": null,
            "_view_module": "@jupyter-widgets/controls",
            "_view_module_version": "1.5.0",
            "_view_name": "HTMLView",
            "description": "",
            "description_tooltip": null,
            "layout": "IPY_MODEL_b056f2464e9a4754b92d759fccaa0991",
            "placeholder": "​",
            "style": "IPY_MODEL_42b69619bacd4740990034cf3cfcc1a9",
            "value": " 50/50 [00:05&lt;00:00,  9.88it/s]"
          }
        },
        "8fbda099894545e8a00e1824b92a8a8a": {
          "model_module": "@jupyter-widgets/base",
          "model_name": "LayoutModel",
          "model_module_version": "1.2.0",
          "state": {
            "_model_module": "@jupyter-widgets/base",
            "_model_module_version": "1.2.0",
            "_model_name": "LayoutModel",
            "_view_count": null,
            "_view_module": "@jupyter-widgets/base",
            "_view_module_version": "1.2.0",
            "_view_name": "LayoutView",
            "align_content": null,
            "align_items": null,
            "align_self": null,
            "border": null,
            "bottom": null,
            "display": null,
            "flex": null,
            "flex_flow": null,
            "grid_area": null,
            "grid_auto_columns": null,
            "grid_auto_flow": null,
            "grid_auto_rows": null,
            "grid_column": null,
            "grid_gap": null,
            "grid_row": null,
            "grid_template_areas": null,
            "grid_template_columns": null,
            "grid_template_rows": null,
            "height": null,
            "justify_content": null,
            "justify_items": null,
            "left": null,
            "margin": null,
            "max_height": null,
            "max_width": null,
            "min_height": null,
            "min_width": null,
            "object_fit": null,
            "object_position": null,
            "order": null,
            "overflow": null,
            "overflow_x": null,
            "overflow_y": null,
            "padding": null,
            "right": null,
            "top": null,
            "visibility": null,
            "width": null
          }
        },
        "2dbbe3e50b454ea789c112f649a2121f": {
          "model_module": "@jupyter-widgets/base",
          "model_name": "LayoutModel",
          "model_module_version": "1.2.0",
          "state": {
            "_model_module": "@jupyter-widgets/base",
            "_model_module_version": "1.2.0",
            "_model_name": "LayoutModel",
            "_view_count": null,
            "_view_module": "@jupyter-widgets/base",
            "_view_module_version": "1.2.0",
            "_view_name": "LayoutView",
            "align_content": null,
            "align_items": null,
            "align_self": null,
            "border": null,
            "bottom": null,
            "display": null,
            "flex": null,
            "flex_flow": null,
            "grid_area": null,
            "grid_auto_columns": null,
            "grid_auto_flow": null,
            "grid_auto_rows": null,
            "grid_column": null,
            "grid_gap": null,
            "grid_row": null,
            "grid_template_areas": null,
            "grid_template_columns": null,
            "grid_template_rows": null,
            "height": null,
            "justify_content": null,
            "justify_items": null,
            "left": null,
            "margin": null,
            "max_height": null,
            "max_width": null,
            "min_height": null,
            "min_width": null,
            "object_fit": null,
            "object_position": null,
            "order": null,
            "overflow": null,
            "overflow_x": null,
            "overflow_y": null,
            "padding": null,
            "right": null,
            "top": null,
            "visibility": null,
            "width": null
          }
        },
        "de01fde673504cfa9e9e77e7a91fb2a9": {
          "model_module": "@jupyter-widgets/controls",
          "model_name": "DescriptionStyleModel",
          "model_module_version": "1.5.0",
          "state": {
            "_model_module": "@jupyter-widgets/controls",
            "_model_module_version": "1.5.0",
            "_model_name": "DescriptionStyleModel",
            "_view_count": null,
            "_view_module": "@jupyter-widgets/base",
            "_view_module_version": "1.2.0",
            "_view_name": "StyleView",
            "description_width": ""
          }
        },
        "4c70465026ea4f6daf174c88e84102f4": {
          "model_module": "@jupyter-widgets/base",
          "model_name": "LayoutModel",
          "model_module_version": "1.2.0",
          "state": {
            "_model_module": "@jupyter-widgets/base",
            "_model_module_version": "1.2.0",
            "_model_name": "LayoutModel",
            "_view_count": null,
            "_view_module": "@jupyter-widgets/base",
            "_view_module_version": "1.2.0",
            "_view_name": "LayoutView",
            "align_content": null,
            "align_items": null,
            "align_self": null,
            "border": null,
            "bottom": null,
            "display": null,
            "flex": null,
            "flex_flow": null,
            "grid_area": null,
            "grid_auto_columns": null,
            "grid_auto_flow": null,
            "grid_auto_rows": null,
            "grid_column": null,
            "grid_gap": null,
            "grid_row": null,
            "grid_template_areas": null,
            "grid_template_columns": null,
            "grid_template_rows": null,
            "height": null,
            "justify_content": null,
            "justify_items": null,
            "left": null,
            "margin": null,
            "max_height": null,
            "max_width": null,
            "min_height": null,
            "min_width": null,
            "object_fit": null,
            "object_position": null,
            "order": null,
            "overflow": null,
            "overflow_x": null,
            "overflow_y": null,
            "padding": null,
            "right": null,
            "top": null,
            "visibility": null,
            "width": null
          }
        },
        "6534011939a647cf99ce078da5d801de": {
          "model_module": "@jupyter-widgets/controls",
          "model_name": "ProgressStyleModel",
          "model_module_version": "1.5.0",
          "state": {
            "_model_module": "@jupyter-widgets/controls",
            "_model_module_version": "1.5.0",
            "_model_name": "ProgressStyleModel",
            "_view_count": null,
            "_view_module": "@jupyter-widgets/base",
            "_view_module_version": "1.2.0",
            "_view_name": "StyleView",
            "bar_color": null,
            "description_width": ""
          }
        },
        "b056f2464e9a4754b92d759fccaa0991": {
          "model_module": "@jupyter-widgets/base",
          "model_name": "LayoutModel",
          "model_module_version": "1.2.0",
          "state": {
            "_model_module": "@jupyter-widgets/base",
            "_model_module_version": "1.2.0",
            "_model_name": "LayoutModel",
            "_view_count": null,
            "_view_module": "@jupyter-widgets/base",
            "_view_module_version": "1.2.0",
            "_view_name": "LayoutView",
            "align_content": null,
            "align_items": null,
            "align_self": null,
            "border": null,
            "bottom": null,
            "display": null,
            "flex": null,
            "flex_flow": null,
            "grid_area": null,
            "grid_auto_columns": null,
            "grid_auto_flow": null,
            "grid_auto_rows": null,
            "grid_column": null,
            "grid_gap": null,
            "grid_row": null,
            "grid_template_areas": null,
            "grid_template_columns": null,
            "grid_template_rows": null,
            "height": null,
            "justify_content": null,
            "justify_items": null,
            "left": null,
            "margin": null,
            "max_height": null,
            "max_width": null,
            "min_height": null,
            "min_width": null,
            "object_fit": null,
            "object_position": null,
            "order": null,
            "overflow": null,
            "overflow_x": null,
            "overflow_y": null,
            "padding": null,
            "right": null,
            "top": null,
            "visibility": null,
            "width": null
          }
        },
        "42b69619bacd4740990034cf3cfcc1a9": {
          "model_module": "@jupyter-widgets/controls",
          "model_name": "DescriptionStyleModel",
          "model_module_version": "1.5.0",
          "state": {
            "_model_module": "@jupyter-widgets/controls",
            "_model_module_version": "1.5.0",
            "_model_name": "DescriptionStyleModel",
            "_view_count": null,
            "_view_module": "@jupyter-widgets/base",
            "_view_module_version": "1.2.0",
            "_view_name": "StyleView",
            "description_width": ""
          }
        }
      }
    }
  },
  "nbformat": 4,
  "nbformat_minor": 0
}